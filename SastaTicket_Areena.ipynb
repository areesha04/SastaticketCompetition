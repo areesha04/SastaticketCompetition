{
 "cells": [
  {
   "cell_type": "code",
   "execution_count": 1,
   "metadata": {
    "id": "fa8FlDLob2P_"
   },
   "outputs": [],
   "source": [
    "\n",
    "import pandas as pd\n",
    "import matplotlib.pyplot as plt\n",
    "import seaborn as sns\n",
    "\n",
    "import datetime as dt\n",
    "import numpy as np"
   ]
  },
  {
   "cell_type": "code",
   "execution_count": 2,
   "metadata": {
    "id": "w-lQk7uEb5eB"
   },
   "outputs": [],
   "source": [
    "data = pd.read_csv('X_train.csv')\n"
   ]
  },
  {
   "cell_type": "code",
   "execution_count": 3,
   "metadata": {
    "colab": {
     "base_uri": "https://localhost:8080/",
     "height": 658
    },
    "id": "ZDaJ1IHVga8E",
    "outputId": "8227c3d7-b9f5-4de5-e21f-b8ac6e630aa2"
   },
   "outputs": [
    {
     "data": {
      "text/html": [
       "<div>\n",
       "<style scoped>\n",
       "    .dataframe tbody tr th:only-of-type {\n",
       "        vertical-align: middle;\n",
       "    }\n",
       "\n",
       "    .dataframe tbody tr th {\n",
       "        vertical-align: top;\n",
       "    }\n",
       "\n",
       "    .dataframe thead th {\n",
       "        text-align: right;\n",
       "    }\n",
       "</style>\n",
       "<table border=\"1\" class=\"dataframe\">\n",
       "  <thead>\n",
       "    <tr style=\"text-align: right;\">\n",
       "      <th></th>\n",
       "      <th>Unnamed: 0</th>\n",
       "      <th>f1</th>\n",
       "      <th>f2</th>\n",
       "      <th>f3</th>\n",
       "      <th>f4</th>\n",
       "      <th>f5</th>\n",
       "      <th>f6</th>\n",
       "      <th>f7</th>\n",
       "      <th>f8</th>\n",
       "      <th>f9</th>\n",
       "      <th>f10</th>\n",
       "    </tr>\n",
       "  </thead>\n",
       "  <tbody>\n",
       "    <tr>\n",
       "      <th>0</th>\n",
       "      <td>0</td>\n",
       "      <td>2020-12-31 09:46:17.463002+00:00</td>\n",
       "      <td>x</td>\n",
       "      <td>y</td>\n",
       "      <td>2021-01-10 05:00:00+00:00</td>\n",
       "      <td>2021-01-10 07:00:00+00:00</td>\n",
       "      <td>gamma</td>\n",
       "      <td>True</td>\n",
       "      <td>0.0</td>\n",
       "      <td>0</td>\n",
       "      <td>c-2</td>\n",
       "    </tr>\n",
       "    <tr>\n",
       "      <th>1</th>\n",
       "      <td>1</td>\n",
       "      <td>2020-12-31 09:46:17.463002+00:00</td>\n",
       "      <td>x</td>\n",
       "      <td>y</td>\n",
       "      <td>2021-01-10 05:00:00+00:00</td>\n",
       "      <td>2021-01-10 07:00:00+00:00</td>\n",
       "      <td>gamma</td>\n",
       "      <td>True</td>\n",
       "      <td>32.0</td>\n",
       "      <td>1</td>\n",
       "      <td>c-2</td>\n",
       "    </tr>\n",
       "    <tr>\n",
       "      <th>2</th>\n",
       "      <td>2</td>\n",
       "      <td>2020-12-31 09:46:17.463002+00:00</td>\n",
       "      <td>x</td>\n",
       "      <td>y</td>\n",
       "      <td>2021-01-10 11:00:00+00:00</td>\n",
       "      <td>2021-01-10 13:00:00+00:00</td>\n",
       "      <td>gamma</td>\n",
       "      <td>True</td>\n",
       "      <td>32.0</td>\n",
       "      <td>1</td>\n",
       "      <td>c-4</td>\n",
       "    </tr>\n",
       "    <tr>\n",
       "      <th>3</th>\n",
       "      <td>3</td>\n",
       "      <td>2020-12-31 09:46:17.463002+00:00</td>\n",
       "      <td>x</td>\n",
       "      <td>y</td>\n",
       "      <td>2021-01-10 11:00:00+00:00</td>\n",
       "      <td>2021-01-10 13:00:00+00:00</td>\n",
       "      <td>gamma</td>\n",
       "      <td>True</td>\n",
       "      <td>32.0</td>\n",
       "      <td>2</td>\n",
       "      <td>c-4</td>\n",
       "    </tr>\n",
       "    <tr>\n",
       "      <th>4</th>\n",
       "      <td>4</td>\n",
       "      <td>2020-12-31 09:46:18.191119+00:00</td>\n",
       "      <td>x</td>\n",
       "      <td>y</td>\n",
       "      <td>2021-01-25 11:00:00+00:00</td>\n",
       "      <td>2021-01-25 12:55:00+00:00</td>\n",
       "      <td>beta</td>\n",
       "      <td>False</td>\n",
       "      <td>20.0</td>\n",
       "      <td>0</td>\n",
       "      <td>b-69</td>\n",
       "    </tr>\n",
       "    <tr>\n",
       "      <th>...</th>\n",
       "      <td>...</td>\n",
       "      <td>...</td>\n",
       "      <td>...</td>\n",
       "      <td>...</td>\n",
       "      <td>...</td>\n",
       "      <td>...</td>\n",
       "      <td>...</td>\n",
       "      <td>...</td>\n",
       "      <td>...</td>\n",
       "      <td>...</td>\n",
       "      <td>...</td>\n",
       "    </tr>\n",
       "    <tr>\n",
       "      <th>21776585</th>\n",
       "      <td>21776585</td>\n",
       "      <td>2021-08-31 23:29:18.122593+00:00</td>\n",
       "      <td>x</td>\n",
       "      <td>y</td>\n",
       "      <td>2021-09-03 10:00:00+00:00</td>\n",
       "      <td>2021-09-03 12:00:00+00:00</td>\n",
       "      <td>alpha</td>\n",
       "      <td>True</td>\n",
       "      <td>20.0</td>\n",
       "      <td>1</td>\n",
       "      <td>a-7</td>\n",
       "    </tr>\n",
       "    <tr>\n",
       "      <th>21776586</th>\n",
       "      <td>21776586</td>\n",
       "      <td>2021-08-31 23:29:18.122593+00:00</td>\n",
       "      <td>x</td>\n",
       "      <td>y</td>\n",
       "      <td>2021-09-03 13:40:00+00:00</td>\n",
       "      <td>2021-09-03 15:40:00+00:00</td>\n",
       "      <td>alpha</td>\n",
       "      <td>True</td>\n",
       "      <td>15.0</td>\n",
       "      <td>1</td>\n",
       "      <td>a-9</td>\n",
       "    </tr>\n",
       "    <tr>\n",
       "      <th>21776587</th>\n",
       "      <td>21776587</td>\n",
       "      <td>2021-08-31 23:29:18.961691+00:00</td>\n",
       "      <td>x</td>\n",
       "      <td>y</td>\n",
       "      <td>2021-09-03 04:40:00+00:00</td>\n",
       "      <td>2021-09-03 06:40:00+00:00</td>\n",
       "      <td>omega</td>\n",
       "      <td>True</td>\n",
       "      <td>20.0</td>\n",
       "      <td>1</td>\n",
       "      <td>d-1</td>\n",
       "    </tr>\n",
       "    <tr>\n",
       "      <th>21776588</th>\n",
       "      <td>21776588</td>\n",
       "      <td>2021-08-31 23:29:18.961691+00:00</td>\n",
       "      <td>x</td>\n",
       "      <td>y</td>\n",
       "      <td>2021-09-03 10:35:00+00:00</td>\n",
       "      <td>2021-09-03 12:35:00+00:00</td>\n",
       "      <td>omega</td>\n",
       "      <td>True</td>\n",
       "      <td>20.0</td>\n",
       "      <td>1</td>\n",
       "      <td>d-3</td>\n",
       "    </tr>\n",
       "    <tr>\n",
       "      <th>21776589</th>\n",
       "      <td>21776589</td>\n",
       "      <td>2021-08-31 23:29:18.961691+00:00</td>\n",
       "      <td>x</td>\n",
       "      <td>y</td>\n",
       "      <td>2021-09-03 17:05:00+00:00</td>\n",
       "      <td>2021-09-03 19:05:00+00:00</td>\n",
       "      <td>omega</td>\n",
       "      <td>True</td>\n",
       "      <td>20.0</td>\n",
       "      <td>1</td>\n",
       "      <td>d-5</td>\n",
       "    </tr>\n",
       "  </tbody>\n",
       "</table>\n",
       "<p>21776590 rows × 11 columns</p>\n",
       "</div>"
      ],
      "text/plain": [
       "          Unnamed: 0                                f1 f2 f3  \\\n",
       "0                  0  2020-12-31 09:46:17.463002+00:00  x  y   \n",
       "1                  1  2020-12-31 09:46:17.463002+00:00  x  y   \n",
       "2                  2  2020-12-31 09:46:17.463002+00:00  x  y   \n",
       "3                  3  2020-12-31 09:46:17.463002+00:00  x  y   \n",
       "4                  4  2020-12-31 09:46:18.191119+00:00  x  y   \n",
       "...              ...                               ... .. ..   \n",
       "21776585    21776585  2021-08-31 23:29:18.122593+00:00  x  y   \n",
       "21776586    21776586  2021-08-31 23:29:18.122593+00:00  x  y   \n",
       "21776587    21776587  2021-08-31 23:29:18.961691+00:00  x  y   \n",
       "21776588    21776588  2021-08-31 23:29:18.961691+00:00  x  y   \n",
       "21776589    21776589  2021-08-31 23:29:18.961691+00:00  x  y   \n",
       "\n",
       "                                 f4                         f5     f6     f7  \\\n",
       "0         2021-01-10 05:00:00+00:00  2021-01-10 07:00:00+00:00  gamma   True   \n",
       "1         2021-01-10 05:00:00+00:00  2021-01-10 07:00:00+00:00  gamma   True   \n",
       "2         2021-01-10 11:00:00+00:00  2021-01-10 13:00:00+00:00  gamma   True   \n",
       "3         2021-01-10 11:00:00+00:00  2021-01-10 13:00:00+00:00  gamma   True   \n",
       "4         2021-01-25 11:00:00+00:00  2021-01-25 12:55:00+00:00   beta  False   \n",
       "...                             ...                        ...    ...    ...   \n",
       "21776585  2021-09-03 10:00:00+00:00  2021-09-03 12:00:00+00:00  alpha   True   \n",
       "21776586  2021-09-03 13:40:00+00:00  2021-09-03 15:40:00+00:00  alpha   True   \n",
       "21776587  2021-09-03 04:40:00+00:00  2021-09-03 06:40:00+00:00  omega   True   \n",
       "21776588  2021-09-03 10:35:00+00:00  2021-09-03 12:35:00+00:00  omega   True   \n",
       "21776589  2021-09-03 17:05:00+00:00  2021-09-03 19:05:00+00:00  omega   True   \n",
       "\n",
       "            f8  f9   f10  \n",
       "0          0.0   0   c-2  \n",
       "1         32.0   1   c-2  \n",
       "2         32.0   1   c-4  \n",
       "3         32.0   2   c-4  \n",
       "4         20.0   0  b-69  \n",
       "...        ...  ..   ...  \n",
       "21776585  20.0   1   a-7  \n",
       "21776586  15.0   1   a-9  \n",
       "21776587  20.0   1   d-1  \n",
       "21776588  20.0   1   d-3  \n",
       "21776589  20.0   1   d-5  \n",
       "\n",
       "[21776590 rows x 11 columns]"
      ]
     },
     "execution_count": 3,
     "metadata": {},
     "output_type": "execute_result"
    }
   ],
   "source": [
    "data"
   ]
  },
  {
   "cell_type": "code",
   "execution_count": 4,
   "metadata": {
    "colab": {
     "base_uri": "https://localhost:8080/"
    },
    "id": "vgGohtvDhPkz",
    "outputId": "e7ae4963-e9fb-44d6-d13e-826f173801a9"
   },
   "outputs": [
    {
     "data": {
      "text/plain": [
       "Index(['Unnamed: 0', 'f1', 'f2', 'f3', 'f4', 'f5', 'f6', 'f7', 'f8', 'f9',\n",
       "       'f10'],\n",
       "      dtype='object')"
      ]
     },
     "execution_count": 4,
     "metadata": {},
     "output_type": "execute_result"
    }
   ],
   "source": [
    "data.columns"
   ]
  },
  {
   "cell_type": "code",
   "execution_count": 5,
   "metadata": {
    "id": "gcsYRf9OjnrL"
   },
   "outputs": [],
   "source": [
    "data.drop(['Unnamed: 0'], axis = 1,inplace= True)"
   ]
  },
  {
   "cell_type": "code",
   "execution_count": 6,
   "metadata": {
    "id": "1TH87LaKjkLQ"
   },
   "outputs": [],
   "source": [
    "data.rename(columns={'f1':'Purchase Time','f2':'Origin','f3':'Destination','f4':'Dept Date_Time','f5':'Arrival Date_Time','f6':'Airline','f7':'Refundable','f8':'Baggage_wt.','f9':'Baggage_pcs','f10':'Flight_no'},inplace=True)"
   ]
  },
  {
   "cell_type": "code",
   "execution_count": 7,
   "metadata": {},
   "outputs": [
    {
     "data": {
      "text/html": [
       "<div>\n",
       "<style scoped>\n",
       "    .dataframe tbody tr th:only-of-type {\n",
       "        vertical-align: middle;\n",
       "    }\n",
       "\n",
       "    .dataframe tbody tr th {\n",
       "        vertical-align: top;\n",
       "    }\n",
       "\n",
       "    .dataframe thead th {\n",
       "        text-align: right;\n",
       "    }\n",
       "</style>\n",
       "<table border=\"1\" class=\"dataframe\">\n",
       "  <thead>\n",
       "    <tr style=\"text-align: right;\">\n",
       "      <th></th>\n",
       "      <th>Unnamed: 0</th>\n",
       "      <th>target</th>\n",
       "    </tr>\n",
       "  </thead>\n",
       "  <tbody>\n",
       "    <tr>\n",
       "      <th>0</th>\n",
       "      <td>0</td>\n",
       "      <td>7400.0</td>\n",
       "    </tr>\n",
       "    <tr>\n",
       "      <th>1</th>\n",
       "      <td>1</td>\n",
       "      <td>8650.0</td>\n",
       "    </tr>\n",
       "    <tr>\n",
       "      <th>2</th>\n",
       "      <td>2</td>\n",
       "      <td>9150.0</td>\n",
       "    </tr>\n",
       "    <tr>\n",
       "      <th>3</th>\n",
       "      <td>3</td>\n",
       "      <td>10400.0</td>\n",
       "    </tr>\n",
       "    <tr>\n",
       "      <th>4</th>\n",
       "      <td>4</td>\n",
       "      <td>8697.0</td>\n",
       "    </tr>\n",
       "    <tr>\n",
       "      <th>...</th>\n",
       "      <td>...</td>\n",
       "      <td>...</td>\n",
       "    </tr>\n",
       "    <tr>\n",
       "      <th>21776585</th>\n",
       "      <td>21776585</td>\n",
       "      <td>8381.0</td>\n",
       "    </tr>\n",
       "    <tr>\n",
       "      <th>21776586</th>\n",
       "      <td>21776586</td>\n",
       "      <td>9045.0</td>\n",
       "    </tr>\n",
       "    <tr>\n",
       "      <th>21776587</th>\n",
       "      <td>21776587</td>\n",
       "      <td>6155.0</td>\n",
       "    </tr>\n",
       "    <tr>\n",
       "      <th>21776588</th>\n",
       "      <td>21776588</td>\n",
       "      <td>6155.0</td>\n",
       "    </tr>\n",
       "    <tr>\n",
       "      <th>21776589</th>\n",
       "      <td>21776589</td>\n",
       "      <td>6605.0</td>\n",
       "    </tr>\n",
       "  </tbody>\n",
       "</table>\n",
       "<p>21776590 rows × 2 columns</p>\n",
       "</div>"
      ],
      "text/plain": [
       "          Unnamed: 0   target\n",
       "0                  0   7400.0\n",
       "1                  1   8650.0\n",
       "2                  2   9150.0\n",
       "3                  3  10400.0\n",
       "4                  4   8697.0\n",
       "...              ...      ...\n",
       "21776585    21776585   8381.0\n",
       "21776586    21776586   9045.0\n",
       "21776587    21776587   6155.0\n",
       "21776588    21776588   6155.0\n",
       "21776589    21776589   6605.0\n",
       "\n",
       "[21776590 rows x 2 columns]"
      ]
     },
     "execution_count": 7,
     "metadata": {},
     "output_type": "execute_result"
    }
   ],
   "source": [
    "data1 = pd.read_csv('y_train.csv')\n",
    "data1"
   ]
  },
  {
   "cell_type": "code",
   "execution_count": 8,
   "metadata": {},
   "outputs": [],
   "source": [
    "test_data=pd.read_csv('X_test2.csv')\n",
    "# here we are importing the cleaned and prepared test data into the notebook"
   ]
  },
  {
   "cell_type": "code",
   "execution_count": 8,
   "metadata": {},
   "outputs": [],
   "source": [
    "extracted_col = data1[\"target\"]\n",
    "df=data.join(extracted_col)\n"
   ]
  },
  {
   "cell_type": "code",
   "execution_count": 9,
   "metadata": {},
   "outputs": [
    {
     "data": {
      "text/html": [
       "<div>\n",
       "<style scoped>\n",
       "    .dataframe tbody tr th:only-of-type {\n",
       "        vertical-align: middle;\n",
       "    }\n",
       "\n",
       "    .dataframe tbody tr th {\n",
       "        vertical-align: top;\n",
       "    }\n",
       "\n",
       "    .dataframe thead th {\n",
       "        text-align: right;\n",
       "    }\n",
       "</style>\n",
       "<table border=\"1\" class=\"dataframe\">\n",
       "  <thead>\n",
       "    <tr style=\"text-align: right;\">\n",
       "      <th></th>\n",
       "      <th>Purchase Time</th>\n",
       "      <th>Origin</th>\n",
       "      <th>Destination</th>\n",
       "      <th>Dept Date_Time</th>\n",
       "      <th>Arrival Date_Time</th>\n",
       "      <th>Airline</th>\n",
       "      <th>Refundable</th>\n",
       "      <th>Baggage_wt.</th>\n",
       "      <th>Baggage_pcs</th>\n",
       "      <th>Flight_no</th>\n",
       "      <th>target</th>\n",
       "    </tr>\n",
       "  </thead>\n",
       "  <tbody>\n",
       "    <tr>\n",
       "      <th>0</th>\n",
       "      <td>2020-12-31 09:46:17.463002+00:00</td>\n",
       "      <td>x</td>\n",
       "      <td>y</td>\n",
       "      <td>2021-01-10 05:00:00+00:00</td>\n",
       "      <td>2021-01-10 07:00:00+00:00</td>\n",
       "      <td>gamma</td>\n",
       "      <td>True</td>\n",
       "      <td>0.0</td>\n",
       "      <td>0</td>\n",
       "      <td>c-2</td>\n",
       "      <td>7400.0</td>\n",
       "    </tr>\n",
       "    <tr>\n",
       "      <th>1</th>\n",
       "      <td>2020-12-31 09:46:17.463002+00:00</td>\n",
       "      <td>x</td>\n",
       "      <td>y</td>\n",
       "      <td>2021-01-10 05:00:00+00:00</td>\n",
       "      <td>2021-01-10 07:00:00+00:00</td>\n",
       "      <td>gamma</td>\n",
       "      <td>True</td>\n",
       "      <td>32.0</td>\n",
       "      <td>1</td>\n",
       "      <td>c-2</td>\n",
       "      <td>8650.0</td>\n",
       "    </tr>\n",
       "    <tr>\n",
       "      <th>2</th>\n",
       "      <td>2020-12-31 09:46:17.463002+00:00</td>\n",
       "      <td>x</td>\n",
       "      <td>y</td>\n",
       "      <td>2021-01-10 11:00:00+00:00</td>\n",
       "      <td>2021-01-10 13:00:00+00:00</td>\n",
       "      <td>gamma</td>\n",
       "      <td>True</td>\n",
       "      <td>32.0</td>\n",
       "      <td>1</td>\n",
       "      <td>c-4</td>\n",
       "      <td>9150.0</td>\n",
       "    </tr>\n",
       "    <tr>\n",
       "      <th>3</th>\n",
       "      <td>2020-12-31 09:46:17.463002+00:00</td>\n",
       "      <td>x</td>\n",
       "      <td>y</td>\n",
       "      <td>2021-01-10 11:00:00+00:00</td>\n",
       "      <td>2021-01-10 13:00:00+00:00</td>\n",
       "      <td>gamma</td>\n",
       "      <td>True</td>\n",
       "      <td>32.0</td>\n",
       "      <td>2</td>\n",
       "      <td>c-4</td>\n",
       "      <td>10400.0</td>\n",
       "    </tr>\n",
       "    <tr>\n",
       "      <th>4</th>\n",
       "      <td>2020-12-31 09:46:18.191119+00:00</td>\n",
       "      <td>x</td>\n",
       "      <td>y</td>\n",
       "      <td>2021-01-25 11:00:00+00:00</td>\n",
       "      <td>2021-01-25 12:55:00+00:00</td>\n",
       "      <td>beta</td>\n",
       "      <td>False</td>\n",
       "      <td>20.0</td>\n",
       "      <td>0</td>\n",
       "      <td>b-69</td>\n",
       "      <td>8697.0</td>\n",
       "    </tr>\n",
       "    <tr>\n",
       "      <th>...</th>\n",
       "      <td>...</td>\n",
       "      <td>...</td>\n",
       "      <td>...</td>\n",
       "      <td>...</td>\n",
       "      <td>...</td>\n",
       "      <td>...</td>\n",
       "      <td>...</td>\n",
       "      <td>...</td>\n",
       "      <td>...</td>\n",
       "      <td>...</td>\n",
       "      <td>...</td>\n",
       "    </tr>\n",
       "    <tr>\n",
       "      <th>21776585</th>\n",
       "      <td>2021-08-31 23:29:18.122593+00:00</td>\n",
       "      <td>x</td>\n",
       "      <td>y</td>\n",
       "      <td>2021-09-03 10:00:00+00:00</td>\n",
       "      <td>2021-09-03 12:00:00+00:00</td>\n",
       "      <td>alpha</td>\n",
       "      <td>True</td>\n",
       "      <td>20.0</td>\n",
       "      <td>1</td>\n",
       "      <td>a-7</td>\n",
       "      <td>8381.0</td>\n",
       "    </tr>\n",
       "    <tr>\n",
       "      <th>21776586</th>\n",
       "      <td>2021-08-31 23:29:18.122593+00:00</td>\n",
       "      <td>x</td>\n",
       "      <td>y</td>\n",
       "      <td>2021-09-03 13:40:00+00:00</td>\n",
       "      <td>2021-09-03 15:40:00+00:00</td>\n",
       "      <td>alpha</td>\n",
       "      <td>True</td>\n",
       "      <td>15.0</td>\n",
       "      <td>1</td>\n",
       "      <td>a-9</td>\n",
       "      <td>9045.0</td>\n",
       "    </tr>\n",
       "    <tr>\n",
       "      <th>21776587</th>\n",
       "      <td>2021-08-31 23:29:18.961691+00:00</td>\n",
       "      <td>x</td>\n",
       "      <td>y</td>\n",
       "      <td>2021-09-03 04:40:00+00:00</td>\n",
       "      <td>2021-09-03 06:40:00+00:00</td>\n",
       "      <td>omega</td>\n",
       "      <td>True</td>\n",
       "      <td>20.0</td>\n",
       "      <td>1</td>\n",
       "      <td>d-1</td>\n",
       "      <td>6155.0</td>\n",
       "    </tr>\n",
       "    <tr>\n",
       "      <th>21776588</th>\n",
       "      <td>2021-08-31 23:29:18.961691+00:00</td>\n",
       "      <td>x</td>\n",
       "      <td>y</td>\n",
       "      <td>2021-09-03 10:35:00+00:00</td>\n",
       "      <td>2021-09-03 12:35:00+00:00</td>\n",
       "      <td>omega</td>\n",
       "      <td>True</td>\n",
       "      <td>20.0</td>\n",
       "      <td>1</td>\n",
       "      <td>d-3</td>\n",
       "      <td>6155.0</td>\n",
       "    </tr>\n",
       "    <tr>\n",
       "      <th>21776589</th>\n",
       "      <td>2021-08-31 23:29:18.961691+00:00</td>\n",
       "      <td>x</td>\n",
       "      <td>y</td>\n",
       "      <td>2021-09-03 17:05:00+00:00</td>\n",
       "      <td>2021-09-03 19:05:00+00:00</td>\n",
       "      <td>omega</td>\n",
       "      <td>True</td>\n",
       "      <td>20.0</td>\n",
       "      <td>1</td>\n",
       "      <td>d-5</td>\n",
       "      <td>6605.0</td>\n",
       "    </tr>\n",
       "  </tbody>\n",
       "</table>\n",
       "<p>21776590 rows × 11 columns</p>\n",
       "</div>"
      ],
      "text/plain": [
       "                             Purchase Time Origin Destination  \\\n",
       "0         2020-12-31 09:46:17.463002+00:00      x           y   \n",
       "1         2020-12-31 09:46:17.463002+00:00      x           y   \n",
       "2         2020-12-31 09:46:17.463002+00:00      x           y   \n",
       "3         2020-12-31 09:46:17.463002+00:00      x           y   \n",
       "4         2020-12-31 09:46:18.191119+00:00      x           y   \n",
       "...                                    ...    ...         ...   \n",
       "21776585  2021-08-31 23:29:18.122593+00:00      x           y   \n",
       "21776586  2021-08-31 23:29:18.122593+00:00      x           y   \n",
       "21776587  2021-08-31 23:29:18.961691+00:00      x           y   \n",
       "21776588  2021-08-31 23:29:18.961691+00:00      x           y   \n",
       "21776589  2021-08-31 23:29:18.961691+00:00      x           y   \n",
       "\n",
       "                     Dept Date_Time          Arrival Date_Time Airline  \\\n",
       "0         2021-01-10 05:00:00+00:00  2021-01-10 07:00:00+00:00   gamma   \n",
       "1         2021-01-10 05:00:00+00:00  2021-01-10 07:00:00+00:00   gamma   \n",
       "2         2021-01-10 11:00:00+00:00  2021-01-10 13:00:00+00:00   gamma   \n",
       "3         2021-01-10 11:00:00+00:00  2021-01-10 13:00:00+00:00   gamma   \n",
       "4         2021-01-25 11:00:00+00:00  2021-01-25 12:55:00+00:00    beta   \n",
       "...                             ...                        ...     ...   \n",
       "21776585  2021-09-03 10:00:00+00:00  2021-09-03 12:00:00+00:00   alpha   \n",
       "21776586  2021-09-03 13:40:00+00:00  2021-09-03 15:40:00+00:00   alpha   \n",
       "21776587  2021-09-03 04:40:00+00:00  2021-09-03 06:40:00+00:00   omega   \n",
       "21776588  2021-09-03 10:35:00+00:00  2021-09-03 12:35:00+00:00   omega   \n",
       "21776589  2021-09-03 17:05:00+00:00  2021-09-03 19:05:00+00:00   omega   \n",
       "\n",
       "          Refundable  Baggage_wt.  Baggage_pcs Flight_no   target  \n",
       "0               True          0.0            0       c-2   7400.0  \n",
       "1               True         32.0            1       c-2   8650.0  \n",
       "2               True         32.0            1       c-4   9150.0  \n",
       "3               True         32.0            2       c-4  10400.0  \n",
       "4              False         20.0            0      b-69   8697.0  \n",
       "...              ...          ...          ...       ...      ...  \n",
       "21776585        True         20.0            1       a-7   8381.0  \n",
       "21776586        True         15.0            1       a-9   9045.0  \n",
       "21776587        True         20.0            1       d-1   6155.0  \n",
       "21776588        True         20.0            1       d-3   6155.0  \n",
       "21776589        True         20.0            1       d-5   6605.0  \n",
       "\n",
       "[21776590 rows x 11 columns]"
      ]
     },
     "execution_count": 9,
     "metadata": {},
     "output_type": "execute_result"
    }
   ],
   "source": [
    "df"
   ]
  },
  {
   "cell_type": "code",
   "execution_count": 10,
   "metadata": {
    "colab": {
     "base_uri": "https://localhost:8080/"
    },
    "id": "l2XziXwOsXQn",
    "outputId": "9ef57471-9bca-4424-94c7-0ccd97695f6b"
   },
   "outputs": [
    {
     "name": "stdout",
     "output_type": "stream",
     "text": [
      "<class 'pandas.core.frame.DataFrame'>\n",
      "RangeIndex: 21776590 entries, 0 to 21776589\n",
      "Data columns (total 11 columns):\n",
      " #   Column             Dtype  \n",
      "---  ------             -----  \n",
      " 0   Purchase Time      object \n",
      " 1   Origin             object \n",
      " 2   Destination        object \n",
      " 3   Dept Date_Time     object \n",
      " 4   Arrival Date_Time  object \n",
      " 5   Airline            object \n",
      " 6   Refundable         bool   \n",
      " 7   Baggage_wt.        float64\n",
      " 8   Baggage_pcs        int64  \n",
      " 9   Flight_no          object \n",
      " 10  target             float64\n",
      "dtypes: bool(1), float64(2), int64(1), object(7)\n",
      "memory usage: 1.6+ GB\n"
     ]
    }
   ],
   "source": [
    "df.info()"
   ]
  },
  {
   "cell_type": "code",
   "execution_count": 11,
   "metadata": {
    "colab": {
     "base_uri": "https://localhost:8080/"
    },
    "id": "L4y7F9h_tzWs",
    "outputId": "d8c17e4a-dc0e-49da-f61f-065c01cc39d7"
   },
   "outputs": [
    {
     "data": {
      "text/plain": [
       "Purchase Time        0\n",
       "Origin               0\n",
       "Destination          0\n",
       "Dept Date_Time       0\n",
       "Arrival Date_Time    0\n",
       "Airline              0\n",
       "Refundable           0\n",
       "Baggage_wt.          0\n",
       "Baggage_pcs          0\n",
       "Flight_no            0\n",
       "target               0\n",
       "dtype: int64"
      ]
     },
     "execution_count": 11,
     "metadata": {},
     "output_type": "execute_result"
    }
   ],
   "source": [
    "df.isnull().sum()"
   ]
  },
  {
   "cell_type": "code",
   "execution_count": 12,
   "metadata": {
    "colab": {
     "base_uri": "https://localhost:8080/",
     "height": 374
    },
    "id": "-66WiP9_v8rO",
    "outputId": "0094f1ee-6d6a-4342-dad3-ec007d98375f"
   },
   "outputs": [
    {
     "data": {
      "text/html": [
       "<div>\n",
       "<style scoped>\n",
       "    .dataframe tbody tr th:only-of-type {\n",
       "        vertical-align: middle;\n",
       "    }\n",
       "\n",
       "    .dataframe tbody tr th {\n",
       "        vertical-align: top;\n",
       "    }\n",
       "\n",
       "    .dataframe thead th {\n",
       "        text-align: right;\n",
       "    }\n",
       "</style>\n",
       "<table border=\"1\" class=\"dataframe\">\n",
       "  <thead>\n",
       "    <tr style=\"text-align: right;\">\n",
       "      <th></th>\n",
       "      <th>Purchase Time</th>\n",
       "      <th>Origin</th>\n",
       "      <th>Destination</th>\n",
       "      <th>Dept Date_Time</th>\n",
       "      <th>Arrival Date_Time</th>\n",
       "      <th>Airline</th>\n",
       "      <th>Refundable</th>\n",
       "      <th>Baggage_wt.</th>\n",
       "      <th>Baggage_pcs</th>\n",
       "      <th>Flight_no</th>\n",
       "      <th>target</th>\n",
       "    </tr>\n",
       "  </thead>\n",
       "  <tbody>\n",
       "    <tr>\n",
       "      <th>70931</th>\n",
       "      <td>2021-01-02 11:48:49.032236+00:00</td>\n",
       "      <td>x</td>\n",
       "      <td>y</td>\n",
       "      <td>2021-01-08 13:00:00+00:00</td>\n",
       "      <td>2021-01-08 15:00:00+00:00</td>\n",
       "      <td>alpha</td>\n",
       "      <td>True</td>\n",
       "      <td>20.0</td>\n",
       "      <td>1</td>\n",
       "      <td>a-5</td>\n",
       "      <td>10227.0</td>\n",
       "    </tr>\n",
       "    <tr>\n",
       "      <th>70932</th>\n",
       "      <td>2021-01-02 11:48:49.032236+00:00</td>\n",
       "      <td>x</td>\n",
       "      <td>y</td>\n",
       "      <td>2021-01-08 05:15:00+00:00</td>\n",
       "      <td>2021-01-08 07:25:00+00:00</td>\n",
       "      <td>alpha</td>\n",
       "      <td>True</td>\n",
       "      <td>0.0</td>\n",
       "      <td>0</td>\n",
       "      <td>a-1</td>\n",
       "      <td>8739.0</td>\n",
       "    </tr>\n",
       "    <tr>\n",
       "      <th>70933</th>\n",
       "      <td>2021-01-02 11:48:49.032236+00:00</td>\n",
       "      <td>x</td>\n",
       "      <td>y</td>\n",
       "      <td>2021-01-08 05:15:00+00:00</td>\n",
       "      <td>2021-01-08 07:25:00+00:00</td>\n",
       "      <td>alpha</td>\n",
       "      <td>True</td>\n",
       "      <td>20.0</td>\n",
       "      <td>1</td>\n",
       "      <td>a-1</td>\n",
       "      <td>10227.0</td>\n",
       "    </tr>\n",
       "    <tr>\n",
       "      <th>70934</th>\n",
       "      <td>2021-01-02 11:48:49.032236+00:00</td>\n",
       "      <td>x</td>\n",
       "      <td>y</td>\n",
       "      <td>2021-01-08 13:00:00+00:00</td>\n",
       "      <td>2021-01-08 15:00:00+00:00</td>\n",
       "      <td>alpha</td>\n",
       "      <td>True</td>\n",
       "      <td>0.0</td>\n",
       "      <td>0</td>\n",
       "      <td>a-5</td>\n",
       "      <td>8739.0</td>\n",
       "    </tr>\n",
       "    <tr>\n",
       "      <th>70937</th>\n",
       "      <td>2021-01-02 11:48:49.032236+00:00</td>\n",
       "      <td>x</td>\n",
       "      <td>y</td>\n",
       "      <td>2021-01-08 16:00:00+00:00</td>\n",
       "      <td>2021-01-08 18:10:00+00:00</td>\n",
       "      <td>alpha</td>\n",
       "      <td>True</td>\n",
       "      <td>0.0</td>\n",
       "      <td>0</td>\n",
       "      <td>a-7</td>\n",
       "      <td>8739.0</td>\n",
       "    </tr>\n",
       "  </tbody>\n",
       "</table>\n",
       "</div>"
      ],
      "text/plain": [
       "                          Purchase Time Origin Destination  \\\n",
       "70931  2021-01-02 11:48:49.032236+00:00      x           y   \n",
       "70932  2021-01-02 11:48:49.032236+00:00      x           y   \n",
       "70933  2021-01-02 11:48:49.032236+00:00      x           y   \n",
       "70934  2021-01-02 11:48:49.032236+00:00      x           y   \n",
       "70937  2021-01-02 11:48:49.032236+00:00      x           y   \n",
       "\n",
       "                  Dept Date_Time          Arrival Date_Time Airline  \\\n",
       "70931  2021-01-08 13:00:00+00:00  2021-01-08 15:00:00+00:00   alpha   \n",
       "70932  2021-01-08 05:15:00+00:00  2021-01-08 07:25:00+00:00   alpha   \n",
       "70933  2021-01-08 05:15:00+00:00  2021-01-08 07:25:00+00:00   alpha   \n",
       "70934  2021-01-08 13:00:00+00:00  2021-01-08 15:00:00+00:00   alpha   \n",
       "70937  2021-01-08 16:00:00+00:00  2021-01-08 18:10:00+00:00   alpha   \n",
       "\n",
       "       Refundable  Baggage_wt.  Baggage_pcs Flight_no   target  \n",
       "70931        True         20.0            1       a-5  10227.0  \n",
       "70932        True          0.0            0       a-1   8739.0  \n",
       "70933        True         20.0            1       a-1  10227.0  \n",
       "70934        True          0.0            0       a-5   8739.0  \n",
       "70937        True          0.0            0       a-7   8739.0  "
      ]
     },
     "execution_count": 12,
     "metadata": {},
     "output_type": "execute_result"
    }
   ],
   "source": [
    "df[df.duplicated()].head()"
   ]
  },
  {
   "cell_type": "code",
   "execution_count": 12,
   "metadata": {
    "colab": {
     "base_uri": "https://localhost:8080/",
     "height": 374
    },
    "id": "wrPMWwUcwL-L",
    "outputId": "cdec3c9d-784c-499e-c796-ca07f5c5f884"
   },
   "outputs": [
    {
     "data": {
      "text/html": [
       "<div>\n",
       "<style scoped>\n",
       "    .dataframe tbody tr th:only-of-type {\n",
       "        vertical-align: middle;\n",
       "    }\n",
       "\n",
       "    .dataframe tbody tr th {\n",
       "        vertical-align: top;\n",
       "    }\n",
       "\n",
       "    .dataframe thead th {\n",
       "        text-align: right;\n",
       "    }\n",
       "</style>\n",
       "<table border=\"1\" class=\"dataframe\">\n",
       "  <thead>\n",
       "    <tr style=\"text-align: right;\">\n",
       "      <th></th>\n",
       "      <th>Purchase Time</th>\n",
       "      <th>Origin</th>\n",
       "      <th>Destination</th>\n",
       "      <th>Dept Date_Time</th>\n",
       "      <th>Arrival Date_Time</th>\n",
       "      <th>Airline</th>\n",
       "      <th>Refundable</th>\n",
       "      <th>Baggage_wt.</th>\n",
       "      <th>Baggage_pcs</th>\n",
       "      <th>Flight_no</th>\n",
       "      <th>target</th>\n",
       "    </tr>\n",
       "  </thead>\n",
       "  <tbody>\n",
       "    <tr>\n",
       "      <th>0</th>\n",
       "      <td>2020-12-31 09:46:17.463002+00:00</td>\n",
       "      <td>x</td>\n",
       "      <td>y</td>\n",
       "      <td>2021-01-10 05:00:00+00:00</td>\n",
       "      <td>2021-01-10 07:00:00+00:00</td>\n",
       "      <td>gamma</td>\n",
       "      <td>True</td>\n",
       "      <td>0.0</td>\n",
       "      <td>0</td>\n",
       "      <td>c-2</td>\n",
       "      <td>7400.0</td>\n",
       "    </tr>\n",
       "    <tr>\n",
       "      <th>1</th>\n",
       "      <td>2020-12-31 09:46:17.463002+00:00</td>\n",
       "      <td>x</td>\n",
       "      <td>y</td>\n",
       "      <td>2021-01-10 05:00:00+00:00</td>\n",
       "      <td>2021-01-10 07:00:00+00:00</td>\n",
       "      <td>gamma</td>\n",
       "      <td>True</td>\n",
       "      <td>32.0</td>\n",
       "      <td>1</td>\n",
       "      <td>c-2</td>\n",
       "      <td>8650.0</td>\n",
       "    </tr>\n",
       "    <tr>\n",
       "      <th>2</th>\n",
       "      <td>2020-12-31 09:46:17.463002+00:00</td>\n",
       "      <td>x</td>\n",
       "      <td>y</td>\n",
       "      <td>2021-01-10 11:00:00+00:00</td>\n",
       "      <td>2021-01-10 13:00:00+00:00</td>\n",
       "      <td>gamma</td>\n",
       "      <td>True</td>\n",
       "      <td>32.0</td>\n",
       "      <td>1</td>\n",
       "      <td>c-4</td>\n",
       "      <td>9150.0</td>\n",
       "    </tr>\n",
       "    <tr>\n",
       "      <th>3</th>\n",
       "      <td>2020-12-31 09:46:17.463002+00:00</td>\n",
       "      <td>x</td>\n",
       "      <td>y</td>\n",
       "      <td>2021-01-10 11:00:00+00:00</td>\n",
       "      <td>2021-01-10 13:00:00+00:00</td>\n",
       "      <td>gamma</td>\n",
       "      <td>True</td>\n",
       "      <td>32.0</td>\n",
       "      <td>2</td>\n",
       "      <td>c-4</td>\n",
       "      <td>10400.0</td>\n",
       "    </tr>\n",
       "    <tr>\n",
       "      <th>4</th>\n",
       "      <td>2020-12-31 09:46:18.191119+00:00</td>\n",
       "      <td>x</td>\n",
       "      <td>y</td>\n",
       "      <td>2021-01-25 11:00:00+00:00</td>\n",
       "      <td>2021-01-25 12:55:00+00:00</td>\n",
       "      <td>beta</td>\n",
       "      <td>False</td>\n",
       "      <td>20.0</td>\n",
       "      <td>0</td>\n",
       "      <td>b-69</td>\n",
       "      <td>8697.0</td>\n",
       "    </tr>\n",
       "  </tbody>\n",
       "</table>\n",
       "</div>"
      ],
      "text/plain": [
       "                      Purchase Time Origin Destination  \\\n",
       "0  2020-12-31 09:46:17.463002+00:00      x           y   \n",
       "1  2020-12-31 09:46:17.463002+00:00      x           y   \n",
       "2  2020-12-31 09:46:17.463002+00:00      x           y   \n",
       "3  2020-12-31 09:46:17.463002+00:00      x           y   \n",
       "4  2020-12-31 09:46:18.191119+00:00      x           y   \n",
       "\n",
       "              Dept Date_Time          Arrival Date_Time Airline  Refundable  \\\n",
       "0  2021-01-10 05:00:00+00:00  2021-01-10 07:00:00+00:00   gamma        True   \n",
       "1  2021-01-10 05:00:00+00:00  2021-01-10 07:00:00+00:00   gamma        True   \n",
       "2  2021-01-10 11:00:00+00:00  2021-01-10 13:00:00+00:00   gamma        True   \n",
       "3  2021-01-10 11:00:00+00:00  2021-01-10 13:00:00+00:00   gamma        True   \n",
       "4  2021-01-25 11:00:00+00:00  2021-01-25 12:55:00+00:00    beta       False   \n",
       "\n",
       "   Baggage_wt.  Baggage_pcs Flight_no   target  \n",
       "0          0.0            0       c-2   7400.0  \n",
       "1         32.0            1       c-2   8650.0  \n",
       "2         32.0            1       c-4   9150.0  \n",
       "3         32.0            2       c-4  10400.0  \n",
       "4         20.0            0      b-69   8697.0  "
      ]
     },
     "execution_count": 12,
     "metadata": {},
     "output_type": "execute_result"
    }
   ],
   "source": [
    "df.drop_duplicates(keep='first',inplace=True)\n",
    "df.head()"
   ]
  },
  {
   "cell_type": "code",
   "execution_count": 13,
   "metadata": {
    "colab": {
     "base_uri": "https://localhost:8080/"
    },
    "id": "Eo_r58Q1xDmB",
    "outputId": "8b851157-ec7d-4617-87ec-c8383f047ef5"
   },
   "outputs": [
    {
     "data": {
      "text/plain": [
       "(21775784, 11)"
      ]
     },
     "execution_count": 13,
     "metadata": {},
     "output_type": "execute_result"
    }
   ],
   "source": [
    "df.shape"
   ]
  },
  {
   "cell_type": "code",
   "execution_count": 14,
   "metadata": {
    "colab": {
     "base_uri": "https://localhost:8080/"
    },
    "id": "h1b1vTlpz0_z",
    "outputId": "c1f7efff-016b-4fe6-9081-b4eb0772f241"
   },
   "outputs": [
    {
     "data": {
      "text/plain": [
       "array(['gamma', 'beta', 'alpha', 'omega'], dtype=object)"
      ]
     },
     "execution_count": 14,
     "metadata": {},
     "output_type": "execute_result"
    }
   ],
   "source": [
    "df['Airline'].unique()"
   ]
  },
  {
   "cell_type": "code",
   "execution_count": 15,
   "metadata": {
    "colab": {
     "base_uri": "https://localhost:8080/"
    },
    "id": "i-koT_sxz6ui",
    "outputId": "ed430503-dfa4-4a0c-e51b-91d047612e3a"
   },
   "outputs": [
    {
     "data": {
      "text/plain": [
       "array(['y'], dtype=object)"
      ]
     },
     "execution_count": 15,
     "metadata": {},
     "output_type": "execute_result"
    }
   ],
   "source": [
    "df['Destination'].unique()"
   ]
  },
  {
   "cell_type": "code",
   "execution_count": 16,
   "metadata": {
    "colab": {
     "base_uri": "https://localhost:8080/"
    },
    "id": "sDstd_TbGV8d",
    "outputId": "aa1e4e89-b6c1-451f-deab-f8e88ea2f468"
   },
   "outputs": [
    {
     "data": {
      "text/plain": [
       "array(['x'], dtype=object)"
      ]
     },
     "execution_count": 16,
     "metadata": {},
     "output_type": "execute_result"
    }
   ],
   "source": [
    "df['Origin'].unique()"
   ]
  },
  {
   "cell_type": "code",
   "execution_count": 17,
   "metadata": {
    "id": "q2gOsIL-0L7o"
   },
   "outputs": [],
   "source": [
    "df['Purchase Time'] =  pd.to_datetime(df['Purchase Time'])"
   ]
  },
  {
   "cell_type": "code",
   "execution_count": 18,
   "metadata": {
    "id": "TT-hOvrDVqBY"
   },
   "outputs": [],
   "source": [
    "df['Dept Date_Time'] =  pd.to_datetime(df['Dept Date_Time'])\n",
    "t1 = df['Dept Date_Time']"
   ]
  },
  {
   "cell_type": "code",
   "execution_count": 19,
   "metadata": {
    "id": "UW0cqttBVrFx"
   },
   "outputs": [],
   "source": [
    "df['Arrival Date_Time'] =  pd.to_datetime(df['Arrival Date_Time'])\n",
    "t2 = df['Dept Date_Time']"
   ]
  },
  {
   "cell_type": "code",
   "execution_count": 20,
   "metadata": {
    "colab": {
     "base_uri": "https://localhost:8080/",
     "height": 507
    },
    "id": "mlh--uYwWRd_",
    "outputId": "1c2c130b-2889-4184-8e7a-f5f80097f976"
   },
   "outputs": [
    {
     "name": "stdout",
     "output_type": "stream",
     "text": [
      "\n",
      "\n",
      "\n",
      "Constant Features are   : ['Origin', 'Destination']\n",
      "\n",
      "\n",
      "ALL FEATURES WITH UNIQUE VALUES : \n",
      "\n"
     ]
    },
    {
     "data": {
      "text/html": [
       "<div>\n",
       "<style scoped>\n",
       "    .dataframe tbody tr th:only-of-type {\n",
       "        vertical-align: middle;\n",
       "    }\n",
       "\n",
       "    .dataframe tbody tr th {\n",
       "        vertical-align: top;\n",
       "    }\n",
       "\n",
       "    .dataframe thead th {\n",
       "        text-align: right;\n",
       "    }\n",
       "</style>\n",
       "<table border=\"1\" class=\"dataframe\">\n",
       "  <thead>\n",
       "    <tr style=\"text-align: right;\">\n",
       "      <th></th>\n",
       "      <th>COLUMN NAMES</th>\n",
       "      <th>Values Count</th>\n",
       "    </tr>\n",
       "  </thead>\n",
       "  <tbody>\n",
       "    <tr>\n",
       "      <th>0</th>\n",
       "      <td>Purchase Time</td>\n",
       "      <td>4025346</td>\n",
       "    </tr>\n",
       "    <tr>\n",
       "      <th>1</th>\n",
       "      <td>Origin</td>\n",
       "      <td>1</td>\n",
       "    </tr>\n",
       "    <tr>\n",
       "      <th>2</th>\n",
       "      <td>Destination</td>\n",
       "      <td>1</td>\n",
       "    </tr>\n",
       "    <tr>\n",
       "      <th>3</th>\n",
       "      <td>Dept Date_Time</td>\n",
       "      <td>6315</td>\n",
       "    </tr>\n",
       "    <tr>\n",
       "      <th>4</th>\n",
       "      <td>Arrival Date_Time</td>\n",
       "      <td>7518</td>\n",
       "    </tr>\n",
       "    <tr>\n",
       "      <th>5</th>\n",
       "      <td>Airline</td>\n",
       "      <td>4</td>\n",
       "    </tr>\n",
       "    <tr>\n",
       "      <th>6</th>\n",
       "      <td>Refundable</td>\n",
       "      <td>2</td>\n",
       "    </tr>\n",
       "    <tr>\n",
       "      <th>7</th>\n",
       "      <td>Baggage_wt.</td>\n",
       "      <td>7</td>\n",
       "    </tr>\n",
       "    <tr>\n",
       "      <th>8</th>\n",
       "      <td>Baggage_pcs</td>\n",
       "      <td>3</td>\n",
       "    </tr>\n",
       "    <tr>\n",
       "      <th>9</th>\n",
       "      <td>Flight_no</td>\n",
       "      <td>19</td>\n",
       "    </tr>\n",
       "    <tr>\n",
       "      <th>10</th>\n",
       "      <td>target</td>\n",
       "      <td>1630</td>\n",
       "    </tr>\n",
       "  </tbody>\n",
       "</table>\n",
       "</div>"
      ],
      "text/plain": [
       "         COLUMN NAMES   Values Count\n",
       "0       Purchase Time        4025346\n",
       "1              Origin              1\n",
       "2         Destination              1\n",
       "3      Dept Date_Time           6315\n",
       "4   Arrival Date_Time           7518\n",
       "5             Airline              4\n",
       "6          Refundable              2\n",
       "7         Baggage_wt.              7\n",
       "8         Baggage_pcs              3\n",
       "9           Flight_no             19\n",
       "10             target           1630"
      ]
     },
     "execution_count": 20,
     "metadata": {},
     "output_type": "execute_result"
    }
   ],
   "source": [
    "const_feature = []\n",
    "uniq_val_count = []\n",
    "unique_cols = dict()\n",
    "for col in list(df.columns):\n",
    "    uniq_val_count.append(df[col].nunique())\n",
    "    if(df[col].nunique()==1):\n",
    "        const_feature.append(col)\n",
    "    \n",
    "print('\\n\\n\\nConstant Features are   :',const_feature)\n",
    "print('\\n\\nALL FEATURES WITH UNIQUE VALUES : \\n')\n",
    "pd.DataFrame({'COLUMN NAMES':list(df.columns) ,' Values Count':uniq_val_count})\n"
   ]
  },
  {
   "cell_type": "code",
   "execution_count": 21,
   "metadata": {
    "id": "c6r2ePUKWRoW"
   },
   "outputs": [],
   "source": [
    "df=df.drop(columns=const_feature)"
   ]
  },
  {
   "cell_type": "code",
   "execution_count": 22,
   "metadata": {},
   "outputs": [
    {
     "data": {
      "text/plain": [
       "0           10.0\n",
       "1           10.0\n",
       "2           11.0\n",
       "3           11.0\n",
       "4           26.0\n",
       "            ... \n",
       "21776585     3.0\n",
       "21776586     3.0\n",
       "21776587     3.0\n",
       "21776588     3.0\n",
       "21776589     3.0\n",
       "Name: pur-dept-diff, Length: 21775784, dtype: float64"
      ]
     },
     "execution_count": 22,
     "metadata": {},
     "output_type": "execute_result"
    }
   ],
   "source": [
    "df['pur-dept-diff'] = df['Dept Date_Time'] - df['Purchase Time']\n",
    "df['pur-dept-diff']=df['pur-dept-diff']/np.timedelta64(1,'h')\n",
    "df['pur-dept-diff'] = df['pur-dept-diff']/24\n",
    "df['pur-dept-diff'].apply(np.ceil)"
   ]
  },
  {
   "cell_type": "code",
   "execution_count": 23,
   "metadata": {
    "id": "BNa_2weA8SbC"
   },
   "outputs": [],
   "source": [
    "df=df.set_index(\"Purchase Time\")"
   ]
  },
  {
   "cell_type": "code",
   "execution_count": 24,
   "metadata": {
    "colab": {
     "base_uri": "https://localhost:8080/",
     "height": 368
    },
    "id": "sPMVZ3Hb8k3d",
    "outputId": "233e5437-2b0b-4483-f456-fefd21ff76ff"
   },
   "outputs": [
    {
     "data": {
      "text/html": [
       "<div>\n",
       "<style scoped>\n",
       "    .dataframe tbody tr th:only-of-type {\n",
       "        vertical-align: middle;\n",
       "    }\n",
       "\n",
       "    .dataframe tbody tr th {\n",
       "        vertical-align: top;\n",
       "    }\n",
       "\n",
       "    .dataframe thead th {\n",
       "        text-align: right;\n",
       "    }\n",
       "</style>\n",
       "<table border=\"1\" class=\"dataframe\">\n",
       "  <thead>\n",
       "    <tr style=\"text-align: right;\">\n",
       "      <th></th>\n",
       "      <th>Dept Date_Time</th>\n",
       "      <th>Arrival Date_Time</th>\n",
       "      <th>Airline</th>\n",
       "      <th>Refundable</th>\n",
       "      <th>Baggage_wt.</th>\n",
       "      <th>Baggage_pcs</th>\n",
       "      <th>Flight_no</th>\n",
       "      <th>target</th>\n",
       "      <th>pur-dept-diff</th>\n",
       "    </tr>\n",
       "    <tr>\n",
       "      <th>Purchase Time</th>\n",
       "      <th></th>\n",
       "      <th></th>\n",
       "      <th></th>\n",
       "      <th></th>\n",
       "      <th></th>\n",
       "      <th></th>\n",
       "      <th></th>\n",
       "      <th></th>\n",
       "      <th></th>\n",
       "    </tr>\n",
       "  </thead>\n",
       "  <tbody>\n",
       "    <tr>\n",
       "      <th>2020-12-31 09:46:17.463002+00:00</th>\n",
       "      <td>2021-01-10 05:00:00+00:00</td>\n",
       "      <td>2021-01-10 07:00:00+00:00</td>\n",
       "      <td>gamma</td>\n",
       "      <td>True</td>\n",
       "      <td>0.0</td>\n",
       "      <td>0</td>\n",
       "      <td>c-2</td>\n",
       "      <td>7400.0</td>\n",
       "      <td>9.801187</td>\n",
       "    </tr>\n",
       "    <tr>\n",
       "      <th>2020-12-31 09:46:17.463002+00:00</th>\n",
       "      <td>2021-01-10 05:00:00+00:00</td>\n",
       "      <td>2021-01-10 07:00:00+00:00</td>\n",
       "      <td>gamma</td>\n",
       "      <td>True</td>\n",
       "      <td>32.0</td>\n",
       "      <td>1</td>\n",
       "      <td>c-2</td>\n",
       "      <td>8650.0</td>\n",
       "      <td>9.801187</td>\n",
       "    </tr>\n",
       "    <tr>\n",
       "      <th>2020-12-31 09:46:17.463002+00:00</th>\n",
       "      <td>2021-01-10 11:00:00+00:00</td>\n",
       "      <td>2021-01-10 13:00:00+00:00</td>\n",
       "      <td>gamma</td>\n",
       "      <td>True</td>\n",
       "      <td>32.0</td>\n",
       "      <td>1</td>\n",
       "      <td>c-4</td>\n",
       "      <td>9150.0</td>\n",
       "      <td>10.051187</td>\n",
       "    </tr>\n",
       "    <tr>\n",
       "      <th>2020-12-31 09:46:17.463002+00:00</th>\n",
       "      <td>2021-01-10 11:00:00+00:00</td>\n",
       "      <td>2021-01-10 13:00:00+00:00</td>\n",
       "      <td>gamma</td>\n",
       "      <td>True</td>\n",
       "      <td>32.0</td>\n",
       "      <td>2</td>\n",
       "      <td>c-4</td>\n",
       "      <td>10400.0</td>\n",
       "      <td>10.051187</td>\n",
       "    </tr>\n",
       "    <tr>\n",
       "      <th>2020-12-31 09:46:18.191119+00:00</th>\n",
       "      <td>2021-01-25 11:00:00+00:00</td>\n",
       "      <td>2021-01-25 12:55:00+00:00</td>\n",
       "      <td>beta</td>\n",
       "      <td>False</td>\n",
       "      <td>20.0</td>\n",
       "      <td>0</td>\n",
       "      <td>b-69</td>\n",
       "      <td>8697.0</td>\n",
       "      <td>25.051178</td>\n",
       "    </tr>\n",
       "  </tbody>\n",
       "</table>\n",
       "</div>"
      ],
      "text/plain": [
       "                                            Dept Date_Time  \\\n",
       "Purchase Time                                                \n",
       "2020-12-31 09:46:17.463002+00:00 2021-01-10 05:00:00+00:00   \n",
       "2020-12-31 09:46:17.463002+00:00 2021-01-10 05:00:00+00:00   \n",
       "2020-12-31 09:46:17.463002+00:00 2021-01-10 11:00:00+00:00   \n",
       "2020-12-31 09:46:17.463002+00:00 2021-01-10 11:00:00+00:00   \n",
       "2020-12-31 09:46:18.191119+00:00 2021-01-25 11:00:00+00:00   \n",
       "\n",
       "                                         Arrival Date_Time Airline  \\\n",
       "Purchase Time                                                        \n",
       "2020-12-31 09:46:17.463002+00:00 2021-01-10 07:00:00+00:00   gamma   \n",
       "2020-12-31 09:46:17.463002+00:00 2021-01-10 07:00:00+00:00   gamma   \n",
       "2020-12-31 09:46:17.463002+00:00 2021-01-10 13:00:00+00:00   gamma   \n",
       "2020-12-31 09:46:17.463002+00:00 2021-01-10 13:00:00+00:00   gamma   \n",
       "2020-12-31 09:46:18.191119+00:00 2021-01-25 12:55:00+00:00    beta   \n",
       "\n",
       "                                  Refundable  Baggage_wt.  Baggage_pcs  \\\n",
       "Purchase Time                                                            \n",
       "2020-12-31 09:46:17.463002+00:00        True          0.0            0   \n",
       "2020-12-31 09:46:17.463002+00:00        True         32.0            1   \n",
       "2020-12-31 09:46:17.463002+00:00        True         32.0            1   \n",
       "2020-12-31 09:46:17.463002+00:00        True         32.0            2   \n",
       "2020-12-31 09:46:18.191119+00:00       False         20.0            0   \n",
       "\n",
       "                                 Flight_no   target  pur-dept-diff  \n",
       "Purchase Time                                                       \n",
       "2020-12-31 09:46:17.463002+00:00       c-2   7400.0       9.801187  \n",
       "2020-12-31 09:46:17.463002+00:00       c-2   8650.0       9.801187  \n",
       "2020-12-31 09:46:17.463002+00:00       c-4   9150.0      10.051187  \n",
       "2020-12-31 09:46:17.463002+00:00       c-4  10400.0      10.051187  \n",
       "2020-12-31 09:46:18.191119+00:00      b-69   8697.0      25.051178  "
      ]
     },
     "execution_count": 24,
     "metadata": {},
     "output_type": "execute_result"
    }
   ],
   "source": [
    "df.head()"
   ]
  },
  {
   "cell_type": "code",
   "execution_count": 25,
   "metadata": {
    "colab": {
     "base_uri": "https://localhost:8080/",
     "height": 405
    },
    "id": "z1iB-8yX8oZV",
    "outputId": "6ffa9552-1de2-4cc4-9d99-c9a6ae78a146"
   },
   "outputs": [
    {
     "data": {
      "text/html": [
       "<div>\n",
       "<style scoped>\n",
       "    .dataframe tbody tr th:only-of-type {\n",
       "        vertical-align: middle;\n",
       "    }\n",
       "\n",
       "    .dataframe tbody tr th {\n",
       "        vertical-align: top;\n",
       "    }\n",
       "\n",
       "    .dataframe thead th {\n",
       "        text-align: right;\n",
       "    }\n",
       "</style>\n",
       "<table border=\"1\" class=\"dataframe\">\n",
       "  <thead>\n",
       "    <tr style=\"text-align: right;\">\n",
       "      <th></th>\n",
       "      <th>Purchase Time</th>\n",
       "      <th>Origin</th>\n",
       "      <th>Destination</th>\n",
       "      <th>Dept Date_Time</th>\n",
       "      <th>Arrival Date_Time</th>\n",
       "      <th>Airline</th>\n",
       "      <th>Refundable</th>\n",
       "      <th>Baggage_wt.</th>\n",
       "      <th>Baggage_pcs</th>\n",
       "      <th>Flight_no</th>\n",
       "    </tr>\n",
       "  </thead>\n",
       "  <tbody>\n",
       "    <tr>\n",
       "      <th>5178421</th>\n",
       "      <td>2021-04-21 23:16:59.783001+00:00</td>\n",
       "      <td>x</td>\n",
       "      <td>y</td>\n",
       "      <td>2021-05-20 15:30:00+00:00</td>\n",
       "      <td>2021-05-20 17:30:00+00:00</td>\n",
       "      <td>alpha</td>\n",
       "      <td>True</td>\n",
       "      <td>35.0</td>\n",
       "      <td>1</td>\n",
       "      <td>a-7</td>\n",
       "    </tr>\n",
       "    <tr>\n",
       "      <th>14424748</th>\n",
       "      <td>2021-07-14 13:12:54.184376+00:00</td>\n",
       "      <td>x</td>\n",
       "      <td>y</td>\n",
       "      <td>2021-08-05 04:00:00+00:00</td>\n",
       "      <td>2021-08-05 06:00:00+00:00</td>\n",
       "      <td>alpha</td>\n",
       "      <td>True</td>\n",
       "      <td>15.0</td>\n",
       "      <td>1</td>\n",
       "      <td>a-1</td>\n",
       "    </tr>\n",
       "    <tr>\n",
       "      <th>14616373</th>\n",
       "      <td>2021-07-15 19:33:05.984310+00:00</td>\n",
       "      <td>x</td>\n",
       "      <td>y</td>\n",
       "      <td>2021-07-26 04:00:00+00:00</td>\n",
       "      <td>2021-07-26 06:00:00+00:00</td>\n",
       "      <td>alpha</td>\n",
       "      <td>True</td>\n",
       "      <td>35.0</td>\n",
       "      <td>1</td>\n",
       "      <td>a-1</td>\n",
       "    </tr>\n",
       "    <tr>\n",
       "      <th>3023737</th>\n",
       "      <td>2021-03-11 07:09:48.032682+00:00</td>\n",
       "      <td>x</td>\n",
       "      <td>y</td>\n",
       "      <td>2021-03-17 11:00:00+00:00</td>\n",
       "      <td>2021-03-17 13:00:00+00:00</td>\n",
       "      <td>gamma</td>\n",
       "      <td>True</td>\n",
       "      <td>20.0</td>\n",
       "      <td>1</td>\n",
       "      <td>c-4</td>\n",
       "    </tr>\n",
       "    <tr>\n",
       "      <th>1081124</th>\n",
       "      <td>2021-01-31 06:34:59.071992+00:00</td>\n",
       "      <td>x</td>\n",
       "      <td>y</td>\n",
       "      <td>2021-02-17 17:00:00+00:00</td>\n",
       "      <td>2021-02-17 18:59:00+00:00</td>\n",
       "      <td>gamma</td>\n",
       "      <td>True</td>\n",
       "      <td>0.0</td>\n",
       "      <td>0</td>\n",
       "      <td>c-6</td>\n",
       "    </tr>\n",
       "  </tbody>\n",
       "</table>\n",
       "</div>"
      ],
      "text/plain": [
       "                             Purchase Time Origin Destination  \\\n",
       "5178421   2021-04-21 23:16:59.783001+00:00      x           y   \n",
       "14424748  2021-07-14 13:12:54.184376+00:00      x           y   \n",
       "14616373  2021-07-15 19:33:05.984310+00:00      x           y   \n",
       "3023737   2021-03-11 07:09:48.032682+00:00      x           y   \n",
       "1081124   2021-01-31 06:34:59.071992+00:00      x           y   \n",
       "\n",
       "                     Dept Date_Time          Arrival Date_Time Airline  \\\n",
       "5178421   2021-05-20 15:30:00+00:00  2021-05-20 17:30:00+00:00   alpha   \n",
       "14424748  2021-08-05 04:00:00+00:00  2021-08-05 06:00:00+00:00   alpha   \n",
       "14616373  2021-07-26 04:00:00+00:00  2021-07-26 06:00:00+00:00   alpha   \n",
       "3023737   2021-03-17 11:00:00+00:00  2021-03-17 13:00:00+00:00   gamma   \n",
       "1081124   2021-02-17 17:00:00+00:00  2021-02-17 18:59:00+00:00   gamma   \n",
       "\n",
       "          Refundable  Baggage_wt.  Baggage_pcs Flight_no  \n",
       "5178421         True         35.0            1       a-7  \n",
       "14424748        True         15.0            1       a-1  \n",
       "14616373        True         35.0            1       a-1  \n",
       "3023737         True         20.0            1       c-4  \n",
       "1081124         True          0.0            0       c-6  "
      ]
     },
     "execution_count": 25,
     "metadata": {},
     "output_type": "execute_result"
    }
   ],
   "source": [
    "# Add columns with year, month, and weekday name\n",
    "\n",
    "df['Month'] = df.index.month\n",
    "df['Weekday Name'] = df.index.day_name()\n",
    "df['hour']=df.index.hour\n",
    "df['minute']=df.index.minute\n",
    "df['second']=df.index.second\n",
    "# Display a random sampling of 5 rows\n",
    "data.sample(5, random_state=0)"
   ]
  },
  {
   "cell_type": "code",
   "execution_count": 26,
   "metadata": {
    "colab": {
     "base_uri": "https://localhost:8080/",
     "height": 710
    },
    "id": "OGHZyE1LZIpN",
    "outputId": "b83b6aaf-b9b9-4b32-d246-335c06b87add"
   },
   "outputs": [
    {
     "data": {
      "text/html": [
       "<div>\n",
       "<style scoped>\n",
       "    .dataframe tbody tr th:only-of-type {\n",
       "        vertical-align: middle;\n",
       "    }\n",
       "\n",
       "    .dataframe tbody tr th {\n",
       "        vertical-align: top;\n",
       "    }\n",
       "\n",
       "    .dataframe thead th {\n",
       "        text-align: right;\n",
       "    }\n",
       "</style>\n",
       "<table border=\"1\" class=\"dataframe\">\n",
       "  <thead>\n",
       "    <tr style=\"text-align: right;\">\n",
       "      <th></th>\n",
       "      <th>Dept Date_Time</th>\n",
       "      <th>Arrival Date_Time</th>\n",
       "      <th>Airline</th>\n",
       "      <th>Refundable</th>\n",
       "      <th>Baggage_wt.</th>\n",
       "      <th>Baggage_pcs</th>\n",
       "      <th>Flight_no</th>\n",
       "      <th>target</th>\n",
       "      <th>pur-dept-diff</th>\n",
       "      <th>Month</th>\n",
       "      <th>Weekday Name</th>\n",
       "      <th>hour</th>\n",
       "      <th>minute</th>\n",
       "      <th>second</th>\n",
       "    </tr>\n",
       "    <tr>\n",
       "      <th>Purchase Time</th>\n",
       "      <th></th>\n",
       "      <th></th>\n",
       "      <th></th>\n",
       "      <th></th>\n",
       "      <th></th>\n",
       "      <th></th>\n",
       "      <th></th>\n",
       "      <th></th>\n",
       "      <th></th>\n",
       "      <th></th>\n",
       "      <th></th>\n",
       "      <th></th>\n",
       "      <th></th>\n",
       "      <th></th>\n",
       "    </tr>\n",
       "  </thead>\n",
       "  <tbody>\n",
       "    <tr>\n",
       "      <th>2020-12-31 09:46:17.463002+00:00</th>\n",
       "      <td>2021-01-10 05:00:00+00:00</td>\n",
       "      <td>2021-01-10 07:00:00+00:00</td>\n",
       "      <td>gamma</td>\n",
       "      <td>True</td>\n",
       "      <td>0.0</td>\n",
       "      <td>0</td>\n",
       "      <td>c-2</td>\n",
       "      <td>7400.0</td>\n",
       "      <td>9.801187</td>\n",
       "      <td>12</td>\n",
       "      <td>Thursday</td>\n",
       "      <td>9</td>\n",
       "      <td>46</td>\n",
       "      <td>17</td>\n",
       "    </tr>\n",
       "    <tr>\n",
       "      <th>2020-12-31 09:46:17.463002+00:00</th>\n",
       "      <td>2021-01-10 05:00:00+00:00</td>\n",
       "      <td>2021-01-10 07:00:00+00:00</td>\n",
       "      <td>gamma</td>\n",
       "      <td>True</td>\n",
       "      <td>32.0</td>\n",
       "      <td>1</td>\n",
       "      <td>c-2</td>\n",
       "      <td>8650.0</td>\n",
       "      <td>9.801187</td>\n",
       "      <td>12</td>\n",
       "      <td>Thursday</td>\n",
       "      <td>9</td>\n",
       "      <td>46</td>\n",
       "      <td>17</td>\n",
       "    </tr>\n",
       "    <tr>\n",
       "      <th>2020-12-31 09:46:17.463002+00:00</th>\n",
       "      <td>2021-01-10 11:00:00+00:00</td>\n",
       "      <td>2021-01-10 13:00:00+00:00</td>\n",
       "      <td>gamma</td>\n",
       "      <td>True</td>\n",
       "      <td>32.0</td>\n",
       "      <td>1</td>\n",
       "      <td>c-4</td>\n",
       "      <td>9150.0</td>\n",
       "      <td>10.051187</td>\n",
       "      <td>12</td>\n",
       "      <td>Thursday</td>\n",
       "      <td>9</td>\n",
       "      <td>46</td>\n",
       "      <td>17</td>\n",
       "    </tr>\n",
       "    <tr>\n",
       "      <th>2020-12-31 09:46:17.463002+00:00</th>\n",
       "      <td>2021-01-10 11:00:00+00:00</td>\n",
       "      <td>2021-01-10 13:00:00+00:00</td>\n",
       "      <td>gamma</td>\n",
       "      <td>True</td>\n",
       "      <td>32.0</td>\n",
       "      <td>2</td>\n",
       "      <td>c-4</td>\n",
       "      <td>10400.0</td>\n",
       "      <td>10.051187</td>\n",
       "      <td>12</td>\n",
       "      <td>Thursday</td>\n",
       "      <td>9</td>\n",
       "      <td>46</td>\n",
       "      <td>17</td>\n",
       "    </tr>\n",
       "    <tr>\n",
       "      <th>2020-12-31 09:46:18.191119+00:00</th>\n",
       "      <td>2021-01-25 11:00:00+00:00</td>\n",
       "      <td>2021-01-25 12:55:00+00:00</td>\n",
       "      <td>beta</td>\n",
       "      <td>False</td>\n",
       "      <td>20.0</td>\n",
       "      <td>0</td>\n",
       "      <td>b-69</td>\n",
       "      <td>8697.0</td>\n",
       "      <td>25.051178</td>\n",
       "      <td>12</td>\n",
       "      <td>Thursday</td>\n",
       "      <td>9</td>\n",
       "      <td>46</td>\n",
       "      <td>18</td>\n",
       "    </tr>\n",
       "    <tr>\n",
       "      <th>...</th>\n",
       "      <td>...</td>\n",
       "      <td>...</td>\n",
       "      <td>...</td>\n",
       "      <td>...</td>\n",
       "      <td>...</td>\n",
       "      <td>...</td>\n",
       "      <td>...</td>\n",
       "      <td>...</td>\n",
       "      <td>...</td>\n",
       "      <td>...</td>\n",
       "      <td>...</td>\n",
       "      <td>...</td>\n",
       "      <td>...</td>\n",
       "      <td>...</td>\n",
       "    </tr>\n",
       "    <tr>\n",
       "      <th>2021-08-31 23:29:18.122593+00:00</th>\n",
       "      <td>2021-09-03 10:00:00+00:00</td>\n",
       "      <td>2021-09-03 12:00:00+00:00</td>\n",
       "      <td>alpha</td>\n",
       "      <td>True</td>\n",
       "      <td>20.0</td>\n",
       "      <td>1</td>\n",
       "      <td>a-7</td>\n",
       "      <td>8381.0</td>\n",
       "      <td>2.437985</td>\n",
       "      <td>8</td>\n",
       "      <td>Tuesday</td>\n",
       "      <td>23</td>\n",
       "      <td>29</td>\n",
       "      <td>18</td>\n",
       "    </tr>\n",
       "    <tr>\n",
       "      <th>2021-08-31 23:29:18.122593+00:00</th>\n",
       "      <td>2021-09-03 13:40:00+00:00</td>\n",
       "      <td>2021-09-03 15:40:00+00:00</td>\n",
       "      <td>alpha</td>\n",
       "      <td>True</td>\n",
       "      <td>15.0</td>\n",
       "      <td>1</td>\n",
       "      <td>a-9</td>\n",
       "      <td>9045.0</td>\n",
       "      <td>2.590762</td>\n",
       "      <td>8</td>\n",
       "      <td>Tuesday</td>\n",
       "      <td>23</td>\n",
       "      <td>29</td>\n",
       "      <td>18</td>\n",
       "    </tr>\n",
       "    <tr>\n",
       "      <th>2021-08-31 23:29:18.961691+00:00</th>\n",
       "      <td>2021-09-03 04:40:00+00:00</td>\n",
       "      <td>2021-09-03 06:40:00+00:00</td>\n",
       "      <td>omega</td>\n",
       "      <td>True</td>\n",
       "      <td>20.0</td>\n",
       "      <td>1</td>\n",
       "      <td>d-1</td>\n",
       "      <td>6155.0</td>\n",
       "      <td>2.215753</td>\n",
       "      <td>8</td>\n",
       "      <td>Tuesday</td>\n",
       "      <td>23</td>\n",
       "      <td>29</td>\n",
       "      <td>18</td>\n",
       "    </tr>\n",
       "    <tr>\n",
       "      <th>2021-08-31 23:29:18.961691+00:00</th>\n",
       "      <td>2021-09-03 10:35:00+00:00</td>\n",
       "      <td>2021-09-03 12:35:00+00:00</td>\n",
       "      <td>omega</td>\n",
       "      <td>True</td>\n",
       "      <td>20.0</td>\n",
       "      <td>1</td>\n",
       "      <td>d-3</td>\n",
       "      <td>6155.0</td>\n",
       "      <td>2.462281</td>\n",
       "      <td>8</td>\n",
       "      <td>Tuesday</td>\n",
       "      <td>23</td>\n",
       "      <td>29</td>\n",
       "      <td>18</td>\n",
       "    </tr>\n",
       "    <tr>\n",
       "      <th>2021-08-31 23:29:18.961691+00:00</th>\n",
       "      <td>2021-09-03 17:05:00+00:00</td>\n",
       "      <td>2021-09-03 19:05:00+00:00</td>\n",
       "      <td>omega</td>\n",
       "      <td>True</td>\n",
       "      <td>20.0</td>\n",
       "      <td>1</td>\n",
       "      <td>d-5</td>\n",
       "      <td>6605.0</td>\n",
       "      <td>2.733114</td>\n",
       "      <td>8</td>\n",
       "      <td>Tuesday</td>\n",
       "      <td>23</td>\n",
       "      <td>29</td>\n",
       "      <td>18</td>\n",
       "    </tr>\n",
       "  </tbody>\n",
       "</table>\n",
       "<p>21775784 rows × 14 columns</p>\n",
       "</div>"
      ],
      "text/plain": [
       "                                            Dept Date_Time  \\\n",
       "Purchase Time                                                \n",
       "2020-12-31 09:46:17.463002+00:00 2021-01-10 05:00:00+00:00   \n",
       "2020-12-31 09:46:17.463002+00:00 2021-01-10 05:00:00+00:00   \n",
       "2020-12-31 09:46:17.463002+00:00 2021-01-10 11:00:00+00:00   \n",
       "2020-12-31 09:46:17.463002+00:00 2021-01-10 11:00:00+00:00   \n",
       "2020-12-31 09:46:18.191119+00:00 2021-01-25 11:00:00+00:00   \n",
       "...                                                    ...   \n",
       "2021-08-31 23:29:18.122593+00:00 2021-09-03 10:00:00+00:00   \n",
       "2021-08-31 23:29:18.122593+00:00 2021-09-03 13:40:00+00:00   \n",
       "2021-08-31 23:29:18.961691+00:00 2021-09-03 04:40:00+00:00   \n",
       "2021-08-31 23:29:18.961691+00:00 2021-09-03 10:35:00+00:00   \n",
       "2021-08-31 23:29:18.961691+00:00 2021-09-03 17:05:00+00:00   \n",
       "\n",
       "                                         Arrival Date_Time Airline  \\\n",
       "Purchase Time                                                        \n",
       "2020-12-31 09:46:17.463002+00:00 2021-01-10 07:00:00+00:00   gamma   \n",
       "2020-12-31 09:46:17.463002+00:00 2021-01-10 07:00:00+00:00   gamma   \n",
       "2020-12-31 09:46:17.463002+00:00 2021-01-10 13:00:00+00:00   gamma   \n",
       "2020-12-31 09:46:17.463002+00:00 2021-01-10 13:00:00+00:00   gamma   \n",
       "2020-12-31 09:46:18.191119+00:00 2021-01-25 12:55:00+00:00    beta   \n",
       "...                                                    ...     ...   \n",
       "2021-08-31 23:29:18.122593+00:00 2021-09-03 12:00:00+00:00   alpha   \n",
       "2021-08-31 23:29:18.122593+00:00 2021-09-03 15:40:00+00:00   alpha   \n",
       "2021-08-31 23:29:18.961691+00:00 2021-09-03 06:40:00+00:00   omega   \n",
       "2021-08-31 23:29:18.961691+00:00 2021-09-03 12:35:00+00:00   omega   \n",
       "2021-08-31 23:29:18.961691+00:00 2021-09-03 19:05:00+00:00   omega   \n",
       "\n",
       "                                  Refundable  Baggage_wt.  Baggage_pcs  \\\n",
       "Purchase Time                                                            \n",
       "2020-12-31 09:46:17.463002+00:00        True          0.0            0   \n",
       "2020-12-31 09:46:17.463002+00:00        True         32.0            1   \n",
       "2020-12-31 09:46:17.463002+00:00        True         32.0            1   \n",
       "2020-12-31 09:46:17.463002+00:00        True         32.0            2   \n",
       "2020-12-31 09:46:18.191119+00:00       False         20.0            0   \n",
       "...                                      ...          ...          ...   \n",
       "2021-08-31 23:29:18.122593+00:00        True         20.0            1   \n",
       "2021-08-31 23:29:18.122593+00:00        True         15.0            1   \n",
       "2021-08-31 23:29:18.961691+00:00        True         20.0            1   \n",
       "2021-08-31 23:29:18.961691+00:00        True         20.0            1   \n",
       "2021-08-31 23:29:18.961691+00:00        True         20.0            1   \n",
       "\n",
       "                                 Flight_no   target  pur-dept-diff  Month  \\\n",
       "Purchase Time                                                               \n",
       "2020-12-31 09:46:17.463002+00:00       c-2   7400.0       9.801187     12   \n",
       "2020-12-31 09:46:17.463002+00:00       c-2   8650.0       9.801187     12   \n",
       "2020-12-31 09:46:17.463002+00:00       c-4   9150.0      10.051187     12   \n",
       "2020-12-31 09:46:17.463002+00:00       c-4  10400.0      10.051187     12   \n",
       "2020-12-31 09:46:18.191119+00:00      b-69   8697.0      25.051178     12   \n",
       "...                                    ...      ...            ...    ...   \n",
       "2021-08-31 23:29:18.122593+00:00       a-7   8381.0       2.437985      8   \n",
       "2021-08-31 23:29:18.122593+00:00       a-9   9045.0       2.590762      8   \n",
       "2021-08-31 23:29:18.961691+00:00       d-1   6155.0       2.215753      8   \n",
       "2021-08-31 23:29:18.961691+00:00       d-3   6155.0       2.462281      8   \n",
       "2021-08-31 23:29:18.961691+00:00       d-5   6605.0       2.733114      8   \n",
       "\n",
       "                                 Weekday Name  hour  minute  second  \n",
       "Purchase Time                                                        \n",
       "2020-12-31 09:46:17.463002+00:00     Thursday     9      46      17  \n",
       "2020-12-31 09:46:17.463002+00:00     Thursday     9      46      17  \n",
       "2020-12-31 09:46:17.463002+00:00     Thursday     9      46      17  \n",
       "2020-12-31 09:46:17.463002+00:00     Thursday     9      46      17  \n",
       "2020-12-31 09:46:18.191119+00:00     Thursday     9      46      18  \n",
       "...                                       ...   ...     ...     ...  \n",
       "2021-08-31 23:29:18.122593+00:00      Tuesday    23      29      18  \n",
       "2021-08-31 23:29:18.122593+00:00      Tuesday    23      29      18  \n",
       "2021-08-31 23:29:18.961691+00:00      Tuesday    23      29      18  \n",
       "2021-08-31 23:29:18.961691+00:00      Tuesday    23      29      18  \n",
       "2021-08-31 23:29:18.961691+00:00      Tuesday    23      29      18  \n",
       "\n",
       "[21775784 rows x 14 columns]"
      ]
     },
     "execution_count": 26,
     "metadata": {},
     "output_type": "execute_result"
    }
   ],
   "source": [
    "df"
   ]
  },
  {
   "cell_type": "markdown",
   "metadata": {},
   "source": [
    "finding the journey duration. Ticket prices for a longer journey are expected to be higher. We will try to confirm the existence of this relationship later in our analysis"
   ]
  },
  {
   "cell_type": "code",
   "execution_count": 28,
   "metadata": {},
   "outputs": [],
   "source": [
    "df['diff_hours'] = df['Arrival Date_Time'] - df['Dept Date_Time']\n",
    "df['diff_hours']=df['diff_hours']/np.timedelta64(1,'h') \n"
   ]
  },
  {
   "cell_type": "code",
   "execution_count": 29,
   "metadata": {},
   "outputs": [],
   "source": [
    "df['diff_hours']= df['diff_hours'].round(2)"
   ]
  },
  {
   "cell_type": "code",
   "execution_count": 30,
   "metadata": {},
   "outputs": [
    {
     "data": {
      "text/plain": [
       "2.00    14486688\n",
       "1.92     4023715\n",
       "1.98     2474843\n",
       "2.17      786104\n",
       "1.97        1710\n",
       "0.92        1257\n",
       "2.02         517\n",
       "1.95         336\n",
       "2.08         183\n",
       "2.92         179\n",
       "5.00         136\n",
       "5.02          40\n",
       "1.75          39\n",
       "3.02          32\n",
       "2.10           2\n",
       "1.67           2\n",
       "1.00           1\n",
       "Name: diff_hours, dtype: int64"
      ]
     },
     "execution_count": 30,
     "metadata": {},
     "output_type": "execute_result"
    }
   ],
   "source": [
    "df['diff_hours'].value_counts()"
   ]
  },
  {
   "cell_type": "code",
   "execution_count": 31,
   "metadata": {},
   "outputs": [],
   "source": [
    "dept_time = ['Dept Date_Time']\n",
    "for col in dept_time:\n",
    "    df['{}_day'.format(col)] =  pd.to_datetime(df['{}'.format(col)],format='%d-%m-%Y').dt.day\n",
    "    df['{}_month'.format(col)] =  pd.to_datetime(df['{}'.format(col)],format='%d-%m-%Y').dt.month"
   ]
  },
  {
   "cell_type": "code",
   "execution_count": 32,
   "metadata": {},
   "outputs": [
    {
     "data": {
      "text/html": [
       "<div>\n",
       "<style scoped>\n",
       "    .dataframe tbody tr th:only-of-type {\n",
       "        vertical-align: middle;\n",
       "    }\n",
       "\n",
       "    .dataframe tbody tr th {\n",
       "        vertical-align: top;\n",
       "    }\n",
       "\n",
       "    .dataframe thead th {\n",
       "        text-align: right;\n",
       "    }\n",
       "</style>\n",
       "<table border=\"1\" class=\"dataframe\">\n",
       "  <thead>\n",
       "    <tr style=\"text-align: right;\">\n",
       "      <th></th>\n",
       "      <th>Dept Date_Time</th>\n",
       "      <th>Arrival Date_Time</th>\n",
       "      <th>Airline</th>\n",
       "      <th>Refundable</th>\n",
       "      <th>Baggage_wt.</th>\n",
       "      <th>Baggage_pcs</th>\n",
       "      <th>Flight_no</th>\n",
       "      <th>target</th>\n",
       "      <th>pur-dept-diff</th>\n",
       "      <th>Month</th>\n",
       "      <th>Weekday Name</th>\n",
       "      <th>hour</th>\n",
       "      <th>minute</th>\n",
       "      <th>second</th>\n",
       "      <th>diff_hours</th>\n",
       "      <th>Dept Date_Time_day</th>\n",
       "      <th>Dept Date_Time_month</th>\n",
       "    </tr>\n",
       "    <tr>\n",
       "      <th>Purchase Time</th>\n",
       "      <th></th>\n",
       "      <th></th>\n",
       "      <th></th>\n",
       "      <th></th>\n",
       "      <th></th>\n",
       "      <th></th>\n",
       "      <th></th>\n",
       "      <th></th>\n",
       "      <th></th>\n",
       "      <th></th>\n",
       "      <th></th>\n",
       "      <th></th>\n",
       "      <th></th>\n",
       "      <th></th>\n",
       "      <th></th>\n",
       "      <th></th>\n",
       "      <th></th>\n",
       "    </tr>\n",
       "  </thead>\n",
       "  <tbody>\n",
       "    <tr>\n",
       "      <th>2020-12-31 09:46:17.463002+00:00</th>\n",
       "      <td>2021-01-10 05:00:00+00:00</td>\n",
       "      <td>2021-01-10 07:00:00+00:00</td>\n",
       "      <td>gamma</td>\n",
       "      <td>True</td>\n",
       "      <td>0.0</td>\n",
       "      <td>0</td>\n",
       "      <td>c-2</td>\n",
       "      <td>7400.0</td>\n",
       "      <td>9.801187</td>\n",
       "      <td>12</td>\n",
       "      <td>Thursday</td>\n",
       "      <td>9</td>\n",
       "      <td>46</td>\n",
       "      <td>17</td>\n",
       "      <td>2.00</td>\n",
       "      <td>10</td>\n",
       "      <td>1</td>\n",
       "    </tr>\n",
       "    <tr>\n",
       "      <th>2020-12-31 09:46:17.463002+00:00</th>\n",
       "      <td>2021-01-10 05:00:00+00:00</td>\n",
       "      <td>2021-01-10 07:00:00+00:00</td>\n",
       "      <td>gamma</td>\n",
       "      <td>True</td>\n",
       "      <td>32.0</td>\n",
       "      <td>1</td>\n",
       "      <td>c-2</td>\n",
       "      <td>8650.0</td>\n",
       "      <td>9.801187</td>\n",
       "      <td>12</td>\n",
       "      <td>Thursday</td>\n",
       "      <td>9</td>\n",
       "      <td>46</td>\n",
       "      <td>17</td>\n",
       "      <td>2.00</td>\n",
       "      <td>10</td>\n",
       "      <td>1</td>\n",
       "    </tr>\n",
       "    <tr>\n",
       "      <th>2020-12-31 09:46:17.463002+00:00</th>\n",
       "      <td>2021-01-10 11:00:00+00:00</td>\n",
       "      <td>2021-01-10 13:00:00+00:00</td>\n",
       "      <td>gamma</td>\n",
       "      <td>True</td>\n",
       "      <td>32.0</td>\n",
       "      <td>1</td>\n",
       "      <td>c-4</td>\n",
       "      <td>9150.0</td>\n",
       "      <td>10.051187</td>\n",
       "      <td>12</td>\n",
       "      <td>Thursday</td>\n",
       "      <td>9</td>\n",
       "      <td>46</td>\n",
       "      <td>17</td>\n",
       "      <td>2.00</td>\n",
       "      <td>10</td>\n",
       "      <td>1</td>\n",
       "    </tr>\n",
       "    <tr>\n",
       "      <th>2020-12-31 09:46:17.463002+00:00</th>\n",
       "      <td>2021-01-10 11:00:00+00:00</td>\n",
       "      <td>2021-01-10 13:00:00+00:00</td>\n",
       "      <td>gamma</td>\n",
       "      <td>True</td>\n",
       "      <td>32.0</td>\n",
       "      <td>2</td>\n",
       "      <td>c-4</td>\n",
       "      <td>10400.0</td>\n",
       "      <td>10.051187</td>\n",
       "      <td>12</td>\n",
       "      <td>Thursday</td>\n",
       "      <td>9</td>\n",
       "      <td>46</td>\n",
       "      <td>17</td>\n",
       "      <td>2.00</td>\n",
       "      <td>10</td>\n",
       "      <td>1</td>\n",
       "    </tr>\n",
       "    <tr>\n",
       "      <th>2020-12-31 09:46:18.191119+00:00</th>\n",
       "      <td>2021-01-25 11:00:00+00:00</td>\n",
       "      <td>2021-01-25 12:55:00+00:00</td>\n",
       "      <td>beta</td>\n",
       "      <td>False</td>\n",
       "      <td>20.0</td>\n",
       "      <td>0</td>\n",
       "      <td>b-69</td>\n",
       "      <td>8697.0</td>\n",
       "      <td>25.051178</td>\n",
       "      <td>12</td>\n",
       "      <td>Thursday</td>\n",
       "      <td>9</td>\n",
       "      <td>46</td>\n",
       "      <td>18</td>\n",
       "      <td>1.92</td>\n",
       "      <td>25</td>\n",
       "      <td>1</td>\n",
       "    </tr>\n",
       "    <tr>\n",
       "      <th>...</th>\n",
       "      <td>...</td>\n",
       "      <td>...</td>\n",
       "      <td>...</td>\n",
       "      <td>...</td>\n",
       "      <td>...</td>\n",
       "      <td>...</td>\n",
       "      <td>...</td>\n",
       "      <td>...</td>\n",
       "      <td>...</td>\n",
       "      <td>...</td>\n",
       "      <td>...</td>\n",
       "      <td>...</td>\n",
       "      <td>...</td>\n",
       "      <td>...</td>\n",
       "      <td>...</td>\n",
       "      <td>...</td>\n",
       "      <td>...</td>\n",
       "    </tr>\n",
       "    <tr>\n",
       "      <th>2021-08-31 23:29:18.122593+00:00</th>\n",
       "      <td>2021-09-03 10:00:00+00:00</td>\n",
       "      <td>2021-09-03 12:00:00+00:00</td>\n",
       "      <td>alpha</td>\n",
       "      <td>True</td>\n",
       "      <td>20.0</td>\n",
       "      <td>1</td>\n",
       "      <td>a-7</td>\n",
       "      <td>8381.0</td>\n",
       "      <td>2.437985</td>\n",
       "      <td>8</td>\n",
       "      <td>Tuesday</td>\n",
       "      <td>23</td>\n",
       "      <td>29</td>\n",
       "      <td>18</td>\n",
       "      <td>2.00</td>\n",
       "      <td>3</td>\n",
       "      <td>9</td>\n",
       "    </tr>\n",
       "    <tr>\n",
       "      <th>2021-08-31 23:29:18.122593+00:00</th>\n",
       "      <td>2021-09-03 13:40:00+00:00</td>\n",
       "      <td>2021-09-03 15:40:00+00:00</td>\n",
       "      <td>alpha</td>\n",
       "      <td>True</td>\n",
       "      <td>15.0</td>\n",
       "      <td>1</td>\n",
       "      <td>a-9</td>\n",
       "      <td>9045.0</td>\n",
       "      <td>2.590762</td>\n",
       "      <td>8</td>\n",
       "      <td>Tuesday</td>\n",
       "      <td>23</td>\n",
       "      <td>29</td>\n",
       "      <td>18</td>\n",
       "      <td>2.00</td>\n",
       "      <td>3</td>\n",
       "      <td>9</td>\n",
       "    </tr>\n",
       "    <tr>\n",
       "      <th>2021-08-31 23:29:18.961691+00:00</th>\n",
       "      <td>2021-09-03 04:40:00+00:00</td>\n",
       "      <td>2021-09-03 06:40:00+00:00</td>\n",
       "      <td>omega</td>\n",
       "      <td>True</td>\n",
       "      <td>20.0</td>\n",
       "      <td>1</td>\n",
       "      <td>d-1</td>\n",
       "      <td>6155.0</td>\n",
       "      <td>2.215753</td>\n",
       "      <td>8</td>\n",
       "      <td>Tuesday</td>\n",
       "      <td>23</td>\n",
       "      <td>29</td>\n",
       "      <td>18</td>\n",
       "      <td>2.00</td>\n",
       "      <td>3</td>\n",
       "      <td>9</td>\n",
       "    </tr>\n",
       "    <tr>\n",
       "      <th>2021-08-31 23:29:18.961691+00:00</th>\n",
       "      <td>2021-09-03 10:35:00+00:00</td>\n",
       "      <td>2021-09-03 12:35:00+00:00</td>\n",
       "      <td>omega</td>\n",
       "      <td>True</td>\n",
       "      <td>20.0</td>\n",
       "      <td>1</td>\n",
       "      <td>d-3</td>\n",
       "      <td>6155.0</td>\n",
       "      <td>2.462281</td>\n",
       "      <td>8</td>\n",
       "      <td>Tuesday</td>\n",
       "      <td>23</td>\n",
       "      <td>29</td>\n",
       "      <td>18</td>\n",
       "      <td>2.00</td>\n",
       "      <td>3</td>\n",
       "      <td>9</td>\n",
       "    </tr>\n",
       "    <tr>\n",
       "      <th>2021-08-31 23:29:18.961691+00:00</th>\n",
       "      <td>2021-09-03 17:05:00+00:00</td>\n",
       "      <td>2021-09-03 19:05:00+00:00</td>\n",
       "      <td>omega</td>\n",
       "      <td>True</td>\n",
       "      <td>20.0</td>\n",
       "      <td>1</td>\n",
       "      <td>d-5</td>\n",
       "      <td>6605.0</td>\n",
       "      <td>2.733114</td>\n",
       "      <td>8</td>\n",
       "      <td>Tuesday</td>\n",
       "      <td>23</td>\n",
       "      <td>29</td>\n",
       "      <td>18</td>\n",
       "      <td>2.00</td>\n",
       "      <td>3</td>\n",
       "      <td>9</td>\n",
       "    </tr>\n",
       "  </tbody>\n",
       "</table>\n",
       "<p>21775784 rows × 17 columns</p>\n",
       "</div>"
      ],
      "text/plain": [
       "                                            Dept Date_Time  \\\n",
       "Purchase Time                                                \n",
       "2020-12-31 09:46:17.463002+00:00 2021-01-10 05:00:00+00:00   \n",
       "2020-12-31 09:46:17.463002+00:00 2021-01-10 05:00:00+00:00   \n",
       "2020-12-31 09:46:17.463002+00:00 2021-01-10 11:00:00+00:00   \n",
       "2020-12-31 09:46:17.463002+00:00 2021-01-10 11:00:00+00:00   \n",
       "2020-12-31 09:46:18.191119+00:00 2021-01-25 11:00:00+00:00   \n",
       "...                                                    ...   \n",
       "2021-08-31 23:29:18.122593+00:00 2021-09-03 10:00:00+00:00   \n",
       "2021-08-31 23:29:18.122593+00:00 2021-09-03 13:40:00+00:00   \n",
       "2021-08-31 23:29:18.961691+00:00 2021-09-03 04:40:00+00:00   \n",
       "2021-08-31 23:29:18.961691+00:00 2021-09-03 10:35:00+00:00   \n",
       "2021-08-31 23:29:18.961691+00:00 2021-09-03 17:05:00+00:00   \n",
       "\n",
       "                                         Arrival Date_Time Airline  \\\n",
       "Purchase Time                                                        \n",
       "2020-12-31 09:46:17.463002+00:00 2021-01-10 07:00:00+00:00   gamma   \n",
       "2020-12-31 09:46:17.463002+00:00 2021-01-10 07:00:00+00:00   gamma   \n",
       "2020-12-31 09:46:17.463002+00:00 2021-01-10 13:00:00+00:00   gamma   \n",
       "2020-12-31 09:46:17.463002+00:00 2021-01-10 13:00:00+00:00   gamma   \n",
       "2020-12-31 09:46:18.191119+00:00 2021-01-25 12:55:00+00:00    beta   \n",
       "...                                                    ...     ...   \n",
       "2021-08-31 23:29:18.122593+00:00 2021-09-03 12:00:00+00:00   alpha   \n",
       "2021-08-31 23:29:18.122593+00:00 2021-09-03 15:40:00+00:00   alpha   \n",
       "2021-08-31 23:29:18.961691+00:00 2021-09-03 06:40:00+00:00   omega   \n",
       "2021-08-31 23:29:18.961691+00:00 2021-09-03 12:35:00+00:00   omega   \n",
       "2021-08-31 23:29:18.961691+00:00 2021-09-03 19:05:00+00:00   omega   \n",
       "\n",
       "                                  Refundable  Baggage_wt.  Baggage_pcs  \\\n",
       "Purchase Time                                                            \n",
       "2020-12-31 09:46:17.463002+00:00        True          0.0            0   \n",
       "2020-12-31 09:46:17.463002+00:00        True         32.0            1   \n",
       "2020-12-31 09:46:17.463002+00:00        True         32.0            1   \n",
       "2020-12-31 09:46:17.463002+00:00        True         32.0            2   \n",
       "2020-12-31 09:46:18.191119+00:00       False         20.0            0   \n",
       "...                                      ...          ...          ...   \n",
       "2021-08-31 23:29:18.122593+00:00        True         20.0            1   \n",
       "2021-08-31 23:29:18.122593+00:00        True         15.0            1   \n",
       "2021-08-31 23:29:18.961691+00:00        True         20.0            1   \n",
       "2021-08-31 23:29:18.961691+00:00        True         20.0            1   \n",
       "2021-08-31 23:29:18.961691+00:00        True         20.0            1   \n",
       "\n",
       "                                 Flight_no   target  pur-dept-diff  Month  \\\n",
       "Purchase Time                                                               \n",
       "2020-12-31 09:46:17.463002+00:00       c-2   7400.0       9.801187     12   \n",
       "2020-12-31 09:46:17.463002+00:00       c-2   8650.0       9.801187     12   \n",
       "2020-12-31 09:46:17.463002+00:00       c-4   9150.0      10.051187     12   \n",
       "2020-12-31 09:46:17.463002+00:00       c-4  10400.0      10.051187     12   \n",
       "2020-12-31 09:46:18.191119+00:00      b-69   8697.0      25.051178     12   \n",
       "...                                    ...      ...            ...    ...   \n",
       "2021-08-31 23:29:18.122593+00:00       a-7   8381.0       2.437985      8   \n",
       "2021-08-31 23:29:18.122593+00:00       a-9   9045.0       2.590762      8   \n",
       "2021-08-31 23:29:18.961691+00:00       d-1   6155.0       2.215753      8   \n",
       "2021-08-31 23:29:18.961691+00:00       d-3   6155.0       2.462281      8   \n",
       "2021-08-31 23:29:18.961691+00:00       d-5   6605.0       2.733114      8   \n",
       "\n",
       "                                 Weekday Name  hour  minute  second  \\\n",
       "Purchase Time                                                         \n",
       "2020-12-31 09:46:17.463002+00:00     Thursday     9      46      17   \n",
       "2020-12-31 09:46:17.463002+00:00     Thursday     9      46      17   \n",
       "2020-12-31 09:46:17.463002+00:00     Thursday     9      46      17   \n",
       "2020-12-31 09:46:17.463002+00:00     Thursday     9      46      17   \n",
       "2020-12-31 09:46:18.191119+00:00     Thursday     9      46      18   \n",
       "...                                       ...   ...     ...     ...   \n",
       "2021-08-31 23:29:18.122593+00:00      Tuesday    23      29      18   \n",
       "2021-08-31 23:29:18.122593+00:00      Tuesday    23      29      18   \n",
       "2021-08-31 23:29:18.961691+00:00      Tuesday    23      29      18   \n",
       "2021-08-31 23:29:18.961691+00:00      Tuesday    23      29      18   \n",
       "2021-08-31 23:29:18.961691+00:00      Tuesday    23      29      18   \n",
       "\n",
       "                                  diff_hours  Dept Date_Time_day  \\\n",
       "Purchase Time                                                      \n",
       "2020-12-31 09:46:17.463002+00:00        2.00                  10   \n",
       "2020-12-31 09:46:17.463002+00:00        2.00                  10   \n",
       "2020-12-31 09:46:17.463002+00:00        2.00                  10   \n",
       "2020-12-31 09:46:17.463002+00:00        2.00                  10   \n",
       "2020-12-31 09:46:18.191119+00:00        1.92                  25   \n",
       "...                                      ...                 ...   \n",
       "2021-08-31 23:29:18.122593+00:00        2.00                   3   \n",
       "2021-08-31 23:29:18.122593+00:00        2.00                   3   \n",
       "2021-08-31 23:29:18.961691+00:00        2.00                   3   \n",
       "2021-08-31 23:29:18.961691+00:00        2.00                   3   \n",
       "2021-08-31 23:29:18.961691+00:00        2.00                   3   \n",
       "\n",
       "                                  Dept Date_Time_month  \n",
       "Purchase Time                                           \n",
       "2020-12-31 09:46:17.463002+00:00                     1  \n",
       "2020-12-31 09:46:17.463002+00:00                     1  \n",
       "2020-12-31 09:46:17.463002+00:00                     1  \n",
       "2020-12-31 09:46:17.463002+00:00                     1  \n",
       "2020-12-31 09:46:18.191119+00:00                     1  \n",
       "...                                                ...  \n",
       "2021-08-31 23:29:18.122593+00:00                     9  \n",
       "2021-08-31 23:29:18.122593+00:00                     9  \n",
       "2021-08-31 23:29:18.961691+00:00                     9  \n",
       "2021-08-31 23:29:18.961691+00:00                     9  \n",
       "2021-08-31 23:29:18.961691+00:00                     9  \n",
       "\n",
       "[21775784 rows x 17 columns]"
      ]
     },
     "execution_count": 32,
     "metadata": {},
     "output_type": "execute_result"
    }
   ],
   "source": [
    "df"
   ]
  },
  {
   "cell_type": "code",
   "execution_count": 33,
   "metadata": {},
   "outputs": [
    {
     "data": {
      "text/plain": [
       "5.507057     4\n",
       "11.247493    4\n",
       "7.742173     4\n",
       "10.635455    4\n",
       "10.885455    4\n",
       "            ..\n",
       "0.762952     1\n",
       "0.637952     1\n",
       "33.002137    1\n",
       "4.036318     1\n",
       "2.733114     1\n",
       "Name: pur-dept-diff, Length: 13204024, dtype: int64"
      ]
     },
     "execution_count": 33,
     "metadata": {},
     "output_type": "execute_result"
    }
   ],
   "source": [
    "df['pur-dept-diff'].value_counts()"
   ]
  },
  {
   "cell_type": "code",
   "execution_count": 34,
   "metadata": {},
   "outputs": [
    {
     "data": {
      "text/plain": [
       "<AxesSubplot:xlabel='pur-dept-diff', ylabel='target'>"
      ]
     },
     "execution_count": 34,
     "metadata": {},
     "output_type": "execute_result"
    },
    {
     "data": {
      "image/png": "[encoded data removed]",
      "text/plain": [
       "<Figure size 720x720 with 1 Axes>"
      ]
     },
     "metadata": {
      "needs_background": "light"
     },
     "output_type": "display_data"
    }
   ],
   "source": [
    "%matplotlib inline\n",
    "df.plot.scatter(x='pur-dept-diff', y='target', marker='o', figsize=(10,10))"
   ]
  },
  {
   "cell_type": "markdown",
   "metadata": {},
   "source": [
    "#### The above plot shows us that there is indeed a benefit for travelers in buying their tickets well before their depature. Tickets prices are generally less expensive when they are bought earlier. We can see that the ticket prices are highest when they are bought on the day of the departure and there is steady decrease in the prices as the difference between departure and purchase day increases."
   ]
  },
  {
   "cell_type": "code",
   "execution_count": 34,
   "metadata": {
    "colab": {
     "base_uri": "https://localhost:8080/",
     "height": 653
    },
    "id": "gF9xbw6QlYkE",
    "outputId": "069e7add-3fff-46f5-d74c-7ab91106036f"
   },
   "outputs": [
    {
     "data": {
      "image/png": "[encoded data removed]",
      "text/plain": [
       "<Figure size 640x640 with 1 Axes>"
      ]
     },
     "metadata": {},
     "output_type": "display_data"
    }
   ],
   "source": [
    "plt.style.use('classic')\n",
    "plt.figure(figsize=(8,8))\n",
    "mylabels = [\"gamma\", \"beta\", \"omega\", \"alpha\"]\n",
    "plt.pie(df[\"Airline\"].value_counts(),labels=mylabels,autopct='%1.1f%%',startangle=90)\n",
    "plt.legend()\n",
    "plt.show()"
   ]
  },
  {
   "cell_type": "code",
   "execution_count": 35,
   "metadata": {
    "id": "MUCuzPAI73Cq"
   },
   "outputs": [
    {
     "data": {
      "text/plain": [
       "<AxesSubplot:xlabel='Airline'>"
      ]
     },
     "execution_count": 35,
     "metadata": {},
     "output_type": "execute_result"
    },
    {
     "data": {
      "image/png": "[encoded data removed]",
      "text/plain": [
       "<Figure size 400x400 with 1 Axes>"
      ]
     },
     "metadata": {},
     "output_type": "display_data"
    }
   ],
   "source": [
    "tab=pd.crosstab(df['Airline'],df['Refundable'])\n",
    "tab.plot(kind=\"bar\", \n",
    "                 figsize=(5,5),\n",
    "                 stacked=True)"
   ]
  },
  {
   "cell_type": "markdown",
   "metadata": {
    "id": "2gG7H6IDF-CL"
   },
   "source": [
    "**only a few beta flights are non-refundable**\n",
    "\n",
    "\n",
    "\n",
    "\n",
    "\n"
   ]
  },
  {
   "cell_type": "code",
   "execution_count": 64,
   "metadata": {},
   "outputs": [
    {
     "data": {
      "text/plain": [
       "Text(0.5, 1.0, 'Distribution of Price by Airline')"
      ]
     },
     "execution_count": 64,
     "metadata": {},
     "output_type": "execute_result"
    },
    {
     "data": {
      "image/png": "[encoded data removed]",
      "text/plain": [
       "<Figure size 1600x800 with 1 Axes>"
      ]
     },
     "metadata": {},
     "output_type": "display_data"
    }
   ],
   "source": [
    "plt.figure(figsize=(20,10))\n",
    "ax = sns.kdeplot(df['target'][(df[\"Airline\"] == 'alpha') ],\n",
    "                color=\"Red\", shade = True)\n",
    "ax = sns.kdeplot(df['target'][(df[\"Airline\"] == 'beta') ],\n",
    "                ax =ax, color=\"Blue\", shade= True)\n",
    "ax = sns.kdeplot(df['target'][(df[\"Airline\"] == 'omega') ],\n",
    "                ax =ax, color=\"Orange\", shade= True)\n",
    "ax = sns.kdeplot(df['target'][(df[\"Airline\"] == 'gamma') ],\n",
    "                ax =ax, color=\"Green\", shade= True)\n",
    "\n",
    "ax.legend([\"alpha\",\"beta\",\"gamma\",\"omega\"],loc='upper right',title = 'Airline')\n",
    "ax.set_ylabel('Density')\n",
    "ax.set_xlabel('Airline')\n",
    "ax.set_title('Distribution of Price by Airline')"
   ]
  },
  {
   "cell_type": "code",
   "execution_count": 39,
   "metadata": {},
   "outputs": [
    {
     "data": {
      "image/png": "[encoded data removed]",
      "text/plain": [
       "<Figure size 1920x640 with 1 Axes>"
      ]
     },
     "metadata": {},
     "output_type": "display_data"
    }
   ],
   "source": [
    "sns.catplot(y = \"target\", x = \"Airline\", data = df.sort_values(\"target\", ascending = False), kind=\"boxen\", height = 8, aspect = 3)\n",
    "plt.show()"
   ]
  },
  {
   "cell_type": "markdown",
   "metadata": {},
   "source": [
    "#### It is observed that some of the tickets of Gamma airline are mapped to 0 price, which is not possible, so we will be removing those entries in our subsequent steps. "
   ]
  },
  {
   "cell_type": "code",
   "execution_count": 74,
   "metadata": {},
   "outputs": [
    {
     "data": {
      "image/png": "[encoded data removed]",
      "text/plain": [
       "<Figure size 800x400 with 1 Axes>"
      ]
     },
     "metadata": {},
     "output_type": "display_data"
    }
   ],
   "source": [
    "plt.figure(figsize = (10, 5))\n",
    "plt.title('Count of purchases month wise')\n",
    "ax=sns.countplot(x = 'Month', data = df)\n",
    "plt.xlabel('Month')\n",
    "plt.ylabel('Count of purchases')\n",
    "for p in ax.patches:\n",
    "    ax.annotate(int(p.get_height()), (p.get_x()+0.25, p.get_height()+1), va='bottom', color= 'black')"
   ]
  },
  {
   "cell_type": "markdown",
   "metadata": {},
   "source": [
    "#### here, we can see that purchase count increases drastically from June and reaches a peak in August. May be this can be attributed to the fact that these are summer vacation months and most people utilize this time for travelling. \n",
    "#### From September to November, it is observed that no purchases are made during this time. And it seems that purchase during the winter season is significantly reduced. "
   ]
  },
  {
   "cell_type": "code",
   "execution_count": 73,
   "metadata": {},
   "outputs": [
    {
     "data": {
      "image/png": "[encoded data removed]",
      "text/plain": [
       "<Figure size 800x400 with 1 Axes>"
      ]
     },
     "metadata": {},
     "output_type": "display_data"
    }
   ],
   "source": [
    "plt.figure(figsize = (10, 5))\n",
    "plt.title('Count of flights month wise')\n",
    "ax=sns.countplot(x = 'Dept Date_Time_month', data = df)\n",
    "plt.xlabel('Month')\n",
    "plt.ylabel('Count of flights')\n",
    "for p in ax.patches:\n",
    "    ax.annotate(int(p.get_height()), (p.get_x()+0.25, p.get_height()+1), va='bottom', color= 'black')"
   ]
  },
  {
   "cell_type": "markdown",
   "metadata": {},
   "source": [
    "#### here, we can see that flight count increases drastically from June and reaches a peak in August. May be this can be attributed to the fact that these are summer vacation months and most people utilize this time for travelling. It seems that travel during the winter season is significantly reduced. During the coldest months; October, Noven=mber, December, number of operating flights graually decreases to the minimum of 59029. "
   ]
  },
  {
   "cell_type": "code",
   "execution_count": 70,
   "metadata": {},
   "outputs": [
    {
     "data": {
      "image/png": "[encoded data removed]",
      "text/plain": [
       "<Figure size 1600x800 with 1 Axes>"
      ]
     },
     "metadata": {},
     "output_type": "display_data"
    }
   ],
   "source": [
    "plt.figure(figsize = (20, 10))\n",
    "plt.title('Count of Purchases hour wise')\n",
    "ax=sns.countplot(x = 'hour', data = df)\n",
    "plt.xlabel('Hour')\n",
    "plt.ylabel('Count of purchases')\n",
    "for p in ax.patches:\n",
    "    ax.annotate(int(p.get_height()), (p.get_x()+0.25, p.get_height()+1), va='bottom', color= 'black')"
   ]
  },
  {
   "cell_type": "code",
   "execution_count": 75,
   "metadata": {},
   "outputs": [
    {
     "data": {
      "image/png": "[encoded data removed]",
      "text/plain": [
       "<Figure size 800x400 with 1 Axes>"
      ]
     },
     "metadata": {},
     "output_type": "display_data"
    }
   ],
   "source": [
    "plt.figure(figsize = (10, 5))\n",
    "plt.title('Count of purchases weekday name wise')\n",
    "ax=sns.countplot(x = 'Weekday Name', data = df)\n",
    "plt.xlabel('Weekday Name')\n",
    "plt.ylabel('Count of purchases')\n",
    "for p in ax.patches:\n",
    "    ax.annotate(int(p.get_height()), (p.get_x()+0.25, p.get_height()+1), va='bottom', color= 'black')"
   ]
  },
  {
   "cell_type": "code",
   "execution_count": 34,
   "metadata": {},
   "outputs": [
    {
     "data": {
      "text/html": [
       "<div>\n",
       "<style scoped>\n",
       "    .dataframe tbody tr th:only-of-type {\n",
       "        vertical-align: middle;\n",
       "    }\n",
       "\n",
       "    .dataframe tbody tr th {\n",
       "        vertical-align: top;\n",
       "    }\n",
       "\n",
       "    .dataframe thead th {\n",
       "        text-align: right;\n",
       "    }\n",
       "</style>\n",
       "<table border=\"1\" class=\"dataframe\">\n",
       "  <thead>\n",
       "    <tr style=\"text-align: right;\">\n",
       "      <th></th>\n",
       "      <th>Baggage_pcs</th>\n",
       "      <th>Baggage_wt.</th>\n",
       "      <th>Dept Date_Time_day</th>\n",
       "      <th>Dept Date_Time_month</th>\n",
       "      <th>Month</th>\n",
       "      <th>Refundable</th>\n",
       "      <th>diff_hours</th>\n",
       "      <th>hour</th>\n",
       "      <th>minute</th>\n",
       "      <th>pur-dept-diff</th>\n",
       "      <th>second</th>\n",
       "      <th>target</th>\n",
       "    </tr>\n",
       "    <tr>\n",
       "      <th>Weekday Name</th>\n",
       "      <th></th>\n",
       "      <th></th>\n",
       "      <th></th>\n",
       "      <th></th>\n",
       "      <th></th>\n",
       "      <th></th>\n",
       "      <th></th>\n",
       "      <th></th>\n",
       "      <th></th>\n",
       "      <th></th>\n",
       "      <th></th>\n",
       "      <th></th>\n",
       "    </tr>\n",
       "  </thead>\n",
       "  <tbody>\n",
       "    <tr>\n",
       "      <th>Friday</th>\n",
       "      <td>0.952290</td>\n",
       "      <td>22.698577</td>\n",
       "      <td>16.460630</td>\n",
       "      <td>6.118191</td>\n",
       "      <td>5.651224</td>\n",
       "      <td>0.992460</td>\n",
       "      <td>1.989211</td>\n",
       "      <td>12.163150</td>\n",
       "      <td>29.613938</td>\n",
       "      <td>14.936031</td>\n",
       "      <td>29.503930</td>\n",
       "      <td>10354.173490</td>\n",
       "    </tr>\n",
       "    <tr>\n",
       "      <th>Monday</th>\n",
       "      <td>0.947289</td>\n",
       "      <td>22.505016</td>\n",
       "      <td>16.468401</td>\n",
       "      <td>6.162463</td>\n",
       "      <td>5.662476</td>\n",
       "      <td>0.994232</td>\n",
       "      <td>1.989516</td>\n",
       "      <td>12.230541</td>\n",
       "      <td>29.637122</td>\n",
       "      <td>15.947482</td>\n",
       "      <td>29.566697</td>\n",
       "      <td>9898.221855</td>\n",
       "    </tr>\n",
       "    <tr>\n",
       "      <th>Saturday</th>\n",
       "      <td>0.954884</td>\n",
       "      <td>22.769629</td>\n",
       "      <td>16.462476</td>\n",
       "      <td>6.139559</td>\n",
       "      <td>5.661117</td>\n",
       "      <td>0.993845</td>\n",
       "      <td>1.989026</td>\n",
       "      <td>12.208582</td>\n",
       "      <td>29.489294</td>\n",
       "      <td>15.266324</td>\n",
       "      <td>29.486360</td>\n",
       "      <td>10194.937226</td>\n",
       "    </tr>\n",
       "    <tr>\n",
       "      <th>Sunday</th>\n",
       "      <td>0.952706</td>\n",
       "      <td>22.755358</td>\n",
       "      <td>16.485624</td>\n",
       "      <td>6.206374</td>\n",
       "      <td>5.703829</td>\n",
       "      <td>0.994382</td>\n",
       "      <td>1.988938</td>\n",
       "      <td>12.304153</td>\n",
       "      <td>29.596455</td>\n",
       "      <td>16.070291</td>\n",
       "      <td>29.561752</td>\n",
       "      <td>10057.727636</td>\n",
       "    </tr>\n",
       "    <tr>\n",
       "      <th>Thursday</th>\n",
       "      <td>0.953203</td>\n",
       "      <td>22.512500</td>\n",
       "      <td>16.534084</td>\n",
       "      <td>6.087073</td>\n",
       "      <td>5.734127</td>\n",
       "      <td>0.991967</td>\n",
       "      <td>1.989094</td>\n",
       "      <td>12.158210</td>\n",
       "      <td>29.528024</td>\n",
       "      <td>15.027526</td>\n",
       "      <td>29.565580</td>\n",
       "      <td>10332.523524</td>\n",
       "    </tr>\n",
       "    <tr>\n",
       "      <th>Tuesday</th>\n",
       "      <td>0.939392</td>\n",
       "      <td>22.409099</td>\n",
       "      <td>16.310468</td>\n",
       "      <td>6.242466</td>\n",
       "      <td>5.756433</td>\n",
       "      <td>0.994334</td>\n",
       "      <td>1.988964</td>\n",
       "      <td>12.167566</td>\n",
       "      <td>29.611962</td>\n",
       "      <td>15.636077</td>\n",
       "      <td>29.615783</td>\n",
       "      <td>9953.807157</td>\n",
       "    </tr>\n",
       "    <tr>\n",
       "      <th>Wednesday</th>\n",
       "      <td>0.945310</td>\n",
       "      <td>22.493773</td>\n",
       "      <td>16.533349</td>\n",
       "      <td>6.132487</td>\n",
       "      <td>5.645636</td>\n",
       "      <td>0.994478</td>\n",
       "      <td>1.988557</td>\n",
       "      <td>12.141596</td>\n",
       "      <td>29.534113</td>\n",
       "      <td>15.384310</td>\n",
       "      <td>29.497907</td>\n",
       "      <td>10207.848166</td>\n",
       "    </tr>\n",
       "  </tbody>\n",
       "</table>\n",
       "</div>"
      ],
      "text/plain": [
       "              Baggage_pcs  Baggage_wt.  Dept Date_Time_day  \\\n",
       "Weekday Name                                                 \n",
       "Friday           0.952290    22.698577           16.460630   \n",
       "Monday           0.947289    22.505016           16.468401   \n",
       "Saturday         0.954884    22.769629           16.462476   \n",
       "Sunday           0.952706    22.755358           16.485624   \n",
       "Thursday         0.953203    22.512500           16.534084   \n",
       "Tuesday          0.939392    22.409099           16.310468   \n",
       "Wednesday        0.945310    22.493773           16.533349   \n",
       "\n",
       "              Dept Date_Time_month     Month  Refundable  diff_hours  \\\n",
       "Weekday Name                                                           \n",
       "Friday                    6.118191  5.651224    0.992460    1.989211   \n",
       "Monday                    6.162463  5.662476    0.994232    1.989516   \n",
       "Saturday                  6.139559  5.661117    0.993845    1.989026   \n",
       "Sunday                    6.206374  5.703829    0.994382    1.988938   \n",
       "Thursday                  6.087073  5.734127    0.991967    1.989094   \n",
       "Tuesday                   6.242466  5.756433    0.994334    1.988964   \n",
       "Wednesday                 6.132487  5.645636    0.994478    1.988557   \n",
       "\n",
       "                   hour     minute  pur-dept-diff     second        target  \n",
       "Weekday Name                                                                \n",
       "Friday        12.163150  29.613938      14.936031  29.503930  10354.173490  \n",
       "Monday        12.230541  29.637122      15.947482  29.566697   9898.221855  \n",
       "Saturday      12.208582  29.489294      15.266324  29.486360  10194.937226  \n",
       "Sunday        12.304153  29.596455      16.070291  29.561752  10057.727636  \n",
       "Thursday      12.158210  29.528024      15.027526  29.565580  10332.523524  \n",
       "Tuesday       12.167566  29.611962      15.636077  29.615783   9953.807157  \n",
       "Wednesday     12.141596  29.534113      15.384310  29.497907  10207.848166  "
      ]
     },
     "execution_count": 34,
     "metadata": {},
     "output_type": "execute_result"
    }
   ],
   "source": [
    "table = pd.pivot_table(data=df,index=['Weekday Name'])\n",
    "table"
   ]
  },
  {
   "cell_type": "code",
   "execution_count": null,
   "metadata": {},
   "outputs": [],
   "source": []
  },
  {
   "cell_type": "code",
   "execution_count": 76,
   "metadata": {},
   "outputs": [
    {
     "data": {
      "text/html": [
       "<div>\n",
       "<style scoped>\n",
       "    .dataframe tbody tr th:only-of-type {\n",
       "        vertical-align: middle;\n",
       "    }\n",
       "\n",
       "    .dataframe tbody tr th {\n",
       "        vertical-align: top;\n",
       "    }\n",
       "\n",
       "    .dataframe thead th {\n",
       "        text-align: right;\n",
       "    }\n",
       "</style>\n",
       "<table border=\"1\" class=\"dataframe\">\n",
       "  <thead>\n",
       "    <tr style=\"text-align: right;\">\n",
       "      <th></th>\n",
       "      <th>target</th>\n",
       "    </tr>\n",
       "    <tr>\n",
       "      <th>Weekday Name</th>\n",
       "      <th></th>\n",
       "    </tr>\n",
       "  </thead>\n",
       "  <tbody>\n",
       "    <tr>\n",
       "      <th>Friday</th>\n",
       "      <td>10354.173490</td>\n",
       "    </tr>\n",
       "    <tr>\n",
       "      <th>Monday</th>\n",
       "      <td>9898.221855</td>\n",
       "    </tr>\n",
       "    <tr>\n",
       "      <th>Saturday</th>\n",
       "      <td>10194.937226</td>\n",
       "    </tr>\n",
       "    <tr>\n",
       "      <th>Sunday</th>\n",
       "      <td>10057.727636</td>\n",
       "    </tr>\n",
       "    <tr>\n",
       "      <th>Thursday</th>\n",
       "      <td>10332.523524</td>\n",
       "    </tr>\n",
       "    <tr>\n",
       "      <th>Tuesday</th>\n",
       "      <td>9953.807157</td>\n",
       "    </tr>\n",
       "    <tr>\n",
       "      <th>Wednesday</th>\n",
       "      <td>10207.848166</td>\n",
       "    </tr>\n",
       "  </tbody>\n",
       "</table>\n",
       "</div>"
      ],
      "text/plain": [
       "                    target\n",
       "Weekday Name              \n",
       "Friday        10354.173490\n",
       "Monday         9898.221855\n",
       "Saturday      10194.937226\n",
       "Sunday        10057.727636\n",
       "Thursday      10332.523524\n",
       "Tuesday        9953.807157\n",
       "Wednesday     10207.848166"
      ]
     },
     "execution_count": 76,
     "metadata": {},
     "output_type": "execute_result"
    }
   ],
   "source": [
    "table = pd.pivot_table(df,index=['Weekday Name'],aggfunc={'target':np.mean})\n",
    "table"
   ]
  },
  {
   "cell_type": "code",
   "execution_count": 81,
   "metadata": {},
   "outputs": [
    {
     "data": {
      "text/plain": [
       "alpha    9563377\n",
       "gamma    7568958\n",
       "beta     3994489\n",
       "omega     648960\n",
       "Name: Airline, dtype: int64"
      ]
     },
     "execution_count": 81,
     "metadata": {},
     "output_type": "execute_result"
    }
   ],
   "source": [
    "df['Airline'].value_counts()"
   ]
  },
  {
   "cell_type": "markdown",
   "metadata": {},
   "source": [
    "#### We can see that the average ticket price is lowest on Mondays followed by Tuesdays. This has been reflected by the above countplot which shows the total number of flights on each day. According to that graph the highest number of purchases are made on Mondays. The cheapest ticket prices are also observed on Mondays. "
   ]
  },
  {
   "cell_type": "code",
   "execution_count": 58,
   "metadata": {},
   "outputs": [
    {
     "data": {
      "image/png": "[encoded data removed]",
      "text/plain": [
       "<Figure size 1600x800 with 1 Axes>"
      ]
     },
     "metadata": {},
     "output_type": "display_data"
    }
   ],
   "source": [
    "plt.figure(figsize = (20, 10))\n",
    "\n",
    "ax = sns.countplot(x=\"Flight_no\", hue=\"Airline\", data=df)"
   ]
  },
  {
   "cell_type": "raw",
   "metadata": {},
   "source": [
    "a-alpha\n",
    "b-beta\n",
    "c-gamma\n",
    "d-omega\n",
    "\n",
    "omega -- highest price(35000)"
   ]
  },
  {
   "cell_type": "markdown",
   "metadata": {},
   "source": [
    "#### Flight numbers are the same as the IATA ( International air transport association )codes used in the universal flight booking system . The same flight number is usually retained for the same route flown by the airline. \n",
    "\n",
    "#### we will try to create plots and see if there is a relationship between flight numbers and ticket prices. that is to say, if we assume each flight number to indicate a different route, then the longer routes will have higher prices"
   ]
  },
  {
   "cell_type": "code",
   "execution_count": 61,
   "metadata": {},
   "outputs": [
    {
     "data": {
      "text/plain": [
       "Text(0.5, 1.0, 'target by Flight number')"
      ]
     },
     "execution_count": 61,
     "metadata": {},
     "output_type": "execute_result"
    },
    {
     "data": {
      "image/png": "[encoded data removed]",
      "text/plain": [
       "<Figure size 1600x800 with 1 Axes>"
      ]
     },
     "metadata": {},
     "output_type": "display_data"
    }
   ],
   "source": [
    "plt.figure(figsize = (20, 10))\n",
    "ax2 = sns.boxplot(x=\"Flight_no\",y=\"target\", data=df,hue='Airline',palette=\"hls\")\n",
    "ax2.set_xlabel(\"Flight_no\", fontsize=12)\n",
    "ax2.set_ylabel(\"target\", fontsize=12)\n",
    "ax2.set_title(\"target by Flight number\", fontsize=14)"
   ]
  },
  {
   "cell_type": "markdown",
   "metadata": {},
   "source": [
    "#### price distribution for most flights by alpha and gamma is relatively similar. Both have nearly the same maximum ticket prices for all of their flights.\n",
    "#### Omega has the most expensive ticket prices among all the flights. This could be an anomaly as well. However, the median value for omega's ticket prices is the lowest. \n",
    "#### Beta is the cheapest out of all 4 airlines"
   ]
  },
  {
   "cell_type": "code",
   "execution_count": 60,
   "metadata": {},
   "outputs": [
    {
     "data": {
      "text/plain": [
       "Text(0.5, 1.0, 'target by Flight number')"
      ]
     },
     "execution_count": 60,
     "metadata": {},
     "output_type": "execute_result"
    },
    {
     "data": {
      "image/png": "[encoded data removed]",
      "text/plain": [
       "<Figure size 1600x800 with 1 Axes>"
      ]
     },
     "metadata": {},
     "output_type": "display_data"
    }
   ],
   "source": [
    "plt.figure(figsize = (20, 10))\n",
    "ax2 = sns.boxplot(x=\"Flight_no\",y=\"target\", data=df,hue='diff_hours',palette=\"hls\")\n",
    "ax2.set_xlabel(\"Flight_no\", fontsize=12)\n",
    "ax2.set_ylabel(\"target\", fontsize=12)\n",
    "ax2.set_title(\"target by Flight number\", fontsize=14)"
   ]
  },
  {
   "cell_type": "markdown",
   "metadata": {},
   "source": [
    "#### Through the above code cells where we look for a relationship between flight numbers and routes and ticket prices, we see that a lot of flight numbers are mapped to flights with multiple durations. We could not determine the existence of any clear relationship between flight duration, flight number and the ticket price for any airline. '"
   ]
  },
  {
   "cell_type": "code",
   "execution_count": 63,
   "metadata": {},
   "outputs": [
    {
     "data": {
      "text/plain": [
       "Text(0.5, 1.0, 'target by Flight number')"
      ]
     },
     "execution_count": 63,
     "metadata": {},
     "output_type": "execute_result"
    },
    {
     "data": {
      "image/png": "[encoded data removed]",
      "text/plain": [
       "<Figure size 1600x800 with 1 Axes>"
      ]
     },
     "metadata": {},
     "output_type": "display_data"
    }
   ],
   "source": [
    "plt.figure(figsize = (20, 10))\n",
    "ax2 = sns.boxplot(x=\"Flight_no\",y=\"target\", data=df,hue='Refundable',palette=\"hls\")\n",
    "ax2.set_xlabel(\"Flight_no\", fontsize=12)\n",
    "ax2.set_ylabel(\"target\", fontsize=12)\n",
    "ax2.set_title(\"target by Flight number\", fontsize=14)"
   ]
  },
  {
   "cell_type": "markdown",
   "metadata": {},
   "source": [
    "Beta is the only Airline whose tickets are non-refundable."
   ]
  },
  {
   "cell_type": "code",
   "execution_count": 75,
   "metadata": {},
   "outputs": [
    {
     "data": {
      "text/html": [
       "<div>\n",
       "<style scoped>\n",
       "    .dataframe tbody tr th:only-of-type {\n",
       "        vertical-align: middle;\n",
       "    }\n",
       "\n",
       "    .dataframe tbody tr th {\n",
       "        vertical-align: top;\n",
       "    }\n",
       "\n",
       "    .dataframe thead th {\n",
       "        text-align: right;\n",
       "    }\n",
       "</style>\n",
       "<table border=\"1\" class=\"dataframe\">\n",
       "  <thead>\n",
       "    <tr style=\"text-align: right;\">\n",
       "      <th></th>\n",
       "      <th>target</th>\n",
       "    </tr>\n",
       "    <tr>\n",
       "      <th>Refundable</th>\n",
       "      <th></th>\n",
       "    </tr>\n",
       "  </thead>\n",
       "  <tbody>\n",
       "    <tr>\n",
       "      <th>False</th>\n",
       "      <td>9639.717061</td>\n",
       "    </tr>\n",
       "    <tr>\n",
       "      <th>True</th>\n",
       "      <td>10140.209617</td>\n",
       "    </tr>\n",
       "  </tbody>\n",
       "</table>\n",
       "</div>"
      ],
      "text/plain": [
       "                  target\n",
       "Refundable              \n",
       "False        9639.717061\n",
       "True        10140.209617"
      ]
     },
     "execution_count": 75,
     "metadata": {},
     "output_type": "execute_result"
    }
   ],
   "source": [
    "ref = pd.pivot_table(df,index=['Refundable'],aggfunc={'target':np.mean})\n",
    "ref"
   ]
  },
  {
   "cell_type": "code",
   "execution_count": 35,
   "metadata": {},
   "outputs": [
    {
     "data": {
      "text/plain": [
       "True     21638316\n",
       "False      137468\n",
       "Name: Refundable, dtype: int64"
      ]
     },
     "execution_count": 35,
     "metadata": {},
     "output_type": "execute_result"
    }
   ],
   "source": [
    "df['Refundable'].value_counts()"
   ]
  },
  {
   "cell_type": "markdown",
   "metadata": {},
   "source": [
    "#### From the above pivot table, the misleading conclusion can be drawn that the non-refundable tickets are cheaper than refundable ones. However, the difference in avg. prices of refundable and non-refundable could be because of the fact that majority of ticket purchases are refundable. We can't establish a clear relationship between refundability and price of tickets."
   ]
  },
  {
   "cell_type": "code",
   "execution_count": 36,
   "metadata": {},
   "outputs": [],
   "source": [
    "#sns.catplot(x=\"Refundable\", y=\"target\",  kind=\"bar\",palette='ch:.25', data=df)"
   ]
  },
  {
   "cell_type": "code",
   "execution_count": 61,
   "metadata": {},
   "outputs": [
    {
     "data": {
      "text/plain": [
       "<AxesSubplot:xlabel='diff_hours', ylabel='target'>"
      ]
     },
     "execution_count": 61,
     "metadata": {},
     "output_type": "execute_result"
    },
    {
     "data": {
      "image/png": "[encoded data removed]",
      "text/plain": [
       "<Figure size 560x400 with 1 Axes>"
      ]
     },
     "metadata": {},
     "output_type": "display_data"
    }
   ],
   "source": [
    "df.plot.scatter(x='diff_hours', y='target', marker='o', figsize=(7,5))"
   ]
  },
  {
   "cell_type": "code",
   "execution_count": 53,
   "metadata": {},
   "outputs": [
    {
     "data": {
      "text/plain": [
       "<AxesSubplot:xlabel='Baggage_wt.', ylabel='target'>"
      ]
     },
     "execution_count": 53,
     "metadata": {},
     "output_type": "execute_result"
    },
    {
     "data": {
      "image/png": "[encoded data removed]",
      "text/plain": [
       "<Figure size 560x400 with 1 Axes>"
      ]
     },
     "metadata": {},
     "output_type": "display_data"
    }
   ],
   "source": [
    "df.plot.scatter(x='Baggage_wt.', y='target', marker='o', figsize=(7,5))"
   ]
  },
  {
   "cell_type": "code",
   "execution_count": 37,
   "metadata": {},
   "outputs": [
    {
     "data": {
      "text/plain": [
       "20.0    11126128\n",
       "15.0     4448068\n",
       "35.0     3548262\n",
       "40.0     1611354\n",
       "0.0       608375\n",
       "32.0      422512\n",
       "45.0       11085\n",
       "Name: Baggage_wt., dtype: int64"
      ]
     },
     "execution_count": 37,
     "metadata": {},
     "output_type": "execute_result"
    }
   ],
   "source": [
    "df[\"Baggage_wt.\"].value_counts()"
   ]
  },
  {
   "cell_type": "code",
   "execution_count": 38,
   "metadata": {},
   "outputs": [
    {
     "data": {
      "text/plain": [
       "2.00    14486688\n",
       "1.92     4023715\n",
       "1.98     2474843\n",
       "2.17      786104\n",
       "1.97        1710\n",
       "0.92        1257\n",
       "2.02         517\n",
       "1.95         336\n",
       "2.08         183\n",
       "2.92         179\n",
       "5.00         136\n",
       "5.02          40\n",
       "1.75          39\n",
       "3.02          32\n",
       "2.10           2\n",
       "1.67           2\n",
       "1.00           1\n",
       "Name: diff_hours, dtype: int64"
      ]
     },
     "execution_count": 38,
     "metadata": {},
     "output_type": "execute_result"
    }
   ],
   "source": [
    "df[\"diff_hours\"].value_counts()"
   ]
  },
  {
   "cell_type": "code",
   "execution_count": 68,
   "metadata": {},
   "outputs": [
    {
     "data": {
      "text/plain": [
       "<AxesSubplot:xlabel='Baggage_pcs', ylabel='target'>"
      ]
     },
     "execution_count": 68,
     "metadata": {},
     "output_type": "execute_result"
    },
    {
     "data": {
      "image/png": "[encoded data removed]",
      "text/plain": [
       "<Figure size 560x400 with 1 Axes>"
      ]
     },
     "metadata": {},
     "output_type": "display_data"
    }
   ],
   "source": [
    "df.plot.scatter(x='Baggage_pcs', y='target', marker='o', figsize=(7,5))"
   ]
  },
  {
   "cell_type": "markdown",
   "metadata": {},
   "source": [
    "#### Removing 0 values from Price and Duration column because we assume that tickets are not free."
   ]
  },
  {
   "cell_type": "code",
   "execution_count": 35,
   "metadata": {},
   "outputs": [],
   "source": [
    "Flight_Prices = df[df['target']!=0.0]"
   ]
  },
  {
   "cell_type": "code",
   "execution_count": 36,
   "metadata": {},
   "outputs": [
    {
     "data": {
      "text/plain": [
       "(21775446, 17)"
      ]
     },
     "execution_count": 36,
     "metadata": {},
     "output_type": "execute_result"
    }
   ],
   "source": [
    "Flight_Prices.shape"
   ]
  },
  {
   "cell_type": "code",
   "execution_count": 37,
   "metadata": {},
   "outputs": [
    {
     "data": {
      "text/plain": [
       "338"
      ]
     },
     "execution_count": 37,
     "metadata": {},
     "output_type": "execute_result"
    }
   ],
   "source": [
    "21775784-21775446"
   ]
  },
  {
   "cell_type": "markdown",
   "metadata": {},
   "source": [
    "#### One-hot Encoding"
   ]
  },
  {
   "cell_type": "code",
   "execution_count": 38,
   "metadata": {},
   "outputs": [],
   "source": [
    "\n",
    "dfDummies = pd.get_dummies(Flight_Prices['Airline'], prefix = 'Airline')\n",
    "data = pd.concat([Flight_Prices, dfDummies], axis=1)\n",
    "\n"
   ]
  },
  {
   "cell_type": "code",
   "execution_count": 39,
   "metadata": {},
   "outputs": [
    {
     "data": {
      "text/plain": [
       "(21775446, 21)"
      ]
     },
     "execution_count": 39,
     "metadata": {},
     "output_type": "execute_result"
    }
   ],
   "source": [
    "data.shape"
   ]
  },
  {
   "cell_type": "code",
   "execution_count": 40,
   "metadata": {},
   "outputs": [
    {
     "data": {
      "text/html": [
       "<div>\n",
       "<style scoped>\n",
       "    .dataframe tbody tr th:only-of-type {\n",
       "        vertical-align: middle;\n",
       "    }\n",
       "\n",
       "    .dataframe tbody tr th {\n",
       "        vertical-align: top;\n",
       "    }\n",
       "\n",
       "    .dataframe thead th {\n",
       "        text-align: right;\n",
       "    }\n",
       "</style>\n",
       "<table border=\"1\" class=\"dataframe\">\n",
       "  <thead>\n",
       "    <tr style=\"text-align: right;\">\n",
       "      <th></th>\n",
       "      <th></th>\n",
       "      <th>target</th>\n",
       "    </tr>\n",
       "    <tr>\n",
       "      <th>Weekday Name</th>\n",
       "      <th>Airline</th>\n",
       "      <th></th>\n",
       "    </tr>\n",
       "  </thead>\n",
       "  <tbody>\n",
       "    <tr>\n",
       "      <th rowspan=\"4\" valign=\"top\">Friday</th>\n",
       "      <th>alpha</th>\n",
       "      <td>10364.701734</td>\n",
       "    </tr>\n",
       "    <tr>\n",
       "      <th>beta</th>\n",
       "      <td>9747.446640</td>\n",
       "    </tr>\n",
       "    <tr>\n",
       "      <th>gamma</th>\n",
       "      <td>10685.305568</td>\n",
       "    </tr>\n",
       "    <tr>\n",
       "      <th>omega</th>\n",
       "      <td>10022.554388</td>\n",
       "    </tr>\n",
       "    <tr>\n",
       "      <th rowspan=\"4\" valign=\"top\">Monday</th>\n",
       "      <th>alpha</th>\n",
       "      <td>9929.550905</td>\n",
       "    </tr>\n",
       "    <tr>\n",
       "      <th>beta</th>\n",
       "      <td>9399.253073</td>\n",
       "    </tr>\n",
       "    <tr>\n",
       "      <th>gamma</th>\n",
       "      <td>10152.117440</td>\n",
       "    </tr>\n",
       "    <tr>\n",
       "      <th>omega</th>\n",
       "      <td>9530.683250</td>\n",
       "    </tr>\n",
       "    <tr>\n",
       "      <th rowspan=\"4\" valign=\"top\">Saturday</th>\n",
       "      <th>alpha</th>\n",
       "      <td>10154.848912</td>\n",
       "    </tr>\n",
       "    <tr>\n",
       "      <th>beta</th>\n",
       "      <td>9617.841756</td>\n",
       "    </tr>\n",
       "    <tr>\n",
       "      <th>gamma</th>\n",
       "      <td>10573.884460</td>\n",
       "    </tr>\n",
       "    <tr>\n",
       "      <th>omega</th>\n",
       "      <td>9929.745592</td>\n",
       "    </tr>\n",
       "    <tr>\n",
       "      <th rowspan=\"4\" valign=\"top\">Sunday</th>\n",
       "      <th>alpha</th>\n",
       "      <td>10067.549097</td>\n",
       "    </tr>\n",
       "    <tr>\n",
       "      <th>beta</th>\n",
       "      <td>9560.537558</td>\n",
       "    </tr>\n",
       "    <tr>\n",
       "      <th>gamma</th>\n",
       "      <td>10343.689952</td>\n",
       "    </tr>\n",
       "    <tr>\n",
       "      <th>omega</th>\n",
       "      <td>9692.430842</td>\n",
       "    </tr>\n",
       "    <tr>\n",
       "      <th rowspan=\"4\" valign=\"top\">Thursday</th>\n",
       "      <th>alpha</th>\n",
       "      <td>10314.036931</td>\n",
       "    </tr>\n",
       "    <tr>\n",
       "      <th>beta</th>\n",
       "      <td>9769.949703</td>\n",
       "    </tr>\n",
       "    <tr>\n",
       "      <th>gamma</th>\n",
       "      <td>10647.224658</td>\n",
       "    </tr>\n",
       "    <tr>\n",
       "      <th>omega</th>\n",
       "      <td>10263.047487</td>\n",
       "    </tr>\n",
       "    <tr>\n",
       "      <th rowspan=\"4\" valign=\"top\">Tuesday</th>\n",
       "      <th>alpha</th>\n",
       "      <td>9986.744987</td>\n",
       "    </tr>\n",
       "    <tr>\n",
       "      <th>beta</th>\n",
       "      <td>9516.186971</td>\n",
       "    </tr>\n",
       "    <tr>\n",
       "      <th>gamma</th>\n",
       "      <td>10172.676812</td>\n",
       "    </tr>\n",
       "    <tr>\n",
       "      <th>omega</th>\n",
       "      <td>9704.991482</td>\n",
       "    </tr>\n",
       "    <tr>\n",
       "      <th rowspan=\"4\" valign=\"top\">Wednesday</th>\n",
       "      <th>alpha</th>\n",
       "      <td>10230.658758</td>\n",
       "    </tr>\n",
       "    <tr>\n",
       "      <th>beta</th>\n",
       "      <td>9705.490376</td>\n",
       "    </tr>\n",
       "    <tr>\n",
       "      <th>gamma</th>\n",
       "      <td>10463.803611</td>\n",
       "    </tr>\n",
       "    <tr>\n",
       "      <th>omega</th>\n",
       "      <td>10007.419165</td>\n",
       "    </tr>\n",
       "  </tbody>\n",
       "</table>\n",
       "</div>"
      ],
      "text/plain": [
       "                            target\n",
       "Weekday Name Airline              \n",
       "Friday       alpha    10364.701734\n",
       "             beta      9747.446640\n",
       "             gamma    10685.305568\n",
       "             omega    10022.554388\n",
       "Monday       alpha     9929.550905\n",
       "             beta      9399.253073\n",
       "             gamma    10152.117440\n",
       "             omega     9530.683250\n",
       "Saturday     alpha    10154.848912\n",
       "             beta      9617.841756\n",
       "             gamma    10573.884460\n",
       "             omega     9929.745592\n",
       "Sunday       alpha    10067.549097\n",
       "             beta      9560.537558\n",
       "             gamma    10343.689952\n",
       "             omega     9692.430842\n",
       "Thursday     alpha    10314.036931\n",
       "             beta      9769.949703\n",
       "             gamma    10647.224658\n",
       "             omega    10263.047487\n",
       "Tuesday      alpha     9986.744987\n",
       "             beta      9516.186971\n",
       "             gamma    10172.676812\n",
       "             omega     9704.991482\n",
       "Wednesday    alpha    10230.658758\n",
       "             beta      9705.490376\n",
       "             gamma    10463.803611\n",
       "             omega    10007.419165"
      ]
     },
     "execution_count": 40,
     "metadata": {},
     "output_type": "execute_result"
    }
   ],
   "source": [
    "table = pd.pivot_table(data,index=['Weekday Name','Airline'],aggfunc={'target':np.mean})\n",
    "table"
   ]
  },
  {
   "cell_type": "code",
   "execution_count": 41,
   "metadata": {},
   "outputs": [],
   "source": [
    "\n",
    "dfDummies = pd.get_dummies(Flight_Prices['Weekday Name'], prefix = 'Weekday Name')\n",
    "data = pd.concat([data, dfDummies], axis=1)\n",
    "\n"
   ]
  },
  {
   "cell_type": "markdown",
   "metadata": {},
   "source": [
    "#### we have decided to one-hot encode the ticket purchase days. This is because while on Mondays and tuesdays ticket prices were the cheapest, we didn't see this trend refelcted for all the other days. But we've seen an interesting information that gamma ticket prices for all the days of the week is the highest, whereas alpha & omega fall in mid-range."
   ]
  },
  {
   "cell_type": "code",
   "execution_count": 42,
   "metadata": {},
   "outputs": [
    {
     "data": {
      "text/html": [
       "<div>\n",
       "<style scoped>\n",
       "    .dataframe tbody tr th:only-of-type {\n",
       "        vertical-align: middle;\n",
       "    }\n",
       "\n",
       "    .dataframe tbody tr th {\n",
       "        vertical-align: top;\n",
       "    }\n",
       "\n",
       "    .dataframe thead th {\n",
       "        text-align: right;\n",
       "    }\n",
       "</style>\n",
       "<table border=\"1\" class=\"dataframe\">\n",
       "  <thead>\n",
       "    <tr style=\"text-align: right;\">\n",
       "      <th></th>\n",
       "      <th></th>\n",
       "      <th>target</th>\n",
       "    </tr>\n",
       "    <tr>\n",
       "      <th>Baggage_wt.</th>\n",
       "      <th>Airline</th>\n",
       "      <th></th>\n",
       "    </tr>\n",
       "  </thead>\n",
       "  <tbody>\n",
       "    <tr>\n",
       "      <th rowspan=\"2\" valign=\"top\">0.0</th>\n",
       "      <th>alpha</th>\n",
       "      <td>8884.254736</td>\n",
       "    </tr>\n",
       "    <tr>\n",
       "      <th>gamma</th>\n",
       "      <td>8600.436837</td>\n",
       "    </tr>\n",
       "    <tr>\n",
       "      <th>15.0</th>\n",
       "      <th>alpha</th>\n",
       "      <td>9545.095534</td>\n",
       "    </tr>\n",
       "    <tr>\n",
       "      <th rowspan=\"4\" valign=\"top\">20.0</th>\n",
       "      <th>alpha</th>\n",
       "      <td>10934.072605</td>\n",
       "    </tr>\n",
       "    <tr>\n",
       "      <th>beta</th>\n",
       "      <td>8019.469099</td>\n",
       "    </tr>\n",
       "    <tr>\n",
       "      <th>gamma</th>\n",
       "      <td>10520.977360</td>\n",
       "    </tr>\n",
       "    <tr>\n",
       "      <th>omega</th>\n",
       "      <td>9871.741496</td>\n",
       "    </tr>\n",
       "    <tr>\n",
       "      <th>32.0</th>\n",
       "      <th>gamma</th>\n",
       "      <td>10164.101824</td>\n",
       "    </tr>\n",
       "    <tr>\n",
       "      <th rowspan=\"2\" valign=\"top\">35.0</th>\n",
       "      <th>alpha</th>\n",
       "      <td>10724.435194</td>\n",
       "    </tr>\n",
       "    <tr>\n",
       "      <th>beta</th>\n",
       "      <td>9590.821464</td>\n",
       "    </tr>\n",
       "    <tr>\n",
       "      <th>40.0</th>\n",
       "      <th>beta</th>\n",
       "      <td>11772.872433</td>\n",
       "    </tr>\n",
       "    <tr>\n",
       "      <th>45.0</th>\n",
       "      <th>beta</th>\n",
       "      <td>14631.746685</td>\n",
       "    </tr>\n",
       "  </tbody>\n",
       "</table>\n",
       "</div>"
      ],
      "text/plain": [
       "                           target\n",
       "Baggage_wt. Airline              \n",
       "0.0         alpha     8884.254736\n",
       "            gamma     8600.436837\n",
       "15.0        alpha     9545.095534\n",
       "20.0        alpha    10934.072605\n",
       "            beta      8019.469099\n",
       "            gamma    10520.977360\n",
       "            omega     9871.741496\n",
       "32.0        gamma    10164.101824\n",
       "35.0        alpha    10724.435194\n",
       "            beta      9590.821464\n",
       "40.0        beta     11772.872433\n",
       "45.0        beta     14631.746685"
      ]
     },
     "execution_count": 42,
     "metadata": {},
     "output_type": "execute_result"
    }
   ],
   "source": [
    "table = pd.pivot_table(data,index=['Baggage_wt.', \"Airline\"],aggfunc={'target':np.mean})\n",
    "table"
   ]
  },
  {
   "cell_type": "markdown",
   "metadata": {},
   "source": [
    "#### The more the luggage you have, the higher ticket price will be. Since, there are only seven unique values so we've decided to manually Encode the Baggage wt. column. "
   ]
  },
  {
   "cell_type": "code",
   "execution_count": 43,
   "metadata": {},
   "outputs": [
    {
     "data": {
      "text/plain": [
       "20.0    11125790\n",
       "15.0     4448068\n",
       "35.0     3548262\n",
       "40.0     1611354\n",
       "0.0       608375\n",
       "32.0      422512\n",
       "45.0       11085\n",
       "Name: Baggage_wt., dtype: int64"
      ]
     },
     "execution_count": 43,
     "metadata": {},
     "output_type": "execute_result"
    }
   ],
   "source": [
    "data['Baggage_wt.'].value_counts()"
   ]
  },
  {
   "cell_type": "markdown",
   "metadata": {},
   "source": [
    "#### Manually encoding 'Baggage_wt.'"
   ]
  },
  {
   "cell_type": "code",
   "execution_count": 44,
   "metadata": {},
   "outputs": [],
   "source": [
    "data['Baggage_wt'] = data['Baggage_wt.'].replace([0.0,15.0,20.0,32.0,35.0,40.0,45.0],[1,2,3,4,5,6,7])"
   ]
  },
  {
   "cell_type": "code",
   "execution_count": 45,
   "metadata": {},
   "outputs": [
    {
     "data": {
      "text/html": [
       "<div>\n",
       "<style scoped>\n",
       "    .dataframe tbody tr th:only-of-type {\n",
       "        vertical-align: middle;\n",
       "    }\n",
       "\n",
       "    .dataframe tbody tr th {\n",
       "        vertical-align: top;\n",
       "    }\n",
       "\n",
       "    .dataframe thead th {\n",
       "        text-align: right;\n",
       "    }\n",
       "</style>\n",
       "<table border=\"1\" class=\"dataframe\">\n",
       "  <thead>\n",
       "    <tr style=\"text-align: right;\">\n",
       "      <th></th>\n",
       "      <th>Dept Date_Time</th>\n",
       "      <th>Arrival Date_Time</th>\n",
       "      <th>Airline</th>\n",
       "      <th>Refundable</th>\n",
       "      <th>Baggage_wt.</th>\n",
       "      <th>Baggage_pcs</th>\n",
       "      <th>Flight_no</th>\n",
       "      <th>target</th>\n",
       "      <th>pur-dept-diff</th>\n",
       "      <th>Month</th>\n",
       "      <th>...</th>\n",
       "      <th>Airline_gamma</th>\n",
       "      <th>Airline_omega</th>\n",
       "      <th>Weekday Name_Friday</th>\n",
       "      <th>Weekday Name_Monday</th>\n",
       "      <th>Weekday Name_Saturday</th>\n",
       "      <th>Weekday Name_Sunday</th>\n",
       "      <th>Weekday Name_Thursday</th>\n",
       "      <th>Weekday Name_Tuesday</th>\n",
       "      <th>Weekday Name_Wednesday</th>\n",
       "      <th>Baggage_wt</th>\n",
       "    </tr>\n",
       "    <tr>\n",
       "      <th>Purchase Time</th>\n",
       "      <th></th>\n",
       "      <th></th>\n",
       "      <th></th>\n",
       "      <th></th>\n",
       "      <th></th>\n",
       "      <th></th>\n",
       "      <th></th>\n",
       "      <th></th>\n",
       "      <th></th>\n",
       "      <th></th>\n",
       "      <th></th>\n",
       "      <th></th>\n",
       "      <th></th>\n",
       "      <th></th>\n",
       "      <th></th>\n",
       "      <th></th>\n",
       "      <th></th>\n",
       "      <th></th>\n",
       "      <th></th>\n",
       "      <th></th>\n",
       "      <th></th>\n",
       "    </tr>\n",
       "  </thead>\n",
       "  <tbody>\n",
       "    <tr>\n",
       "      <th>2020-12-31 09:46:17.463002+00:00</th>\n",
       "      <td>2021-01-10 05:00:00+00:00</td>\n",
       "      <td>2021-01-10 07:00:00+00:00</td>\n",
       "      <td>gamma</td>\n",
       "      <td>True</td>\n",
       "      <td>0.0</td>\n",
       "      <td>0</td>\n",
       "      <td>c-2</td>\n",
       "      <td>7400.0</td>\n",
       "      <td>9.801187</td>\n",
       "      <td>12</td>\n",
       "      <td>...</td>\n",
       "      <td>1</td>\n",
       "      <td>0</td>\n",
       "      <td>0</td>\n",
       "      <td>0</td>\n",
       "      <td>0</td>\n",
       "      <td>0</td>\n",
       "      <td>1</td>\n",
       "      <td>0</td>\n",
       "      <td>0</td>\n",
       "      <td>1.0</td>\n",
       "    </tr>\n",
       "    <tr>\n",
       "      <th>2020-12-31 09:46:17.463002+00:00</th>\n",
       "      <td>2021-01-10 05:00:00+00:00</td>\n",
       "      <td>2021-01-10 07:00:00+00:00</td>\n",
       "      <td>gamma</td>\n",
       "      <td>True</td>\n",
       "      <td>32.0</td>\n",
       "      <td>1</td>\n",
       "      <td>c-2</td>\n",
       "      <td>8650.0</td>\n",
       "      <td>9.801187</td>\n",
       "      <td>12</td>\n",
       "      <td>...</td>\n",
       "      <td>1</td>\n",
       "      <td>0</td>\n",
       "      <td>0</td>\n",
       "      <td>0</td>\n",
       "      <td>0</td>\n",
       "      <td>0</td>\n",
       "      <td>1</td>\n",
       "      <td>0</td>\n",
       "      <td>0</td>\n",
       "      <td>4.0</td>\n",
       "    </tr>\n",
       "    <tr>\n",
       "      <th>2020-12-31 09:46:17.463002+00:00</th>\n",
       "      <td>2021-01-10 11:00:00+00:00</td>\n",
       "      <td>2021-01-10 13:00:00+00:00</td>\n",
       "      <td>gamma</td>\n",
       "      <td>True</td>\n",
       "      <td>32.0</td>\n",
       "      <td>1</td>\n",
       "      <td>c-4</td>\n",
       "      <td>9150.0</td>\n",
       "      <td>10.051187</td>\n",
       "      <td>12</td>\n",
       "      <td>...</td>\n",
       "      <td>1</td>\n",
       "      <td>0</td>\n",
       "      <td>0</td>\n",
       "      <td>0</td>\n",
       "      <td>0</td>\n",
       "      <td>0</td>\n",
       "      <td>1</td>\n",
       "      <td>0</td>\n",
       "      <td>0</td>\n",
       "      <td>4.0</td>\n",
       "    </tr>\n",
       "    <tr>\n",
       "      <th>2020-12-31 09:46:17.463002+00:00</th>\n",
       "      <td>2021-01-10 11:00:00+00:00</td>\n",
       "      <td>2021-01-10 13:00:00+00:00</td>\n",
       "      <td>gamma</td>\n",
       "      <td>True</td>\n",
       "      <td>32.0</td>\n",
       "      <td>2</td>\n",
       "      <td>c-4</td>\n",
       "      <td>10400.0</td>\n",
       "      <td>10.051187</td>\n",
       "      <td>12</td>\n",
       "      <td>...</td>\n",
       "      <td>1</td>\n",
       "      <td>0</td>\n",
       "      <td>0</td>\n",
       "      <td>0</td>\n",
       "      <td>0</td>\n",
       "      <td>0</td>\n",
       "      <td>1</td>\n",
       "      <td>0</td>\n",
       "      <td>0</td>\n",
       "      <td>4.0</td>\n",
       "    </tr>\n",
       "    <tr>\n",
       "      <th>2020-12-31 09:46:18.191119+00:00</th>\n",
       "      <td>2021-01-25 11:00:00+00:00</td>\n",
       "      <td>2021-01-25 12:55:00+00:00</td>\n",
       "      <td>beta</td>\n",
       "      <td>False</td>\n",
       "      <td>20.0</td>\n",
       "      <td>0</td>\n",
       "      <td>b-69</td>\n",
       "      <td>8697.0</td>\n",
       "      <td>25.051178</td>\n",
       "      <td>12</td>\n",
       "      <td>...</td>\n",
       "      <td>0</td>\n",
       "      <td>0</td>\n",
       "      <td>0</td>\n",
       "      <td>0</td>\n",
       "      <td>0</td>\n",
       "      <td>0</td>\n",
       "      <td>1</td>\n",
       "      <td>0</td>\n",
       "      <td>0</td>\n",
       "      <td>3.0</td>\n",
       "    </tr>\n",
       "    <tr>\n",
       "      <th>...</th>\n",
       "      <td>...</td>\n",
       "      <td>...</td>\n",
       "      <td>...</td>\n",
       "      <td>...</td>\n",
       "      <td>...</td>\n",
       "      <td>...</td>\n",
       "      <td>...</td>\n",
       "      <td>...</td>\n",
       "      <td>...</td>\n",
       "      <td>...</td>\n",
       "      <td>...</td>\n",
       "      <td>...</td>\n",
       "      <td>...</td>\n",
       "      <td>...</td>\n",
       "      <td>...</td>\n",
       "      <td>...</td>\n",
       "      <td>...</td>\n",
       "      <td>...</td>\n",
       "      <td>...</td>\n",
       "      <td>...</td>\n",
       "      <td>...</td>\n",
       "    </tr>\n",
       "    <tr>\n",
       "      <th>2021-08-31 23:29:18.122593+00:00</th>\n",
       "      <td>2021-09-03 10:00:00+00:00</td>\n",
       "      <td>2021-09-03 12:00:00+00:00</td>\n",
       "      <td>alpha</td>\n",
       "      <td>True</td>\n",
       "      <td>20.0</td>\n",
       "      <td>1</td>\n",
       "      <td>a-7</td>\n",
       "      <td>8381.0</td>\n",
       "      <td>2.437985</td>\n",
       "      <td>8</td>\n",
       "      <td>...</td>\n",
       "      <td>0</td>\n",
       "      <td>0</td>\n",
       "      <td>0</td>\n",
       "      <td>0</td>\n",
       "      <td>0</td>\n",
       "      <td>0</td>\n",
       "      <td>0</td>\n",
       "      <td>1</td>\n",
       "      <td>0</td>\n",
       "      <td>3.0</td>\n",
       "    </tr>\n",
       "    <tr>\n",
       "      <th>2021-08-31 23:29:18.122593+00:00</th>\n",
       "      <td>2021-09-03 13:40:00+00:00</td>\n",
       "      <td>2021-09-03 15:40:00+00:00</td>\n",
       "      <td>alpha</td>\n",
       "      <td>True</td>\n",
       "      <td>15.0</td>\n",
       "      <td>1</td>\n",
       "      <td>a-9</td>\n",
       "      <td>9045.0</td>\n",
       "      <td>2.590762</td>\n",
       "      <td>8</td>\n",
       "      <td>...</td>\n",
       "      <td>0</td>\n",
       "      <td>0</td>\n",
       "      <td>0</td>\n",
       "      <td>0</td>\n",
       "      <td>0</td>\n",
       "      <td>0</td>\n",
       "      <td>0</td>\n",
       "      <td>1</td>\n",
       "      <td>0</td>\n",
       "      <td>2.0</td>\n",
       "    </tr>\n",
       "    <tr>\n",
       "      <th>2021-08-31 23:29:18.961691+00:00</th>\n",
       "      <td>2021-09-03 04:40:00+00:00</td>\n",
       "      <td>2021-09-03 06:40:00+00:00</td>\n",
       "      <td>omega</td>\n",
       "      <td>True</td>\n",
       "      <td>20.0</td>\n",
       "      <td>1</td>\n",
       "      <td>d-1</td>\n",
       "      <td>6155.0</td>\n",
       "      <td>2.215753</td>\n",
       "      <td>8</td>\n",
       "      <td>...</td>\n",
       "      <td>0</td>\n",
       "      <td>1</td>\n",
       "      <td>0</td>\n",
       "      <td>0</td>\n",
       "      <td>0</td>\n",
       "      <td>0</td>\n",
       "      <td>0</td>\n",
       "      <td>1</td>\n",
       "      <td>0</td>\n",
       "      <td>3.0</td>\n",
       "    </tr>\n",
       "    <tr>\n",
       "      <th>2021-08-31 23:29:18.961691+00:00</th>\n",
       "      <td>2021-09-03 10:35:00+00:00</td>\n",
       "      <td>2021-09-03 12:35:00+00:00</td>\n",
       "      <td>omega</td>\n",
       "      <td>True</td>\n",
       "      <td>20.0</td>\n",
       "      <td>1</td>\n",
       "      <td>d-3</td>\n",
       "      <td>6155.0</td>\n",
       "      <td>2.462281</td>\n",
       "      <td>8</td>\n",
       "      <td>...</td>\n",
       "      <td>0</td>\n",
       "      <td>1</td>\n",
       "      <td>0</td>\n",
       "      <td>0</td>\n",
       "      <td>0</td>\n",
       "      <td>0</td>\n",
       "      <td>0</td>\n",
       "      <td>1</td>\n",
       "      <td>0</td>\n",
       "      <td>3.0</td>\n",
       "    </tr>\n",
       "    <tr>\n",
       "      <th>2021-08-31 23:29:18.961691+00:00</th>\n",
       "      <td>2021-09-03 17:05:00+00:00</td>\n",
       "      <td>2021-09-03 19:05:00+00:00</td>\n",
       "      <td>omega</td>\n",
       "      <td>True</td>\n",
       "      <td>20.0</td>\n",
       "      <td>1</td>\n",
       "      <td>d-5</td>\n",
       "      <td>6605.0</td>\n",
       "      <td>2.733114</td>\n",
       "      <td>8</td>\n",
       "      <td>...</td>\n",
       "      <td>0</td>\n",
       "      <td>1</td>\n",
       "      <td>0</td>\n",
       "      <td>0</td>\n",
       "      <td>0</td>\n",
       "      <td>0</td>\n",
       "      <td>0</td>\n",
       "      <td>1</td>\n",
       "      <td>0</td>\n",
       "      <td>3.0</td>\n",
       "    </tr>\n",
       "  </tbody>\n",
       "</table>\n",
       "<p>21775446 rows × 29 columns</p>\n",
       "</div>"
      ],
      "text/plain": [
       "                                            Dept Date_Time  \\\n",
       "Purchase Time                                                \n",
       "2020-12-31 09:46:17.463002+00:00 2021-01-10 05:00:00+00:00   \n",
       "2020-12-31 09:46:17.463002+00:00 2021-01-10 05:00:00+00:00   \n",
       "2020-12-31 09:46:17.463002+00:00 2021-01-10 11:00:00+00:00   \n",
       "2020-12-31 09:46:17.463002+00:00 2021-01-10 11:00:00+00:00   \n",
       "2020-12-31 09:46:18.191119+00:00 2021-01-25 11:00:00+00:00   \n",
       "...                                                    ...   \n",
       "2021-08-31 23:29:18.122593+00:00 2021-09-03 10:00:00+00:00   \n",
       "2021-08-31 23:29:18.122593+00:00 2021-09-03 13:40:00+00:00   \n",
       "2021-08-31 23:29:18.961691+00:00 2021-09-03 04:40:00+00:00   \n",
       "2021-08-31 23:29:18.961691+00:00 2021-09-03 10:35:00+00:00   \n",
       "2021-08-31 23:29:18.961691+00:00 2021-09-03 17:05:00+00:00   \n",
       "\n",
       "                                         Arrival Date_Time Airline  \\\n",
       "Purchase Time                                                        \n",
       "2020-12-31 09:46:17.463002+00:00 2021-01-10 07:00:00+00:00   gamma   \n",
       "2020-12-31 09:46:17.463002+00:00 2021-01-10 07:00:00+00:00   gamma   \n",
       "2020-12-31 09:46:17.463002+00:00 2021-01-10 13:00:00+00:00   gamma   \n",
       "2020-12-31 09:46:17.463002+00:00 2021-01-10 13:00:00+00:00   gamma   \n",
       "2020-12-31 09:46:18.191119+00:00 2021-01-25 12:55:00+00:00    beta   \n",
       "...                                                    ...     ...   \n",
       "2021-08-31 23:29:18.122593+00:00 2021-09-03 12:00:00+00:00   alpha   \n",
       "2021-08-31 23:29:18.122593+00:00 2021-09-03 15:40:00+00:00   alpha   \n",
       "2021-08-31 23:29:18.961691+00:00 2021-09-03 06:40:00+00:00   omega   \n",
       "2021-08-31 23:29:18.961691+00:00 2021-09-03 12:35:00+00:00   omega   \n",
       "2021-08-31 23:29:18.961691+00:00 2021-09-03 19:05:00+00:00   omega   \n",
       "\n",
       "                                  Refundable  Baggage_wt.  Baggage_pcs  \\\n",
       "Purchase Time                                                            \n",
       "2020-12-31 09:46:17.463002+00:00        True          0.0            0   \n",
       "2020-12-31 09:46:17.463002+00:00        True         32.0            1   \n",
       "2020-12-31 09:46:17.463002+00:00        True         32.0            1   \n",
       "2020-12-31 09:46:17.463002+00:00        True         32.0            2   \n",
       "2020-12-31 09:46:18.191119+00:00       False         20.0            0   \n",
       "...                                      ...          ...          ...   \n",
       "2021-08-31 23:29:18.122593+00:00        True         20.0            1   \n",
       "2021-08-31 23:29:18.122593+00:00        True         15.0            1   \n",
       "2021-08-31 23:29:18.961691+00:00        True         20.0            1   \n",
       "2021-08-31 23:29:18.961691+00:00        True         20.0            1   \n",
       "2021-08-31 23:29:18.961691+00:00        True         20.0            1   \n",
       "\n",
       "                                 Flight_no   target  pur-dept-diff  Month  \\\n",
       "Purchase Time                                                               \n",
       "2020-12-31 09:46:17.463002+00:00       c-2   7400.0       9.801187     12   \n",
       "2020-12-31 09:46:17.463002+00:00       c-2   8650.0       9.801187     12   \n",
       "2020-12-31 09:46:17.463002+00:00       c-4   9150.0      10.051187     12   \n",
       "2020-12-31 09:46:17.463002+00:00       c-4  10400.0      10.051187     12   \n",
       "2020-12-31 09:46:18.191119+00:00      b-69   8697.0      25.051178     12   \n",
       "...                                    ...      ...            ...    ...   \n",
       "2021-08-31 23:29:18.122593+00:00       a-7   8381.0       2.437985      8   \n",
       "2021-08-31 23:29:18.122593+00:00       a-9   9045.0       2.590762      8   \n",
       "2021-08-31 23:29:18.961691+00:00       d-1   6155.0       2.215753      8   \n",
       "2021-08-31 23:29:18.961691+00:00       d-3   6155.0       2.462281      8   \n",
       "2021-08-31 23:29:18.961691+00:00       d-5   6605.0       2.733114      8   \n",
       "\n",
       "                                  ... Airline_gamma  Airline_omega  \\\n",
       "Purchase Time                     ...                                \n",
       "2020-12-31 09:46:17.463002+00:00  ...             1              0   \n",
       "2020-12-31 09:46:17.463002+00:00  ...             1              0   \n",
       "2020-12-31 09:46:17.463002+00:00  ...             1              0   \n",
       "2020-12-31 09:46:17.463002+00:00  ...             1              0   \n",
       "2020-12-31 09:46:18.191119+00:00  ...             0              0   \n",
       "...                               ...           ...            ...   \n",
       "2021-08-31 23:29:18.122593+00:00  ...             0              0   \n",
       "2021-08-31 23:29:18.122593+00:00  ...             0              0   \n",
       "2021-08-31 23:29:18.961691+00:00  ...             0              1   \n",
       "2021-08-31 23:29:18.961691+00:00  ...             0              1   \n",
       "2021-08-31 23:29:18.961691+00:00  ...             0              1   \n",
       "\n",
       "                                  Weekday Name_Friday  Weekday Name_Monday  \\\n",
       "Purchase Time                                                                \n",
       "2020-12-31 09:46:17.463002+00:00                    0                    0   \n",
       "2020-12-31 09:46:17.463002+00:00                    0                    0   \n",
       "2020-12-31 09:46:17.463002+00:00                    0                    0   \n",
       "2020-12-31 09:46:17.463002+00:00                    0                    0   \n",
       "2020-12-31 09:46:18.191119+00:00                    0                    0   \n",
       "...                                               ...                  ...   \n",
       "2021-08-31 23:29:18.122593+00:00                    0                    0   \n",
       "2021-08-31 23:29:18.122593+00:00                    0                    0   \n",
       "2021-08-31 23:29:18.961691+00:00                    0                    0   \n",
       "2021-08-31 23:29:18.961691+00:00                    0                    0   \n",
       "2021-08-31 23:29:18.961691+00:00                    0                    0   \n",
       "\n",
       "                                  Weekday Name_Saturday  Weekday Name_Sunday  \\\n",
       "Purchase Time                                                                  \n",
       "2020-12-31 09:46:17.463002+00:00                      0                    0   \n",
       "2020-12-31 09:46:17.463002+00:00                      0                    0   \n",
       "2020-12-31 09:46:17.463002+00:00                      0                    0   \n",
       "2020-12-31 09:46:17.463002+00:00                      0                    0   \n",
       "2020-12-31 09:46:18.191119+00:00                      0                    0   \n",
       "...                                                 ...                  ...   \n",
       "2021-08-31 23:29:18.122593+00:00                      0                    0   \n",
       "2021-08-31 23:29:18.122593+00:00                      0                    0   \n",
       "2021-08-31 23:29:18.961691+00:00                      0                    0   \n",
       "2021-08-31 23:29:18.961691+00:00                      0                    0   \n",
       "2021-08-31 23:29:18.961691+00:00                      0                    0   \n",
       "\n",
       "                                  Weekday Name_Thursday  Weekday Name_Tuesday  \\\n",
       "Purchase Time                                                                   \n",
       "2020-12-31 09:46:17.463002+00:00                      1                     0   \n",
       "2020-12-31 09:46:17.463002+00:00                      1                     0   \n",
       "2020-12-31 09:46:17.463002+00:00                      1                     0   \n",
       "2020-12-31 09:46:17.463002+00:00                      1                     0   \n",
       "2020-12-31 09:46:18.191119+00:00                      1                     0   \n",
       "...                                                 ...                   ...   \n",
       "2021-08-31 23:29:18.122593+00:00                      0                     1   \n",
       "2021-08-31 23:29:18.122593+00:00                      0                     1   \n",
       "2021-08-31 23:29:18.961691+00:00                      0                     1   \n",
       "2021-08-31 23:29:18.961691+00:00                      0                     1   \n",
       "2021-08-31 23:29:18.961691+00:00                      0                     1   \n",
       "\n",
       "                                  Weekday Name_Wednesday  Baggage_wt  \n",
       "Purchase Time                                                         \n",
       "2020-12-31 09:46:17.463002+00:00                       0         1.0  \n",
       "2020-12-31 09:46:17.463002+00:00                       0         4.0  \n",
       "2020-12-31 09:46:17.463002+00:00                       0         4.0  \n",
       "2020-12-31 09:46:17.463002+00:00                       0         4.0  \n",
       "2020-12-31 09:46:18.191119+00:00                       0         3.0  \n",
       "...                                                  ...         ...  \n",
       "2021-08-31 23:29:18.122593+00:00                       0         3.0  \n",
       "2021-08-31 23:29:18.122593+00:00                       0         2.0  \n",
       "2021-08-31 23:29:18.961691+00:00                       0         3.0  \n",
       "2021-08-31 23:29:18.961691+00:00                       0         3.0  \n",
       "2021-08-31 23:29:18.961691+00:00                       0         3.0  \n",
       "\n",
       "[21775446 rows x 29 columns]"
      ]
     },
     "execution_count": 45,
     "metadata": {},
     "output_type": "execute_result"
    }
   ],
   "source": [
    "data"
   ]
  },
  {
   "cell_type": "markdown",
   "metadata": {},
   "source": [
    "#### Manual Encoding"
   ]
  },
  {
   "cell_type": "code",
   "execution_count": 46,
   "metadata": {},
   "outputs": [],
   "source": [
    "data['Refundable'] = data['Refundable'].replace([True,False],[1,0])"
   ]
  },
  {
   "cell_type": "code",
   "execution_count": 47,
   "metadata": {},
   "outputs": [
    {
     "data": {
      "text/plain": [
       "(21775446, 29)"
      ]
     },
     "execution_count": 47,
     "metadata": {},
     "output_type": "execute_result"
    }
   ],
   "source": [
    "data.shape"
   ]
  },
  {
   "cell_type": "code",
   "execution_count": 48,
   "metadata": {},
   "outputs": [
    {
     "data": {
      "text/plain": [
       "Index(['Dept Date_Time', 'Arrival Date_Time', 'Airline', 'Refundable',\n",
       "       'Baggage_wt.', 'Baggage_pcs', 'Flight_no', 'target', 'pur-dept-diff',\n",
       "       'Month', 'Weekday Name', 'hour', 'minute', 'second', 'diff_hours',\n",
       "       'Dept Date_Time_day', 'Dept Date_Time_month', 'Airline_alpha',\n",
       "       'Airline_beta', 'Airline_gamma', 'Airline_omega', 'Weekday Name_Friday',\n",
       "       'Weekday Name_Monday', 'Weekday Name_Saturday', 'Weekday Name_Sunday',\n",
       "       'Weekday Name_Thursday', 'Weekday Name_Tuesday',\n",
       "       'Weekday Name_Wednesday', 'Baggage_wt'],\n",
       "      dtype='object')"
      ]
     },
     "execution_count": 48,
     "metadata": {},
     "output_type": "execute_result"
    }
   ],
   "source": [
    "data.columns"
   ]
  },
  {
   "cell_type": "code",
   "execution_count": 49,
   "metadata": {},
   "outputs": [],
   "source": [
    "data.rename(columns={'Month':'Purchase Month','hour':'Purchase Hour'},inplace=True)\n"
   ]
  },
  {
   "cell_type": "markdown",
   "metadata": {},
   "source": [
    "#### On second thought, we have decided to encode the airline values manually, because clearly through our analysis we have found that some airlines tickets are more expensive than others. \n",
    "#### We observed in the pivot table shown above, that for every day of the week when tickets were purchased; gamma was the most expensive , then alpha, omega followed by beta which is the cheapest"
   ]
  },
  {
   "cell_type": "code",
   "execution_count": 50,
   "metadata": {},
   "outputs": [],
   "source": [
    "data['Airline'] = data['Airline'].replace(['gamma', 'alpha', 'omega', 'beta'],[1,2,3,4])"
   ]
  },
  {
   "cell_type": "code",
   "execution_count": 51,
   "metadata": {},
   "outputs": [
    {
     "data": {
      "text/html": [
       "<div>\n",
       "<style scoped>\n",
       "    .dataframe tbody tr th:only-of-type {\n",
       "        vertical-align: middle;\n",
       "    }\n",
       "\n",
       "    .dataframe tbody tr th {\n",
       "        vertical-align: top;\n",
       "    }\n",
       "\n",
       "    .dataframe thead th {\n",
       "        text-align: right;\n",
       "    }\n",
       "</style>\n",
       "<table border=\"1\" class=\"dataframe\">\n",
       "  <thead>\n",
       "    <tr style=\"text-align: right;\">\n",
       "      <th></th>\n",
       "      <th>target</th>\n",
       "    </tr>\n",
       "    <tr>\n",
       "      <th>Airline</th>\n",
       "      <th></th>\n",
       "    </tr>\n",
       "  </thead>\n",
       "  <tbody>\n",
       "    <tr>\n",
       "      <th>1</th>\n",
       "      <td>10427.309367</td>\n",
       "    </tr>\n",
       "    <tr>\n",
       "      <th>2</th>\n",
       "      <td>10145.440235</td>\n",
       "    </tr>\n",
       "    <tr>\n",
       "      <th>3</th>\n",
       "      <td>9871.741496</td>\n",
       "    </tr>\n",
       "    <tr>\n",
       "      <th>4</th>\n",
       "      <td>9610.950297</td>\n",
       "    </tr>\n",
       "  </tbody>\n",
       "</table>\n",
       "</div>"
      ],
      "text/plain": [
       "               target\n",
       "Airline              \n",
       "1        10427.309367\n",
       "2        10145.440235\n",
       "3         9871.741496\n",
       "4         9610.950297"
      ]
     },
     "execution_count": 51,
     "metadata": {},
     "output_type": "execute_result"
    }
   ],
   "source": [
    "table = pd.pivot_table(data,index=['Airline'],aggfunc={'target':np.mean})\n",
    "table"
   ]
  },
  {
   "cell_type": "markdown",
   "metadata": {},
   "source": [
    "#### in the table shown above, we can again see that the average ticket price for gamma is highest and least for beta"
   ]
  },
  {
   "cell_type": "code",
   "execution_count": 52,
   "metadata": {},
   "outputs": [],
   "source": [
    "gamma = data[data['Airline'] == 1]\n",
    "alpha = data[data['Airline'] == 2]\n",
    "omega = data[data['Airline'] == 3]\n",
    "beta = data[data['Airline'] == 4]"
   ]
  },
  {
   "cell_type": "markdown",
   "metadata": {},
   "source": [
    "#### creating a final dataset for training which will be a subset of the original dataset because we did not have the resources to train the model on our local PCs or even Google Colab. We are unable to train any model on the data. In most cases, training goes on for about an hour and then stops because the dataset doesn't fit in the RAM all at once. We have tried to select a population sample from the given data. For this we will be using the airline column. The final dataset will have the same ratio of inputs for each airline that is present in the original data"
   ]
  },
  {
   "cell_type": "markdown",
   "metadata": {},
   "source": [
    "##### alpha    9563377  0.43 of original dataset\n",
    "##### gamma    7568958  0.35 of original\n",
    "##### beta     3994489  0.18 of original\n",
    "##### omega     648960  0.03 of original\n",
    "\n",
    "\n",
    "##### ~2200000 is 1/10th of the original dataset\n",
    "##### 0.43*2200000 = 946000\n",
    "###### 0.35*2200000 = 770000\n",
    "###### 0.18*2200000 = 396000\n",
    "###### 0.03*2200000 = 66000\n",
    "\n",
    "##### Based on this calculation, we will pick up a population sample which will we hope will represent all the trends as well as relationships in the data. We have randomly picked up these samples"
   ]
  },
  {
   "cell_type": "code",
   "execution_count": 53,
   "metadata": {},
   "outputs": [],
   "source": [
    "a=alpha.iloc[946000:1896000]\n",
    "g=gamma.iloc[0:780000]\n",
    "b=beta.iloc[3168000:3570000]\n",
    "o=omega.iloc[330000:396000]"
   ]
  },
  {
   "cell_type": "code",
   "execution_count": 54,
   "metadata": {},
   "outputs": [],
   "source": [
    "data_final = pd.concat([a,g,b,o])"
   ]
  },
  {
   "cell_type": "code",
   "execution_count": 55,
   "metadata": {},
   "outputs": [
    {
     "data": {
      "text/plain": [
       "(2198000, 29)"
      ]
     },
     "execution_count": 55,
     "metadata": {},
     "output_type": "execute_result"
    }
   ],
   "source": [
    "data_final.shape"
   ]
  },
  {
   "cell_type": "code",
   "execution_count": 56,
   "metadata": {
    "scrolled": true
   },
   "outputs": [
    {
     "data": {
      "text/html": [
       "<div>\n",
       "<style scoped>\n",
       "    .dataframe tbody tr th:only-of-type {\n",
       "        vertical-align: middle;\n",
       "    }\n",
       "\n",
       "    .dataframe tbody tr th {\n",
       "        vertical-align: top;\n",
       "    }\n",
       "\n",
       "    .dataframe thead th {\n",
       "        text-align: right;\n",
       "    }\n",
       "</style>\n",
       "<table border=\"1\" class=\"dataframe\">\n",
       "  <thead>\n",
       "    <tr style=\"text-align: right;\">\n",
       "      <th></th>\n",
       "      <th>Dept Date_Time</th>\n",
       "      <th>Arrival Date_Time</th>\n",
       "      <th>Airline</th>\n",
       "      <th>Refundable</th>\n",
       "      <th>Baggage_wt.</th>\n",
       "      <th>Baggage_pcs</th>\n",
       "      <th>Flight_no</th>\n",
       "      <th>target</th>\n",
       "      <th>pur-dept-diff</th>\n",
       "      <th>Purchase Month</th>\n",
       "      <th>...</th>\n",
       "      <th>Airline_gamma</th>\n",
       "      <th>Airline_omega</th>\n",
       "      <th>Weekday Name_Friday</th>\n",
       "      <th>Weekday Name_Monday</th>\n",
       "      <th>Weekday Name_Saturday</th>\n",
       "      <th>Weekday Name_Sunday</th>\n",
       "      <th>Weekday Name_Thursday</th>\n",
       "      <th>Weekday Name_Tuesday</th>\n",
       "      <th>Weekday Name_Wednesday</th>\n",
       "      <th>Baggage_wt</th>\n",
       "    </tr>\n",
       "    <tr>\n",
       "      <th>Purchase Time</th>\n",
       "      <th></th>\n",
       "      <th></th>\n",
       "      <th></th>\n",
       "      <th></th>\n",
       "      <th></th>\n",
       "      <th></th>\n",
       "      <th></th>\n",
       "      <th></th>\n",
       "      <th></th>\n",
       "      <th></th>\n",
       "      <th></th>\n",
       "      <th></th>\n",
       "      <th></th>\n",
       "      <th></th>\n",
       "      <th></th>\n",
       "      <th></th>\n",
       "      <th></th>\n",
       "      <th></th>\n",
       "      <th></th>\n",
       "      <th></th>\n",
       "      <th></th>\n",
       "    </tr>\n",
       "  </thead>\n",
       "  <tbody>\n",
       "    <tr>\n",
       "      <th>2021-02-28 15:13:58.993281+00:00</th>\n",
       "      <td>2021-03-10 13:30:00+00:00</td>\n",
       "      <td>2021-03-10 15:40:00+00:00</td>\n",
       "      <td>2</td>\n",
       "      <td>1</td>\n",
       "      <td>15.0</td>\n",
       "      <td>1</td>\n",
       "      <td>a-5</td>\n",
       "      <td>7502.0</td>\n",
       "      <td>9.927789</td>\n",
       "      <td>2</td>\n",
       "      <td>...</td>\n",
       "      <td>0</td>\n",
       "      <td>0</td>\n",
       "      <td>0</td>\n",
       "      <td>0</td>\n",
       "      <td>0</td>\n",
       "      <td>1</td>\n",
       "      <td>0</td>\n",
       "      <td>0</td>\n",
       "      <td>0</td>\n",
       "      <td>2.0</td>\n",
       "    </tr>\n",
       "    <tr>\n",
       "      <th>2021-02-28 15:13:58.993281+00:00</th>\n",
       "      <td>2021-03-10 13:30:00+00:00</td>\n",
       "      <td>2021-03-10 15:40:00+00:00</td>\n",
       "      <td>2</td>\n",
       "      <td>1</td>\n",
       "      <td>35.0</td>\n",
       "      <td>1</td>\n",
       "      <td>a-5</td>\n",
       "      <td>8027.0</td>\n",
       "      <td>9.927789</td>\n",
       "      <td>2</td>\n",
       "      <td>...</td>\n",
       "      <td>0</td>\n",
       "      <td>0</td>\n",
       "      <td>0</td>\n",
       "      <td>0</td>\n",
       "      <td>0</td>\n",
       "      <td>1</td>\n",
       "      <td>0</td>\n",
       "      <td>0</td>\n",
       "      <td>0</td>\n",
       "      <td>5.0</td>\n",
       "    </tr>\n",
       "    <tr>\n",
       "      <th>2021-02-28 15:13:58.993281+00:00</th>\n",
       "      <td>2021-03-10 16:00:00+00:00</td>\n",
       "      <td>2021-03-10 18:10:00+00:00</td>\n",
       "      <td>2</td>\n",
       "      <td>1</td>\n",
       "      <td>35.0</td>\n",
       "      <td>1</td>\n",
       "      <td>a-7</td>\n",
       "      <td>8027.0</td>\n",
       "      <td>10.031956</td>\n",
       "      <td>2</td>\n",
       "      <td>...</td>\n",
       "      <td>0</td>\n",
       "      <td>0</td>\n",
       "      <td>0</td>\n",
       "      <td>0</td>\n",
       "      <td>0</td>\n",
       "      <td>1</td>\n",
       "      <td>0</td>\n",
       "      <td>0</td>\n",
       "      <td>0</td>\n",
       "      <td>5.0</td>\n",
       "    </tr>\n",
       "    <tr>\n",
       "      <th>2021-02-28 15:14:00.228458+00:00</th>\n",
       "      <td>2021-03-13 05:15:00+00:00</td>\n",
       "      <td>2021-03-13 07:25:00+00:00</td>\n",
       "      <td>2</td>\n",
       "      <td>1</td>\n",
       "      <td>15.0</td>\n",
       "      <td>1</td>\n",
       "      <td>a-1</td>\n",
       "      <td>7502.0</td>\n",
       "      <td>12.584025</td>\n",
       "      <td>2</td>\n",
       "      <td>...</td>\n",
       "      <td>0</td>\n",
       "      <td>0</td>\n",
       "      <td>0</td>\n",
       "      <td>0</td>\n",
       "      <td>0</td>\n",
       "      <td>1</td>\n",
       "      <td>0</td>\n",
       "      <td>0</td>\n",
       "      <td>0</td>\n",
       "      <td>2.0</td>\n",
       "    </tr>\n",
       "    <tr>\n",
       "      <th>2021-02-28 15:14:00.228458+00:00</th>\n",
       "      <td>2021-03-13 05:15:00+00:00</td>\n",
       "      <td>2021-03-13 07:25:00+00:00</td>\n",
       "      <td>2</td>\n",
       "      <td>1</td>\n",
       "      <td>35.0</td>\n",
       "      <td>1</td>\n",
       "      <td>a-1</td>\n",
       "      <td>8027.0</td>\n",
       "      <td>12.584025</td>\n",
       "      <td>2</td>\n",
       "      <td>...</td>\n",
       "      <td>0</td>\n",
       "      <td>0</td>\n",
       "      <td>0</td>\n",
       "      <td>0</td>\n",
       "      <td>0</td>\n",
       "      <td>1</td>\n",
       "      <td>0</td>\n",
       "      <td>0</td>\n",
       "      <td>0</td>\n",
       "      <td>5.0</td>\n",
       "    </tr>\n",
       "  </tbody>\n",
       "</table>\n",
       "<p>5 rows × 29 columns</p>\n",
       "</div>"
      ],
      "text/plain": [
       "                                            Dept Date_Time  \\\n",
       "Purchase Time                                                \n",
       "2021-02-28 15:13:58.993281+00:00 2021-03-10 13:30:00+00:00   \n",
       "2021-02-28 15:13:58.993281+00:00 2021-03-10 13:30:00+00:00   \n",
       "2021-02-28 15:13:58.993281+00:00 2021-03-10 16:00:00+00:00   \n",
       "2021-02-28 15:14:00.228458+00:00 2021-03-13 05:15:00+00:00   \n",
       "2021-02-28 15:14:00.228458+00:00 2021-03-13 05:15:00+00:00   \n",
       "\n",
       "                                         Arrival Date_Time  Airline  \\\n",
       "Purchase Time                                                         \n",
       "2021-02-28 15:13:58.993281+00:00 2021-03-10 15:40:00+00:00        2   \n",
       "2021-02-28 15:13:58.993281+00:00 2021-03-10 15:40:00+00:00        2   \n",
       "2021-02-28 15:13:58.993281+00:00 2021-03-10 18:10:00+00:00        2   \n",
       "2021-02-28 15:14:00.228458+00:00 2021-03-13 07:25:00+00:00        2   \n",
       "2021-02-28 15:14:00.228458+00:00 2021-03-13 07:25:00+00:00        2   \n",
       "\n",
       "                                  Refundable  Baggage_wt.  Baggage_pcs  \\\n",
       "Purchase Time                                                            \n",
       "2021-02-28 15:13:58.993281+00:00           1         15.0            1   \n",
       "2021-02-28 15:13:58.993281+00:00           1         35.0            1   \n",
       "2021-02-28 15:13:58.993281+00:00           1         35.0            1   \n",
       "2021-02-28 15:14:00.228458+00:00           1         15.0            1   \n",
       "2021-02-28 15:14:00.228458+00:00           1         35.0            1   \n",
       "\n",
       "                                 Flight_no  target  pur-dept-diff  \\\n",
       "Purchase Time                                                       \n",
       "2021-02-28 15:13:58.993281+00:00       a-5  7502.0       9.927789   \n",
       "2021-02-28 15:13:58.993281+00:00       a-5  8027.0       9.927789   \n",
       "2021-02-28 15:13:58.993281+00:00       a-7  8027.0      10.031956   \n",
       "2021-02-28 15:14:00.228458+00:00       a-1  7502.0      12.584025   \n",
       "2021-02-28 15:14:00.228458+00:00       a-1  8027.0      12.584025   \n",
       "\n",
       "                                  Purchase Month  ... Airline_gamma  \\\n",
       "Purchase Time                                     ...                 \n",
       "2021-02-28 15:13:58.993281+00:00               2  ...             0   \n",
       "2021-02-28 15:13:58.993281+00:00               2  ...             0   \n",
       "2021-02-28 15:13:58.993281+00:00               2  ...             0   \n",
       "2021-02-28 15:14:00.228458+00:00               2  ...             0   \n",
       "2021-02-28 15:14:00.228458+00:00               2  ...             0   \n",
       "\n",
       "                                  Airline_omega  Weekday Name_Friday  \\\n",
       "Purchase Time                                                          \n",
       "2021-02-28 15:13:58.993281+00:00              0                    0   \n",
       "2021-02-28 15:13:58.993281+00:00              0                    0   \n",
       "2021-02-28 15:13:58.993281+00:00              0                    0   \n",
       "2021-02-28 15:14:00.228458+00:00              0                    0   \n",
       "2021-02-28 15:14:00.228458+00:00              0                    0   \n",
       "\n",
       "                                  Weekday Name_Monday  Weekday Name_Saturday  \\\n",
       "Purchase Time                                                                  \n",
       "2021-02-28 15:13:58.993281+00:00                    0                      0   \n",
       "2021-02-28 15:13:58.993281+00:00                    0                      0   \n",
       "2021-02-28 15:13:58.993281+00:00                    0                      0   \n",
       "2021-02-28 15:14:00.228458+00:00                    0                      0   \n",
       "2021-02-28 15:14:00.228458+00:00                    0                      0   \n",
       "\n",
       "                                  Weekday Name_Sunday  Weekday Name_Thursday  \\\n",
       "Purchase Time                                                                  \n",
       "2021-02-28 15:13:58.993281+00:00                    1                      0   \n",
       "2021-02-28 15:13:58.993281+00:00                    1                      0   \n",
       "2021-02-28 15:13:58.993281+00:00                    1                      0   \n",
       "2021-02-28 15:14:00.228458+00:00                    1                      0   \n",
       "2021-02-28 15:14:00.228458+00:00                    1                      0   \n",
       "\n",
       "                                  Weekday Name_Tuesday  \\\n",
       "Purchase Time                                            \n",
       "2021-02-28 15:13:58.993281+00:00                     0   \n",
       "2021-02-28 15:13:58.993281+00:00                     0   \n",
       "2021-02-28 15:13:58.993281+00:00                     0   \n",
       "2021-02-28 15:14:00.228458+00:00                     0   \n",
       "2021-02-28 15:14:00.228458+00:00                     0   \n",
       "\n",
       "                                  Weekday Name_Wednesday  Baggage_wt  \n",
       "Purchase Time                                                         \n",
       "2021-02-28 15:13:58.993281+00:00                       0         2.0  \n",
       "2021-02-28 15:13:58.993281+00:00                       0         5.0  \n",
       "2021-02-28 15:13:58.993281+00:00                       0         5.0  \n",
       "2021-02-28 15:14:00.228458+00:00                       0         2.0  \n",
       "2021-02-28 15:14:00.228458+00:00                       0         5.0  \n",
       "\n",
       "[5 rows x 29 columns]"
      ]
     },
     "execution_count": 56,
     "metadata": {},
     "output_type": "execute_result"
    }
   ],
   "source": [
    "data_final.head()"
   ]
  },
  {
   "cell_type": "markdown",
   "metadata": {},
   "source": [
    "##### We will now clean up the data, that is, we will remove the columns we don't need. This includes the four additional columns that were previously created upon one hot encoding of the airline column"
   ]
  },
  {
   "cell_type": "code",
   "execution_count": 57,
   "metadata": {},
   "outputs": [],
   "source": [
    "data_new=data_final.drop(['Baggage_wt.', 'Airline_gamma', 'Airline_omega', 'Airline_beta', 'Airline_alpha', 'minute', 'second','minute'], axis=1)"
   ]
  },
  {
   "cell_type": "code",
   "execution_count": 58,
   "metadata": {},
   "outputs": [
    {
     "data": {
      "text/html": [
       "<div>\n",
       "<style scoped>\n",
       "    .dataframe tbody tr th:only-of-type {\n",
       "        vertical-align: middle;\n",
       "    }\n",
       "\n",
       "    .dataframe tbody tr th {\n",
       "        vertical-align: top;\n",
       "    }\n",
       "\n",
       "    .dataframe thead th {\n",
       "        text-align: right;\n",
       "    }\n",
       "</style>\n",
       "<table border=\"1\" class=\"dataframe\">\n",
       "  <thead>\n",
       "    <tr style=\"text-align: right;\">\n",
       "      <th></th>\n",
       "      <th>Dept Date_Time</th>\n",
       "      <th>Arrival Date_Time</th>\n",
       "      <th>Airline</th>\n",
       "      <th>Refundable</th>\n",
       "      <th>Baggage_pcs</th>\n",
       "      <th>Flight_no</th>\n",
       "      <th>target</th>\n",
       "      <th>pur-dept-diff</th>\n",
       "      <th>Purchase Month</th>\n",
       "      <th>Weekday Name</th>\n",
       "      <th>...</th>\n",
       "      <th>Dept Date_Time_day</th>\n",
       "      <th>Dept Date_Time_month</th>\n",
       "      <th>Weekday Name_Friday</th>\n",
       "      <th>Weekday Name_Monday</th>\n",
       "      <th>Weekday Name_Saturday</th>\n",
       "      <th>Weekday Name_Sunday</th>\n",
       "      <th>Weekday Name_Thursday</th>\n",
       "      <th>Weekday Name_Tuesday</th>\n",
       "      <th>Weekday Name_Wednesday</th>\n",
       "      <th>Baggage_wt</th>\n",
       "    </tr>\n",
       "    <tr>\n",
       "      <th>Purchase Time</th>\n",
       "      <th></th>\n",
       "      <th></th>\n",
       "      <th></th>\n",
       "      <th></th>\n",
       "      <th></th>\n",
       "      <th></th>\n",
       "      <th></th>\n",
       "      <th></th>\n",
       "      <th></th>\n",
       "      <th></th>\n",
       "      <th></th>\n",
       "      <th></th>\n",
       "      <th></th>\n",
       "      <th></th>\n",
       "      <th></th>\n",
       "      <th></th>\n",
       "      <th></th>\n",
       "      <th></th>\n",
       "      <th></th>\n",
       "      <th></th>\n",
       "      <th></th>\n",
       "    </tr>\n",
       "  </thead>\n",
       "  <tbody>\n",
       "    <tr>\n",
       "      <th>2021-02-28 15:13:58.993281+00:00</th>\n",
       "      <td>2021-03-10 13:30:00+00:00</td>\n",
       "      <td>2021-03-10 15:40:00+00:00</td>\n",
       "      <td>2</td>\n",
       "      <td>1</td>\n",
       "      <td>1</td>\n",
       "      <td>a-5</td>\n",
       "      <td>7502.0</td>\n",
       "      <td>9.927789</td>\n",
       "      <td>2</td>\n",
       "      <td>Sunday</td>\n",
       "      <td>...</td>\n",
       "      <td>10</td>\n",
       "      <td>3</td>\n",
       "      <td>0</td>\n",
       "      <td>0</td>\n",
       "      <td>0</td>\n",
       "      <td>1</td>\n",
       "      <td>0</td>\n",
       "      <td>0</td>\n",
       "      <td>0</td>\n",
       "      <td>2.0</td>\n",
       "    </tr>\n",
       "    <tr>\n",
       "      <th>2021-02-28 15:13:58.993281+00:00</th>\n",
       "      <td>2021-03-10 13:30:00+00:00</td>\n",
       "      <td>2021-03-10 15:40:00+00:00</td>\n",
       "      <td>2</td>\n",
       "      <td>1</td>\n",
       "      <td>1</td>\n",
       "      <td>a-5</td>\n",
       "      <td>8027.0</td>\n",
       "      <td>9.927789</td>\n",
       "      <td>2</td>\n",
       "      <td>Sunday</td>\n",
       "      <td>...</td>\n",
       "      <td>10</td>\n",
       "      <td>3</td>\n",
       "      <td>0</td>\n",
       "      <td>0</td>\n",
       "      <td>0</td>\n",
       "      <td>1</td>\n",
       "      <td>0</td>\n",
       "      <td>0</td>\n",
       "      <td>0</td>\n",
       "      <td>5.0</td>\n",
       "    </tr>\n",
       "    <tr>\n",
       "      <th>2021-02-28 15:13:58.993281+00:00</th>\n",
       "      <td>2021-03-10 16:00:00+00:00</td>\n",
       "      <td>2021-03-10 18:10:00+00:00</td>\n",
       "      <td>2</td>\n",
       "      <td>1</td>\n",
       "      <td>1</td>\n",
       "      <td>a-7</td>\n",
       "      <td>8027.0</td>\n",
       "      <td>10.031956</td>\n",
       "      <td>2</td>\n",
       "      <td>Sunday</td>\n",
       "      <td>...</td>\n",
       "      <td>10</td>\n",
       "      <td>3</td>\n",
       "      <td>0</td>\n",
       "      <td>0</td>\n",
       "      <td>0</td>\n",
       "      <td>1</td>\n",
       "      <td>0</td>\n",
       "      <td>0</td>\n",
       "      <td>0</td>\n",
       "      <td>5.0</td>\n",
       "    </tr>\n",
       "    <tr>\n",
       "      <th>2021-02-28 15:14:00.228458+00:00</th>\n",
       "      <td>2021-03-13 05:15:00+00:00</td>\n",
       "      <td>2021-03-13 07:25:00+00:00</td>\n",
       "      <td>2</td>\n",
       "      <td>1</td>\n",
       "      <td>1</td>\n",
       "      <td>a-1</td>\n",
       "      <td>7502.0</td>\n",
       "      <td>12.584025</td>\n",
       "      <td>2</td>\n",
       "      <td>Sunday</td>\n",
       "      <td>...</td>\n",
       "      <td>13</td>\n",
       "      <td>3</td>\n",
       "      <td>0</td>\n",
       "      <td>0</td>\n",
       "      <td>0</td>\n",
       "      <td>1</td>\n",
       "      <td>0</td>\n",
       "      <td>0</td>\n",
       "      <td>0</td>\n",
       "      <td>2.0</td>\n",
       "    </tr>\n",
       "    <tr>\n",
       "      <th>2021-02-28 15:14:00.228458+00:00</th>\n",
       "      <td>2021-03-13 05:15:00+00:00</td>\n",
       "      <td>2021-03-13 07:25:00+00:00</td>\n",
       "      <td>2</td>\n",
       "      <td>1</td>\n",
       "      <td>1</td>\n",
       "      <td>a-1</td>\n",
       "      <td>8027.0</td>\n",
       "      <td>12.584025</td>\n",
       "      <td>2</td>\n",
       "      <td>Sunday</td>\n",
       "      <td>...</td>\n",
       "      <td>13</td>\n",
       "      <td>3</td>\n",
       "      <td>0</td>\n",
       "      <td>0</td>\n",
       "      <td>0</td>\n",
       "      <td>1</td>\n",
       "      <td>0</td>\n",
       "      <td>0</td>\n",
       "      <td>0</td>\n",
       "      <td>5.0</td>\n",
       "    </tr>\n",
       "  </tbody>\n",
       "</table>\n",
       "<p>5 rows × 22 columns</p>\n",
       "</div>"
      ],
      "text/plain": [
       "                                            Dept Date_Time  \\\n",
       "Purchase Time                                                \n",
       "2021-02-28 15:13:58.993281+00:00 2021-03-10 13:30:00+00:00   \n",
       "2021-02-28 15:13:58.993281+00:00 2021-03-10 13:30:00+00:00   \n",
       "2021-02-28 15:13:58.993281+00:00 2021-03-10 16:00:00+00:00   \n",
       "2021-02-28 15:14:00.228458+00:00 2021-03-13 05:15:00+00:00   \n",
       "2021-02-28 15:14:00.228458+00:00 2021-03-13 05:15:00+00:00   \n",
       "\n",
       "                                         Arrival Date_Time  Airline  \\\n",
       "Purchase Time                                                         \n",
       "2021-02-28 15:13:58.993281+00:00 2021-03-10 15:40:00+00:00        2   \n",
       "2021-02-28 15:13:58.993281+00:00 2021-03-10 15:40:00+00:00        2   \n",
       "2021-02-28 15:13:58.993281+00:00 2021-03-10 18:10:00+00:00        2   \n",
       "2021-02-28 15:14:00.228458+00:00 2021-03-13 07:25:00+00:00        2   \n",
       "2021-02-28 15:14:00.228458+00:00 2021-03-13 07:25:00+00:00        2   \n",
       "\n",
       "                                  Refundable  Baggage_pcs Flight_no  target  \\\n",
       "Purchase Time                                                                 \n",
       "2021-02-28 15:13:58.993281+00:00           1            1       a-5  7502.0   \n",
       "2021-02-28 15:13:58.993281+00:00           1            1       a-5  8027.0   \n",
       "2021-02-28 15:13:58.993281+00:00           1            1       a-7  8027.0   \n",
       "2021-02-28 15:14:00.228458+00:00           1            1       a-1  7502.0   \n",
       "2021-02-28 15:14:00.228458+00:00           1            1       a-1  8027.0   \n",
       "\n",
       "                                  pur-dept-diff  Purchase Month Weekday Name  \\\n",
       "Purchase Time                                                                  \n",
       "2021-02-28 15:13:58.993281+00:00       9.927789               2       Sunday   \n",
       "2021-02-28 15:13:58.993281+00:00       9.927789               2       Sunday   \n",
       "2021-02-28 15:13:58.993281+00:00      10.031956               2       Sunday   \n",
       "2021-02-28 15:14:00.228458+00:00      12.584025               2       Sunday   \n",
       "2021-02-28 15:14:00.228458+00:00      12.584025               2       Sunday   \n",
       "\n",
       "                                  ...  Dept Date_Time_day  \\\n",
       "Purchase Time                     ...                       \n",
       "2021-02-28 15:13:58.993281+00:00  ...                  10   \n",
       "2021-02-28 15:13:58.993281+00:00  ...                  10   \n",
       "2021-02-28 15:13:58.993281+00:00  ...                  10   \n",
       "2021-02-28 15:14:00.228458+00:00  ...                  13   \n",
       "2021-02-28 15:14:00.228458+00:00  ...                  13   \n",
       "\n",
       "                                  Dept Date_Time_month  Weekday Name_Friday  \\\n",
       "Purchase Time                                                                 \n",
       "2021-02-28 15:13:58.993281+00:00                     3                    0   \n",
       "2021-02-28 15:13:58.993281+00:00                     3                    0   \n",
       "2021-02-28 15:13:58.993281+00:00                     3                    0   \n",
       "2021-02-28 15:14:00.228458+00:00                     3                    0   \n",
       "2021-02-28 15:14:00.228458+00:00                     3                    0   \n",
       "\n",
       "                                  Weekday Name_Monday  Weekday Name_Saturday  \\\n",
       "Purchase Time                                                                  \n",
       "2021-02-28 15:13:58.993281+00:00                    0                      0   \n",
       "2021-02-28 15:13:58.993281+00:00                    0                      0   \n",
       "2021-02-28 15:13:58.993281+00:00                    0                      0   \n",
       "2021-02-28 15:14:00.228458+00:00                    0                      0   \n",
       "2021-02-28 15:14:00.228458+00:00                    0                      0   \n",
       "\n",
       "                                  Weekday Name_Sunday  Weekday Name_Thursday  \\\n",
       "Purchase Time                                                                  \n",
       "2021-02-28 15:13:58.993281+00:00                    1                      0   \n",
       "2021-02-28 15:13:58.993281+00:00                    1                      0   \n",
       "2021-02-28 15:13:58.993281+00:00                    1                      0   \n",
       "2021-02-28 15:14:00.228458+00:00                    1                      0   \n",
       "2021-02-28 15:14:00.228458+00:00                    1                      0   \n",
       "\n",
       "                                  Weekday Name_Tuesday  \\\n",
       "Purchase Time                                            \n",
       "2021-02-28 15:13:58.993281+00:00                     0   \n",
       "2021-02-28 15:13:58.993281+00:00                     0   \n",
       "2021-02-28 15:13:58.993281+00:00                     0   \n",
       "2021-02-28 15:14:00.228458+00:00                     0   \n",
       "2021-02-28 15:14:00.228458+00:00                     0   \n",
       "\n",
       "                                  Weekday Name_Wednesday  Baggage_wt  \n",
       "Purchase Time                                                         \n",
       "2021-02-28 15:13:58.993281+00:00                       0         2.0  \n",
       "2021-02-28 15:13:58.993281+00:00                       0         5.0  \n",
       "2021-02-28 15:13:58.993281+00:00                       0         5.0  \n",
       "2021-02-28 15:14:00.228458+00:00                       0         2.0  \n",
       "2021-02-28 15:14:00.228458+00:00                       0         5.0  \n",
       "\n",
       "[5 rows x 22 columns]"
      ]
     },
     "execution_count": 58,
     "metadata": {},
     "output_type": "execute_result"
    }
   ],
   "source": [
    "data_new.head()"
   ]
  },
  {
   "cell_type": "code",
   "execution_count": 59,
   "metadata": {},
   "outputs": [],
   "source": [
    "corr=data_new.corr()"
   ]
  },
  {
   "cell_type": "code",
   "execution_count": 60,
   "metadata": {},
   "outputs": [
    {
     "name": "stdout",
     "output_type": "stream",
     "text": [
      "target                    1.000000\n",
      "Baggage_wt                0.291956\n",
      "Baggage_pcs               0.188688\n",
      "Purchase Month            0.034686\n",
      "Dept Date_Time_month      0.026447\n",
      "Weekday Name_Saturday     0.022224\n",
      "Dept Date_Time_day        0.020812\n",
      "Weekday Name_Wednesday    0.011062\n",
      "Weekday Name_Thursday     0.011023\n",
      "Weekday Name_Friday       0.003789\n",
      "Purchase Hour            -0.006900\n",
      "Airline                  -0.011025\n",
      "Weekday Name_Tuesday     -0.013271\n",
      "Weekday Name_Monday      -0.014383\n",
      "Weekday Name_Sunday      -0.019914\n",
      "diff_hours               -0.142083\n",
      "pur-dept-diff            -0.149639\n",
      "Refundable                     NaN\n",
      "Name: target, dtype: float64\n"
     ]
    }
   ],
   "source": [
    "print(corr['target'].sort_values(ascending=False))"
   ]
  },
  {
   "cell_type": "code",
   "execution_count": 85,
   "metadata": {},
   "outputs": [],
   "source": [
    "data_new.to_csv('EDA_SastaTicket.csv')\n",
    "###saving to new csv file so that this can be imported again easily and we don't have to perform all the EDA all over again when inevitably a memory error occurs "
   ]
  },
  {
   "cell_type": "markdown",
   "metadata": {},
   "source": [
    "##### a memory error occured and we had to import the file again"
   ]
  },
  {
   "cell_type": "code",
   "execution_count": 9,
   "metadata": {},
   "outputs": [],
   "source": [
    "data_new=pd.read_csv('EDA_SastaTicket.csv')"
   ]
  },
  {
   "cell_type": "code",
   "execution_count": 11,
   "metadata": {},
   "outputs": [
    {
     "data": {
      "text/plain": [
       "Index(['Purchase Time', 'Dept Date_Time', 'Arrival Date_Time', 'Airline',\n",
       "       'Refundable', 'Baggage_pcs', 'Flight_no', 'target', 'pur-dept-diff',\n",
       "       'Purchase Month', 'Weekday Name', 'Purchase Hour', 'diff_hours',\n",
       "       'Dept Date_Time_day', 'Dept Date_Time_month', 'Weekday Name_Friday',\n",
       "       'Weekday Name_Monday', 'Weekday Name_Saturday', 'Weekday Name_Sunday',\n",
       "       'Weekday Name_Thursday', 'Weekday Name_Tuesday',\n",
       "       'Weekday Name_Wednesday', 'Baggage_wt'],\n",
       "      dtype='object')"
      ]
     },
     "execution_count": 11,
     "metadata": {},
     "output_type": "execute_result"
    }
   ],
   "source": [
    "data_new.columns"
   ]
  },
  {
   "cell_type": "code",
   "execution_count": 12,
   "metadata": {},
   "outputs": [],
   "source": [
    "train_data=data_new[['Baggage_pcs','Purchase Month','Purchase Hour', 'diff_hours','pur-dept-diff',\n",
    "       'Dept Date_Time_month','Dept Date_Time_day','Baggage_wt',\n",
    "       'Weekday Name_Friday', 'Weekday Name_Monday', 'Weekday Name_Saturday',\n",
    "       'Weekday Name_Sunday', 'Weekday Name_Thursday', 'Weekday Name_Tuesday',\n",
    "       'Weekday Name_Wednesday','Airline']]"
   ]
  },
  {
   "cell_type": "code",
   "execution_count": 13,
   "metadata": {},
   "outputs": [
    {
     "data": {
      "text/plain": [
       "(2198000, 16)"
      ]
     },
     "execution_count": 13,
     "metadata": {},
     "output_type": "execute_result"
    }
   ],
   "source": [
    "train_data.shape"
   ]
  },
  {
   "cell_type": "code",
   "execution_count": 15,
   "metadata": {},
   "outputs": [
    {
     "data": {
      "text/plain": [
       "array([ 7502.,  8027.,  8027., ..., 24700., 22300.,  7950.])"
      ]
     },
     "execution_count": 15,
     "metadata": {},
     "output_type": "execute_result"
    }
   ],
   "source": [
    "y = data_new['target'].values\n",
    "y"
   ]
  },
  {
   "cell_type": "markdown",
   "metadata": {},
   "source": [
    "#### we are now going to normalize only the continuous variables in the data"
   ]
  },
  {
   "cell_type": "code",
   "execution_count": 16,
   "metadata": {},
   "outputs": [],
   "source": [
    "from sklearn import preprocessing\n",
    "scalar= preprocessing.MinMaxScaler()\n",
    "features1=train_data.filter([\"pur-dept-diff\"])\n",
    "features = scalar.fit_transform(features1)\n"
   ]
  },
  {
   "cell_type": "code",
   "execution_count": 17,
   "metadata": {},
   "outputs": [
    {
     "data": {
      "text/plain": [
       "array([[0.03009814],\n",
       "       [0.03009814],\n",
       "       [0.03041397],\n",
       "       ...,\n",
       "       [0.00894272],\n",
       "       [0.01051132],\n",
       "       [0.02410174]])"
      ]
     },
     "execution_count": 17,
     "metadata": {},
     "output_type": "execute_result"
    }
   ],
   "source": [
    "features"
   ]
  },
  {
   "cell_type": "code",
   "execution_count": 18,
   "metadata": {},
   "outputs": [
    {
     "data": {
      "text/plain": [
       "array([[ 1.,  2., 15., ...,  0.,  0.,  2.],\n",
       "       [ 1.,  2., 15., ...,  0.,  0.,  2.],\n",
       "       [ 1.,  2., 15., ...,  0.,  0.,  2.],\n",
       "       ...,\n",
       "       [ 1.,  8.,  5., ...,  0.,  0.,  3.],\n",
       "       [ 1.,  8.,  5., ...,  0.,  0.,  3.],\n",
       "       [ 1.,  8.,  5., ...,  0.,  0.,  3.]])"
      ]
     },
     "execution_count": 18,
     "metadata": {},
     "output_type": "execute_result"
    }
   ],
   "source": [
    "X = train_data.filter(['Baggage_pcs','Purchase Month','Purchase Hour', 'diff_hours',\n",
    "       'Dept Date_Time_month','Dept Date_Time_day','Baggage_wt',\n",
    "       'Weekday Name_Friday', 'Weekday Name_Monday', 'Weekday Name_Saturday',\n",
    "       'Weekday Name_Sunday', 'Weekday Name_Thursday', 'Weekday Name_Tuesday',\n",
    "       'Weekday Name_Wednesday','Airline']).values\n",
    "X"
   ]
  },
  {
   "cell_type": "code",
   "execution_count": 19,
   "metadata": {},
   "outputs": [],
   "source": [
    "x_train=np.hstack((features, X))"
   ]
  },
  {
   "cell_type": "code",
   "execution_count": 20,
   "metadata": {},
   "outputs": [
    {
     "data": {
      "text/plain": [
       "(2198000, 16)"
      ]
     },
     "execution_count": 20,
     "metadata": {},
     "output_type": "execute_result"
    }
   ],
   "source": [
    "x_train.shape"
   ]
  },
  {
   "cell_type": "code",
   "execution_count": 21,
   "metadata": {},
   "outputs": [],
   "source": [
    "from sklearn.linear_model import LinearRegression,Ridge,Lasso\n",
    "from sklearn.ensemble import RandomForestRegressor\n",
    "from sklearn.neighbors import KNeighborsRegressor\n",
    "from sklearn.tree import DecisionTreeRegressor\n",
    "import matplotlib.pyplot as plt\n",
    "from sklearn.utils import shuffle\n",
    "from sklearn.model_selection import train_test_split , GridSearchCV,cross_val_score,cross_val_predict,cross_validate,RandomizedSearchCV\n",
    "from sklearn.metrics import mean_squared_error,mean_absolute_error,explained_variance_score,max_error,r2_score,median_absolute_error,mean_squared_log_error\n",
    "from sklearn.feature_selection import VarianceThreshold,SelectKBest,f_regression\n",
    "from sklearn.preprocessing import MinMaxScaler,normalize,StandardScaler,RobustScaler\n",
    "from sklearn.preprocessing import OneHotEncoder,LabelEncoder\n",
    "from sklearn.decomposition import PCA\n",
    "\n",
    "from sklearn.svm import SVR\n"
   ]
  },
  {
   "cell_type": "code",
   "execution_count": 22,
   "metadata": {},
   "outputs": [
    {
     "name": "stdout",
     "output_type": "stream",
     "text": [
      "xtrain shape :  (1538600, 16)\n",
      "xtest shape  :  (659400, 16)\n",
      "ytrain shape :  (1538600,)\n",
      "ytest shape  :  (659400,)\n"
     ]
    }
   ],
   "source": [
    "from sklearn.model_selection import train_test_split\n",
    "X_train, X_test, y_train, y_test = train_test_split(x_train, y, test_size=0.3, random_state=101)\n",
    "\n",
    "print(\"xtrain shape : \", X_train.shape)          # 70% of data is used in X_train\n",
    "print(\"xtest shape  : \", X_test.shape)           # 30% of data is used in X_test\n",
    "print(\"ytrain shape : \", y_train.shape)          # 70% of target is used in y_train\n",
    "print(\"ytest shape  : \", y_test.shape)           # 30% of target is used in y_test"
   ]
  },
  {
   "cell_type": "code",
   "execution_count": 23,
   "metadata": {},
   "outputs": [],
   "source": [
    "def evaluate_metrics(x,y_test,y_pred,mod):\n",
    "    mean_abs_error = mean_absolute_error(y_test,y_pred)\n",
    "    mean_sq_error = mean_squared_error(y_test,y_pred)\n",
    "    root_mean_sq_error = mean_squared_error(y_test,y_pred)**0.5\n",
    "    r2_scr = r2_score(y_test,y_pred)\n",
    "    median_abs_score = median_absolute_error(y_test,y_pred)\n",
    "    explained_variance = explained_variance_score(y_test,y_pred)\n",
    "    return mean_abs_error,mean_sq_error,root_mean_sq_error,r2_scr,median_abs_score,explained_variance  "
   ]
  },
  {
   "cell_type": "code",
   "execution_count": 72,
   "metadata": {},
   "outputs": [
    {
     "name": "stdout",
     "output_type": "stream",
     "text": [
      "\n",
      "\n",
      "\n",
      "METRICS  :\n",
      "\n",
      "Mean Absolute Error :   1633.1775481310576 \n",
      "Score :    0.23409287110817245 \n",
      "Mean Squared Error :   5339649.373127713 \n",
      "Root Mean Squared Error :   2310.76813486938 \n",
      "R2 Square :   0.23409287110817245 \n",
      "Median Absolute Score :   1330.3893829317585 \n",
      "Explained Variance Score :   0.23409555214814393\n"
     ]
    }
   ],
   "source": [
    "ridge_mod = Ridge(alpha=0.5)\n",
    "ridge_mod=ridge_mod.fit(X_train,y_train)\n",
    "y_pred = ridge_mod.predict(X_test)\n",
    "mean_abs_error,mean_sq_error,root_mean_sq_error,r2_scr,median_abs_score,explained_variance = evaluate_metrics(X_test,y_test,y_pred,ridge_mod)\n",
    "scr = ridge_mod.score(X_test,y_test)\n",
    "print(\"\\n\\n\\nMETRICS  :\\n\\nMean Absolute Error :  \",mean_abs_error,\"\\nScore :   \",scr,\"\\nMean Squared Error :  \",mean_sq_error,\"\\nRoot Mean Squared Error :  \",root_mean_sq_error,\"\\nR2 Square :  \",r2_scr,\"\\nMedian Absolute Score :  \",median_abs_score,\"\\nExplained Variance Score :  \",explained_variance)"
   ]
  },
  {
   "cell_type": "code",
   "execution_count": 106,
   "metadata": {},
   "outputs": [
    {
     "ename": "MemoryError",
     "evalue": "Unable to allocate 188. MiB for an array with shape (1538600, 16) and data type float64",
     "output_type": "error",
     "traceback": [
      "\u001b[1;31m---------------------------------------------------------------------------\u001b[0m",
      "\u001b[1;31mMemoryError\u001b[0m                               Traceback (most recent call last)",
      "\u001b[1;32m~\\AppData\\Local\\Temp/ipykernel_11980/3180104409.py\u001b[0m in \u001b[0;36m<module>\u001b[1;34m\u001b[0m\n\u001b[0;32m      1\u001b[0m \u001b[0mlasso_reg\u001b[0m \u001b[1;33m=\u001b[0m \u001b[0mLasso\u001b[0m\u001b[1;33m(\u001b[0m\u001b[0malpha\u001b[0m\u001b[1;33m=\u001b[0m\u001b[1;36m0.0001\u001b[0m\u001b[1;33m)\u001b[0m\u001b[1;33m\u001b[0m\u001b[1;33m\u001b[0m\u001b[0m\n\u001b[1;32m----> 2\u001b[1;33m \u001b[0mlasso_reg\u001b[0m \u001b[1;33m=\u001b[0m \u001b[0mlasso_reg\u001b[0m\u001b[1;33m.\u001b[0m\u001b[0mfit\u001b[0m\u001b[1;33m(\u001b[0m\u001b[0mX_train\u001b[0m\u001b[1;33m,\u001b[0m\u001b[0my_train\u001b[0m\u001b[1;33m)\u001b[0m\u001b[1;33m\u001b[0m\u001b[1;33m\u001b[0m\u001b[0m\n\u001b[0m\u001b[0;32m      3\u001b[0m \u001b[0my_pred\u001b[0m \u001b[1;33m=\u001b[0m \u001b[0mnp\u001b[0m\u001b[1;33m.\u001b[0m\u001b[0marray\u001b[0m\u001b[1;33m(\u001b[0m\u001b[0mlasso_reg\u001b[0m\u001b[1;33m.\u001b[0m\u001b[0mpredict\u001b[0m\u001b[1;33m(\u001b[0m\u001b[0mX_test\u001b[0m\u001b[1;33m)\u001b[0m\u001b[1;33m)\u001b[0m\u001b[1;33m\u001b[0m\u001b[1;33m\u001b[0m\u001b[0m\n\u001b[0;32m      4\u001b[0m \u001b[1;33m\u001b[0m\u001b[0m\n\u001b[0;32m      5\u001b[0m \u001b[0mmean_abs_error\u001b[0m\u001b[1;33m,\u001b[0m\u001b[0mmean_sq_error\u001b[0m\u001b[1;33m,\u001b[0m\u001b[0mroot_mean_sq_error\u001b[0m\u001b[1;33m,\u001b[0m\u001b[0mr2_scr\u001b[0m\u001b[1;33m,\u001b[0m\u001b[0mmedian_abs_score\u001b[0m\u001b[1;33m,\u001b[0m\u001b[0mexplained_variance\u001b[0m \u001b[1;33m=\u001b[0m \u001b[0mevaluate_metrics\u001b[0m\u001b[1;33m(\u001b[0m\u001b[0mX_test\u001b[0m\u001b[1;33m,\u001b[0m\u001b[0mnp\u001b[0m\u001b[1;33m.\u001b[0m\u001b[0marray\u001b[0m\u001b[1;33m(\u001b[0m\u001b[0my_test\u001b[0m\u001b[1;33m)\u001b[0m\u001b[1;33m.\u001b[0m\u001b[0mreshape\u001b[0m\u001b[1;33m(\u001b[0m\u001b[0my_test\u001b[0m\u001b[1;33m.\u001b[0m\u001b[0mshape\u001b[0m\u001b[1;33m[\u001b[0m\u001b[1;36m0\u001b[0m\u001b[1;33m]\u001b[0m\u001b[1;33m,\u001b[0m\u001b[1;36m1\u001b[0m\u001b[1;33m)\u001b[0m\u001b[1;33m,\u001b[0m\u001b[0my_pred\u001b[0m\u001b[1;33m.\u001b[0m\u001b[0mreshape\u001b[0m\u001b[1;33m(\u001b[0m\u001b[0my_pred\u001b[0m\u001b[1;33m.\u001b[0m\u001b[0mshape\u001b[0m\u001b[1;33m[\u001b[0m\u001b[1;36m0\u001b[0m\u001b[1;33m]\u001b[0m\u001b[1;33m,\u001b[0m\u001b[1;36m1\u001b[0m\u001b[1;33m)\u001b[0m\u001b[1;33m,\u001b[0m\u001b[0mlasso_reg\u001b[0m\u001b[1;33m)\u001b[0m\u001b[1;33m\u001b[0m\u001b[1;33m\u001b[0m\u001b[0m\n",
      "\u001b[1;32mD:\\anaconda\\lib\\site-packages\\sklearn\\linear_model\\_coordinate_descent.py\u001b[0m in \u001b[0;36mfit\u001b[1;34m(self, X, y, sample_weight, check_input)\u001b[0m\n\u001b[0;32m    842\u001b[0m                 \u001b[0mthis_Xy\u001b[0m \u001b[1;33m=\u001b[0m \u001b[1;32mNone\u001b[0m\u001b[1;33m\u001b[0m\u001b[1;33m\u001b[0m\u001b[0m\n\u001b[0;32m    843\u001b[0m             \u001b[0m_\u001b[0m\u001b[1;33m,\u001b[0m \u001b[0mthis_coef\u001b[0m\u001b[1;33m,\u001b[0m \u001b[0mthis_dual_gap\u001b[0m\u001b[1;33m,\u001b[0m \u001b[0mthis_iter\u001b[0m \u001b[1;33m=\u001b[0m\u001b[0;31m \u001b[0m\u001b[0;31m\\\u001b[0m\u001b[1;33m\u001b[0m\u001b[1;33m\u001b[0m\u001b[0m\n\u001b[1;32m--> 844\u001b[1;33m                 self.path(X, y[:, k],\n\u001b[0m\u001b[0;32m    845\u001b[0m                           \u001b[0ml1_ratio\u001b[0m\u001b[1;33m=\u001b[0m\u001b[0mself\u001b[0m\u001b[1;33m.\u001b[0m\u001b[0ml1_ratio\u001b[0m\u001b[1;33m,\u001b[0m \u001b[0meps\u001b[0m\u001b[1;33m=\u001b[0m\u001b[1;32mNone\u001b[0m\u001b[1;33m,\u001b[0m\u001b[1;33m\u001b[0m\u001b[1;33m\u001b[0m\u001b[0m\n\u001b[0;32m    846\u001b[0m                           \u001b[0mn_alphas\u001b[0m\u001b[1;33m=\u001b[0m\u001b[1;32mNone\u001b[0m\u001b[1;33m,\u001b[0m \u001b[0malphas\u001b[0m\u001b[1;33m=\u001b[0m\u001b[1;33m[\u001b[0m\u001b[0malpha\u001b[0m\u001b[1;33m]\u001b[0m\u001b[1;33m,\u001b[0m\u001b[1;33m\u001b[0m\u001b[1;33m\u001b[0m\u001b[0m\n",
      "\u001b[1;32mD:\\anaconda\\lib\\site-packages\\sklearn\\utils\\validation.py\u001b[0m in \u001b[0;36minner_f\u001b[1;34m(*args, **kwargs)\u001b[0m\n\u001b[0;32m     61\u001b[0m             \u001b[0mextra_args\u001b[0m \u001b[1;33m=\u001b[0m \u001b[0mlen\u001b[0m\u001b[1;33m(\u001b[0m\u001b[0margs\u001b[0m\u001b[1;33m)\u001b[0m \u001b[1;33m-\u001b[0m \u001b[0mlen\u001b[0m\u001b[1;33m(\u001b[0m\u001b[0mall_args\u001b[0m\u001b[1;33m)\u001b[0m\u001b[1;33m\u001b[0m\u001b[1;33m\u001b[0m\u001b[0m\n\u001b[0;32m     62\u001b[0m             \u001b[1;32mif\u001b[0m \u001b[0mextra_args\u001b[0m \u001b[1;33m<=\u001b[0m \u001b[1;36m0\u001b[0m\u001b[1;33m:\u001b[0m\u001b[1;33m\u001b[0m\u001b[1;33m\u001b[0m\u001b[0m\n\u001b[1;32m---> 63\u001b[1;33m                 \u001b[1;32mreturn\u001b[0m \u001b[0mf\u001b[0m\u001b[1;33m(\u001b[0m\u001b[1;33m*\u001b[0m\u001b[0margs\u001b[0m\u001b[1;33m,\u001b[0m \u001b[1;33m**\u001b[0m\u001b[0mkwargs\u001b[0m\u001b[1;33m)\u001b[0m\u001b[1;33m\u001b[0m\u001b[1;33m\u001b[0m\u001b[0m\n\u001b[0m\u001b[0;32m     64\u001b[0m \u001b[1;33m\u001b[0m\u001b[0m\n\u001b[0;32m     65\u001b[0m             \u001b[1;31m# extra_args > 0\u001b[0m\u001b[1;33m\u001b[0m\u001b[1;33m\u001b[0m\u001b[0m\n",
      "\u001b[1;32mD:\\anaconda\\lib\\site-packages\\sklearn\\linear_model\\_coordinate_descent.py\u001b[0m in \u001b[0;36menet_path\u001b[1;34m(X, y, l1_ratio, eps, n_alphas, alphas, precompute, Xy, copy_X, coef_init, verbose, return_n_iter, positive, check_input, **params)\u001b[0m\n\u001b[0;32m    528\u001b[0m                 tol, rng, random, positive)\n\u001b[0;32m    529\u001b[0m         \u001b[1;32melif\u001b[0m \u001b[0mprecompute\u001b[0m \u001b[1;32mis\u001b[0m \u001b[1;32mFalse\u001b[0m\u001b[1;33m:\u001b[0m\u001b[1;33m\u001b[0m\u001b[1;33m\u001b[0m\u001b[0m\n\u001b[1;32m--> 530\u001b[1;33m             model = cd_fast.enet_coordinate_descent(\n\u001b[0m\u001b[0;32m    531\u001b[0m                 \u001b[0mcoef_\u001b[0m\u001b[1;33m,\u001b[0m \u001b[0ml1_reg\u001b[0m\u001b[1;33m,\u001b[0m \u001b[0ml2_reg\u001b[0m\u001b[1;33m,\u001b[0m \u001b[0mX\u001b[0m\u001b[1;33m,\u001b[0m \u001b[0my\u001b[0m\u001b[1;33m,\u001b[0m \u001b[0mmax_iter\u001b[0m\u001b[1;33m,\u001b[0m \u001b[0mtol\u001b[0m\u001b[1;33m,\u001b[0m \u001b[0mrng\u001b[0m\u001b[1;33m,\u001b[0m \u001b[0mrandom\u001b[0m\u001b[1;33m,\u001b[0m\u001b[1;33m\u001b[0m\u001b[1;33m\u001b[0m\u001b[0m\n\u001b[0;32m    532\u001b[0m                 positive)\n",
      "\u001b[1;32msklearn\\linear_model\\_cd_fast.pyx\u001b[0m in \u001b[0;36msklearn.linear_model._cd_fast.enet_coordinate_descent\u001b[1;34m()\u001b[0m\n",
      "\u001b[1;31mMemoryError\u001b[0m: Unable to allocate 188. MiB for an array with shape (1538600, 16) and data type float64"
     ]
    }
   ],
   "source": [
    "lasso_reg = Lasso(alpha=0.0001)\n",
    "lasso_reg = lasso_reg.fit(X_train,y_train)\n",
    "y_pred = np.array(lasso_reg.predict(X_test))\n",
    "\n",
    "mean_abs_error,mean_sq_error,root_mean_sq_error,r2_scr,median_abs_score,explained_variance = evaluate_metrics(X_test,np.array(y_test).reshape(y_test.shape[0],1),y_pred.reshape(y_pred.shape[0],1),lasso_reg)\n",
    "scr = lasso_reg.score(X_test,y_test)\n",
    "print(\"METRICS  :\\n\\nMean Absolute Error :  \",mean_abs_error,\"\\nScore :   \",scr,\"\\nMean Squared Error :  \",mean_sq_error,\"\\nRoot Mean Squared Error :  \",root_mean_sq_error,\"\\nR2 Square :  \",r2_scr,\"\\nMedian Absolute Score :  \",median_abs_score,\"\\nExplained Variance Score :  \",explained_variance)    "
   ]
  },
  {
   "cell_type": "markdown",
   "metadata": {},
   "source": [
    "#### even with one tenth of the data, we could not train the model successfully."
   ]
  },
  {
   "cell_type": "code",
   "execution_count": 74,
   "metadata": {},
   "outputs": [
    {
     "name": "stdout",
     "output_type": "stream",
     "text": [
      "METRICS  :\n",
      "\n",
      "Mean Absolute Error :   530.2282739418918 \n",
      "Score :    0.8238652363224849 \n",
      "Mean Squared Error :   1227952.9005264973 \n",
      "Root Mean Squared Error :   1108.1303626047331 \n",
      "R2 Square :   0.8238652363224849 \n",
      "Median Absolute Score :   186.85584988962455 \n",
      "Explained Variance Score :   0.8238658587530668\n"
     ]
    }
   ],
   "source": [
    "rfr = DecisionTreeRegressor(max_depth=13,random_state=False) \n",
    "\n",
    "rfr.fit(X_train,y_train)\n",
    "\n",
    "y_pred = rfr.predict(X_test)\n",
    "\n",
    "scr = rfr.score(X_test,y_test)\n",
    "\n",
    "mean_abs_error,mean_sq_error,root_mean_sq_error,r2_scr,median_abs_score,explained_variance = evaluate_metrics(X_test,y_test,y_pred,rfr)\n",
    "\n",
    "print(\"METRICS  :\\n\\nMean Absolute Error :  \",mean_abs_error,\"\\nScore :   \",scr,\"\\nMean Squared Error :  \",mean_sq_error,\"\\nRoot Mean Squared Error :  \",root_mean_sq_error,\"\\nR2 Square :  \",r2_scr,\"\\nMedian Absolute Score :  \",median_abs_score,\"\\nExplained Variance Score :  \",explained_variance)    "
   ]
  },
  {
   "cell_type": "code",
   "execution_count": 77,
   "metadata": {},
   "outputs": [
    {
     "name": "stdout",
     "output_type": "stream",
     "text": [
      "METRICS  :\n",
      "\n",
      "Mean Absolute Error :   1720.2097207831082 \n",
      "Score :    0.2508453716443537 \n",
      "Mean Squared Error :   5222856.519775154 \n",
      "Root Mean Squared Error :   2285.3569786305056 \n",
      "R2 Square :   0.2508453716443537 \n",
      "Median Absolute Score :   1389.0250673776336 \n",
      "Explained Variance Score :   0.3091418214240176\n"
     ]
    }
   ],
   "source": [
    "from sklearn.ensemble import AdaBoostRegressor\n",
    "\n",
    "abr = AdaBoostRegressor() \n",
    "\n",
    "abr.fit(X_train,y_train)\n",
    "\n",
    "y_pred = abr.predict(X_test)\n",
    "\n",
    "scr = abr.score(X_test,y_test)\n",
    "\n",
    "mean_abs_error,mean_sq_error,root_mean_sq_error,r2_scr,median_abs_score,explained_variance = evaluate_metrics(X_test,y_test,y_pred,abr)\n",
    "\n",
    "print(\"METRICS  :\\n\\nMean Absolute Error :  \",mean_abs_error,\"\\nScore :   \",scr,\"\\nMean Squared Error :  \",mean_sq_error,\"\\nRoot Mean Squared Error :  \",root_mean_sq_error,\"\\nR2 Square :  \",r2_scr,\"\\nMedian Absolute Score :  \",median_abs_score,\"\\nExplained Variance Score :  \",explained_variance)    "
   ]
  },
  {
   "cell_type": "code",
   "execution_count": 80,
   "metadata": {},
   "outputs": [
    {
     "name": "stdout",
     "output_type": "stream",
     "text": [
      "Collecting xgboost\n",
      "  Downloading xgboost-1.5.2-py3-none-win_amd64.whl (106.6 MB)\n",
      "Requirement already satisfied: numpy in d:\\anaconda\\lib\\site-packages (from xgboost) (1.20.3)\n",
      "Requirement already satisfied: scipy in d:\\anaconda\\lib\\site-packages (from xgboost) (1.7.1)\n",
      "Installing collected packages: xgboost\n",
      "Successfully installed xgboost-1.5.2\n"
     ]
    }
   ],
   "source": [
    "!pip install xgboost"
   ]
  },
  {
   "cell_type": "code",
   "execution_count": 81,
   "metadata": {},
   "outputs": [],
   "source": [
    "import xgboost as xgb"
   ]
  },
  {
   "cell_type": "code",
   "execution_count": 37,
   "metadata": {},
   "outputs": [
    {
     "data": {
      "text/plain": [
       "(4451689, 17)"
      ]
     },
     "execution_count": 37,
     "metadata": {},
     "output_type": "execute_result"
    }
   ],
   "source": [
    "test_data.shape"
   ]
  },
  {
   "cell_type": "code",
   "execution_count": 42,
   "metadata": {},
   "outputs": [],
   "source": [
    "X_testdata=test_data.drop(['Purchase Time'],axis=1)\n"
   ]
  },
  {
   "cell_type": "code",
   "execution_count": 43,
   "metadata": {},
   "outputs": [],
   "source": [
    "X_testdata2=X_testdata.values"
   ]
  },
  {
   "cell_type": "code",
   "execution_count": 32,
   "metadata": {},
   "outputs": [],
   "source": [
    "import xgboost as xgb"
   ]
  },
  {
   "cell_type": "code",
   "execution_count": 33,
   "metadata": {},
   "outputs": [
    {
     "name": "stdout",
     "output_type": "stream",
     "text": [
      "METRICS  :\n",
      "\n",
      "Mean Absolute Error :   178.34391502114255 \n",
      "Score :    0.9745992358928175 \n",
      "Mean Squared Error :   177085.66616702368 \n",
      "Root Mean Squared Error :   420.8154775754139 \n",
      "R2 Square :   0.9745992358928175 \n",
      "Median Absolute Score :   65.38671875 \n",
      "Explained Variance Score :   0.9745992790140003\n"
     ]
    }
   ],
   "source": [
    "xgb_model = xgb.XGBRegressor(max_depth = 12,eta = 0.3,n_estimators = 100,objective = 'reg:squarederror',gamma = 0.01)\n",
    "xgb_model.fit(X_train,y_train)\n",
    "\n",
    "y_pred = xgb_model.predict(X_test)\n",
    "\n",
    "scr = xgb_model.score(X_test,y_test)\n",
    "\n",
    "mean_abs_error,mean_sq_error,root_mean_sq_error,r2_scr,median_abs_score,explained_variance = evaluate_metrics(X_test,y_test,y_pred,xgb_model)\n",
    "\n",
    "print(\"METRICS  :\\n\\nMean Absolute Error :  \",mean_abs_error,\"\\nScore :   \",scr,\"\\nMean Squared Error :  \",mean_sq_error,\"\\nRoot Mean Squared Error :  \",root_mean_sq_error,\"\\nR2 Square :  \",r2_scr,\"\\nMedian Absolute Score :  \",median_abs_score,\"\\nExplained Variance Score :  \",explained_variance)    "
   ]
  },
  {
   "cell_type": "markdown",
   "metadata": {},
   "source": [
    "As can be seen above, xg boost regressor is giving the best output therefore we are going to retrain it and find predictions using test data"
   ]
  },
  {
   "cell_type": "code",
   "execution_count": null,
   "metadata": {},
   "outputs": [],
   "source": []
  },
  {
   "cell_type": "code",
   "execution_count": 44,
   "metadata": {},
   "outputs": [],
   "source": [
    "y_pred2=xgb_model.predict(X_testdata2)"
   ]
  },
  {
   "cell_type": "code",
   "execution_count": 45,
   "metadata": {},
   "outputs": [
    {
     "data": {
      "text/plain": [
       "array([14504.444, 14504.444, 14548.872, ..., 10542.271, 10542.271,\n",
       "       10542.271], dtype=float32)"
      ]
     },
     "execution_count": 45,
     "metadata": {},
     "output_type": "execute_result"
    }
   ],
   "source": [
    "y_pred2"
   ]
  },
  {
   "cell_type": "code",
   "execution_count": 46,
   "metadata": {},
   "outputs": [],
   "source": [
    "np.savetxt(\"predictions_Areena.txt\", y_pred2)"
   ]
  },
  {
   "cell_type": "code",
   "execution_count": null,
   "metadata": {},
   "outputs": [],
   "source": []
  }
 ],
 "metadata": {
  "colab": {
   "collapsed_sections": [],
   "name": "SastaTicket",
   "provenance": []
  },
  "kernelspec": {
   "display_name": "Python 3 (ipykernel)",
   "language": "python",
   "name": "python3"
  },
  "language_info": {
   "codemirror_mode": {
    "name": "ipython",
    "version": 3
   },
   "file_extension": ".py",
   "mimetype": "text/x-python",
   "name": "python",
   "nbconvert_exporter": "python",
   "pygments_lexer": "ipython3",
   "version": "3.9.7"
  }
 },
 "nbformat": 4,
 "nbformat_minor": 1
}
